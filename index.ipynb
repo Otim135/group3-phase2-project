{
 "cells": [
  {
   "cell_type": "markdown",
   "metadata": {},
   "source": [
    "# Final Analysis: IMDb and Financial Data Integration\n",
    "\n",
    "## Business Understanding\n",
    "\n",
    "### Objective\n",
    "This project analyzes the intersection of audience preferences (IMDb ratings) and financial performance (budgets and revenue) to derive actionable insights for movie studios. By merging IMDb data with TMDb and budget datasets, we aim to:\n",
    "- Identify the most profitable genres and their audience ratings.\n",
    "- Correlate financial performance with popularity and ratings.\n",
    "- Offer genre and studio strategies for maximum ROI.\n",
    "\n",
    "### Data Sources\n",
    "1. **IMDb Database**:\n",
    "   - Contains movie ratings, genres, and key details.\n",
    "2. **TMDb Dataset**:\n",
    "   - Includes popularity metrics and genre encodings.\n",
    "3. **Budget Dataset**:\n",
    "   - Provides production budgets, domestic, and worldwide revenue.\n",
    "\n"
   ]
  },
  {
   "cell_type": "markdown",
   "metadata": {},
   "source": [
    "## CRISP-DM Framework\n",
    "\n",
    "1. **Business Understanding**: Define the objectives and questions.\n",
    "2. **Data Understanding**: Explore the datasets to understand their structure and content.\n",
    "3. **Data Preparation**: Clean, transform, and merge data for analysis.\n",
    "4. **Modeling/Analysis**: Uncover trends and correlations through visualizations and metrics.\n",
    "5. **Evaluation**: Summarize key findings and actionable insights.\n",
    "6. **Deployment**: Present the final results in a structured manner.\n",
    "\n",
    "### Let's begin with data understanding and preparation.\n"
   ]
  },
  {
   "cell_type": "markdown",
   "metadata": {},
   "source": [
    "## Data Understanding\n",
    "\n",
    "We work with the following datasets:\n",
    "- **IMDb Database**: Contains movie ratings and genres.\n",
    "- **TMDb Data**: Offers genre encodings, popularity scores, and audience ratings.\n",
    "- **Budget Data**: Includes production budgets, domestic, and worldwide revenue.\n",
    "\n",
    "The datasets will be merged using movie titles and release years."
   ]
  },
  {
   "cell_type": "markdown",
   "metadata": {},
   "source": [
    "## Data Preparation\n",
    "\n",
    "### Steps:\n",
    "1. Clean and format financial and popularity data (TMDb and budget datasets).\n",
    "2. Extract relevant information from the IMDb database (`movie_basics` and `movie_ratings`).\n",
    "3. Merge all datasets on movie titles and release years for a unified analysis base.\n",
    "\n",
    "### Code Implementation:\n"
   ]
  },
  {
   "cell_type": "code",
   "execution_count": 1,
   "metadata": {},
   "outputs": [],
   "source": [
    "#install all libraries to be used\n",
    "import pandas as pd\n",
    "import numpy as np\n",
    "import seaborn as sns\n",
    "sns.set_style('whitegrid')\n",
    "import scipy as sp\n",
    "import scipy.stats as st\n",
    "import sqlite3\n",
    "from zipfile import ZipFile\n",
    "import os\n",
    "import statsmodels.api as sm\n",
    "from matplotlib.colors import ListedColormap\n",
    "from statsmodels.stats.power import TTestIndPower, TTestPower\n",
    "import statsmodels.formula as smf\n",
    "import matplotlib.pyplot as plt\n",
    "%matplotlib inline\n",
    "import plotly.express as px\n",
    "# Ignore all warnings\n",
    "import warnings\n",
    "warnings.filterwarnings('ignore')"
   ]
  },
  {
   "cell_type": "code",
   "execution_count": 5,
   "metadata": {},
   "outputs": [],
   "source": [
    "# Load financial datasets\n",
    "tmdb_movies_path = \"C:\\\\Projects\\\\group3-phase2-project\\\\data\\\\tmdb.movies.csv\"\n",
    "movie_budgets_path = \"C:\\\\Projects\\\\group3-phase2-project\\\\data\\\\tn.movie_budgets.csv\"\n",
    "\n",
    "df_tmdb_movies = pd.read_csv(tmdb_movies_path, encoding='latin1')\n",
    "df_movie_budgets = pd.read_csv(movie_budgets_path, encoding='latin1')"
   ]
  },
  {
   "cell_type": "code",
   "execution_count": 6,
   "metadata": {},
   "outputs": [],
   "source": [
    "# Clean financial data\n",
    "def clean_currency(column):\n",
    "    return column.replace({'\\$': '', ',': ''}, regex=True).astype(float)\n",
    "\n",
    "df_movie_budgets['production_budget'] = clean_currency(df_movie_budgets['production_budget'])\n",
    "df_movie_budgets['domestic_gross'] = clean_currency(df_movie_budgets['domestic_gross'])\n",
    "df_movie_budgets['worldwide_gross'] = clean_currency(df_movie_budgets['worldwide_gross'])\n"
   ]
  },
  {
   "cell_type": "code",
   "execution_count": 7,
   "metadata": {},
   "outputs": [],
   "source": [
    "# Standardize release_date\n",
    "df_movie_budgets['release_date'] = pd.to_datetime(df_movie_budgets['release_date'], errors='coerce')\n",
    "df_tmdb_movies['release_date'] = pd.to_datetime(df_tmdb_movies['release_date'], errors='coerce')"
   ]
  },
  {
   "cell_type": "code",
   "execution_count": 8,
   "metadata": {},
   "outputs": [],
   "source": [
    "# Extract release year\n",
    "df_movie_budgets['release_year'] = df_movie_budgets['release_date'].dt.year\n",
    "df_tmdb_movies['release_year'] = df_tmdb_movies['release_date'].dt.year"
   ]
  },
  {
   "cell_type": "code",
   "execution_count": 9,
   "metadata": {},
   "outputs": [],
   "source": [
    "# Merge TMDb and budget datasets\n",
    "merged_df = pd.merge(\n",
    "    df_tmdb_movies,\n",
    "    df_movie_budgets,\n",
    "    how='inner',\n",
    "    left_on=['title', 'release_year'],\n",
    "    right_on=['movie', 'release_year']\n",
    ")\n"
   ]
  },
  {
   "cell_type": "code",
   "execution_count": 14,
   "metadata": {},
   "outputs": [
    {
     "name": "stdout",
     "output_type": "stream",
     "text": [
      "Extraction completed.\n"
     ]
    }
   ],
   "source": [
    "import zipfile\n",
    "import os\n",
    "\n",
    "# Define paths\n",
    "imdb_db_path = r\"C:\\Projects\\group3-phase2-project\\data\\im.db.zip\"\n",
    "extracted_dir = r\"C:\\Projects\\group3-phase2-project\\data\\extracted\"\n",
    "\n",
    "# Create the directory if it does not exist\n",
    "os.makedirs(extracted_dir, exist_ok=True)\n",
    "\n",
    "# Unzip the file\n",
    "with zipfile.ZipFile(zip_file_path, \"r\") as zip_ref:\n",
    "    zip_ref.extractall(extracted_dir)\n",
    "\n",
    "print(\"Extraction completed.\")\n"
   ]
  },
  {
   "cell_type": "code",
   "execution_count": 18,
   "metadata": {},
   "outputs": [
    {
     "name": "stdout",
     "output_type": "stream",
     "text": [
      "Tables in the database: [('movie_basics',), ('directors',), ('known_for',), ('movie_akas',), ('movie_ratings',), ('persons',), ('principals',), ('writers',)]\n",
      "    movie_id                    primary_title  start_year  \\\n",
      "0  tt0063540                        Sunghursh        2013   \n",
      "1  tt0066787  One Day Before the Rainy Season        2019   \n",
      "2  tt0069049       The Other Side of the Wind        2018   \n",
      "3  tt0069204                  Sabse Bada Sukh        2018   \n",
      "4  tt0100275         The Wandering Soap Opera        2017   \n",
      "\n",
      "                 genres  \n",
      "0    Action,Crime,Drama  \n",
      "1       Biography,Drama  \n",
      "2                 Drama  \n",
      "3          Comedy,Drama  \n",
      "4  Comedy,Drama,Fantasy  \n",
      "     movie_id  averagerating  numvotes\n",
      "0  tt10356526            8.3        31\n",
      "1  tt10384606            8.9       559\n",
      "2   tt1042974            6.4        20\n",
      "3   tt1043726            4.2     50352\n",
      "4   tt1060240            6.5        21\n"
     ]
    }
   ],
   "source": [
    "# Define the database path\n",
    "imdb_db_path = r\"C:\\Projects\\group3-phase2-project\\data\\extracted\\im.db\"\n",
    "\n",
    "# Connect to the database\n",
    "conn = sqlite3.connect(imdb_db_path)\n",
    "\n",
    "# Test the connection\n",
    "cursor = conn.cursor()\n",
    "cursor.execute(\"SELECT name FROM sqlite_master WHERE type='table';\")\n",
    "tables = cursor.fetchall()\n",
    "print(\"Tables in the database:\", tables)\n",
    "\n",
    "# Query data from the tables\n",
    "movie_basics_query = \"SELECT * FROM movie_basics;\"\n",
    "movie_ratings_query = \"SELECT * FROM movie_ratings;\"\n",
    "\n",
    "movie_basics = pd.read_sql_query(movie_basics_query, conn)[['movie_id', 'primary_title', 'start_year', 'genres']]\n",
    "movie_ratings = pd.read_sql_query(movie_ratings_query, conn)\n",
    "\n",
    "# Preview the data\n",
    "print(movie_basics.head())\n",
    "print(movie_ratings.head())\n"
   ]
  },
  {
   "cell_type": "code",
   "execution_count": 19,
   "metadata": {},
   "outputs": [],
   "source": [
    "# Rename and merge IMDb data\n",
    "movie_basics = movie_basics.rename(columns={'primary_title': 'title', 'start_year': 'release_year', 'genres': 'imdb_genres'})\n",
    "imdb_merged = pd.merge(movie_basics, movie_ratings, on='movie_id', how='inner')"
   ]
  },
  {
   "cell_type": "code",
   "execution_count": null,
   "metadata": {},
   "outputs": [],
   "source": [
    "\n",
    "\n",
    "\n",
    "\n",
    "\n",
    "\n",
    "\n",
    "# Rename and merge IMDb data\n",
    "movie_basics = movie_basics.rename(columns={'primary_title': 'title', 'start_year': 'release_year', 'genres': 'imdb_genres'})\n",
    "imdb_merged = pd.merge(movie_basics, movie_ratings, on='movie_id', how='inner')\n",
    "\n",
    "final_merged_df = pd.merge(\n",
    "    merged_df,\n",
    "    imdb_merged,\n",
    "    how='inner',\n",
    "    left_on=['title', 'release_year'],\n",
    "    right_on=['title', 'release_year']\n",
    ")\n",
    "\n",
    "# Add metrics\n",
    "final_merged_df['profitability'] = final_merged_df['worldwide_gross'] - final_merged_df['production_budget']\n",
    "final_merged_df['ROI'] = (final_merged_df['worldwide_gross'] - final_merged_df['production_budget']) / final_merged_df['production_budget']\n",
    "\n",
    "final_merged_df.head()"
   ]
  }
 ],
 "metadata": {
  "kernelspec": {
   "display_name": "learn-env",
   "language": "python",
   "name": "python3"
  },
  "language_info": {
   "codemirror_mode": {
    "name": "ipython",
    "version": 3
   },
   "file_extension": ".py",
   "mimetype": "text/x-python",
   "name": "python",
   "nbconvert_exporter": "python",
   "pygments_lexer": "ipython3",
   "version": "3.8.5"
  }
 },
 "nbformat": 4,
 "nbformat_minor": 2
}
