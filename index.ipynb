{
 "cells": [
  {
   "cell_type": "markdown",
   "metadata": {},
   "source": [
    "# Final Analysis: IMDb and Financial Data Integration\n",
    "\n",
    "## Business Understanding\n",
    "\n",
    "### Objective\n",
    "This project analyzes the intersection of audience preferences (IMDb ratings) and financial performance (budgets and revenue) to derive actionable insights for movie studios. By merging IMDb data with TMDb and budget datasets, we aim to:\n",
    "- Identify the most profitable genres and their audience ratings.\n",
    "- Correlate financial performance with popularity and ratings.\n",
    "- Offer genre and studio strategies for maximum ROI.\n",
    "\n",
    "### Data Sources\n",
    "1. **IMDb Database**:\n",
    "   - Contains movie ratings, genres, and key details.\n",
    "2. **TMDb Dataset**:\n",
    "   - Includes popularity metrics and genre encodings.\n",
    "3. **Budget Dataset**:\n",
    "   - Provides production budgets, domestic, and worldwide revenue.\n",
    "\n"
   ]
  },
  {
   "cell_type": "markdown",
   "metadata": {},
   "source": [
    "## CRISP-DM Framework\n",
    "\n",
    "1. **Business Understanding**: Define the objectives and questions.\n",
    "2. **Data Understanding**: Explore the datasets to understand their structure and content.\n",
    "3. **Data Preparation**: Clean, transform, and merge data for analysis.\n",
    "4. **Modeling/Analysis**: Uncover trends and correlations through visualizations and metrics.\n",
    "5. **Evaluation**: Summarize key findings and actionable insights.\n",
    "6. **Deployment**: Present the final results in a structured manner.\n",
    "\n",
    "### Let's begin with data understanding and preparation.\n"
   ]
  },
  {
   "cell_type": "markdown",
   "metadata": {},
   "source": [
    "## Data Understanding\n",
    "\n",
    "We work with the following datasets:\n",
    "- **IMDb Database**: Contains movie ratings and genres.\n",
    "- **TMDb Data**: Offers genre encodings, popularity scores, and audience ratings.\n",
    "- **Budget Data**: Includes production budgets, domestic, and worldwide revenue.\n",
    "\n",
    "The datasets will be merged using movie titles and release years."
   ]
  },
  {
   "cell_type": "markdown",
   "metadata": {},
   "source": [
    "## Data Preparation\n",
    "\n",
    "### Steps:\n",
    "1. Clean and format financial and popularity data (TMDb and budget datasets).\n",
    "2. Extract relevant information from the IMDb database (`movie_basics` and `movie_ratings`).\n",
    "3. Merge all datasets on movie titles and release years for a unified analysis base.\n",
    "\n",
    "### Code Implementation:\n"
   ]
  },
  {
   "cell_type": "code",
   "execution_count": 1,
   "metadata": {},
   "outputs": [],
   "source": [
    "#install all libraries to be used\n",
    "import pandas as pd\n",
    "import numpy as np\n",
    "import seaborn as sns\n",
    "sns.set_style('whitegrid')\n",
    "import scipy as sp\n",
    "import scipy.stats as st\n",
    "import sqlite3\n",
    "from zipfile import ZipFile\n",
    "import os\n",
    "import statsmodels.api as sm\n",
    "from matplotlib.colors import ListedColormap\n",
    "from statsmodels.stats.power import TTestIndPower, TTestPower\n",
    "import statsmodels.formula as smf\n",
    "import matplotlib.pyplot as plt\n",
    "%matplotlib inline\n",
    "import plotly.express as px\n",
    "# Ignore all warnings\n",
    "import warnings\n",
    "warnings.filterwarnings('ignore')"
   ]
  },
  {
   "cell_type": "code",
   "execution_count": 5,
   "metadata": {},
   "outputs": [],
   "source": [
    "# Load financial datasets\n",
    "tmdb_movies_path = \"C:\\\\Projects\\\\group3-phase2-project\\\\data\\\\tmdb.movies.csv\"\n",
    "movie_budgets_path = \"C:\\\\Projects\\\\group3-phase2-project\\\\data\\\\tn.movie_budgets.csv\"\n",
    "\n",
    "df_tmdb_movies = pd.read_csv(tmdb_movies_path, encoding='latin1')\n",
    "df_movie_budgets = pd.read_csv(movie_budgets_path, encoding='latin1')"
   ]
  },
  {
   "cell_type": "code",
   "execution_count": 6,
   "metadata": {},
   "outputs": [],
   "source": [
    "# Clean financial data\n",
    "def clean_currency(column):\n",
    "    return column.replace({'\\$': '', ',': ''}, regex=True).astype(float)\n",
    "\n",
    "df_movie_budgets['production_budget'] = clean_currency(df_movie_budgets['production_budget'])\n",
    "df_movie_budgets['domestic_gross'] = clean_currency(df_movie_budgets['domestic_gross'])\n",
    "df_movie_budgets['worldwide_gross'] = clean_currency(df_movie_budgets['worldwide_gross'])\n"
   ]
  },
  {
   "cell_type": "code",
   "execution_count": 7,
   "metadata": {},
   "outputs": [],
   "source": [
    "# Standardize release_date\n",
    "df_movie_budgets['release_date'] = pd.to_datetime(df_movie_budgets['release_date'], errors='coerce')\n",
    "df_tmdb_movies['release_date'] = pd.to_datetime(df_tmdb_movies['release_date'], errors='coerce')"
   ]
  },
  {
   "cell_type": "code",
   "execution_count": 8,
   "metadata": {},
   "outputs": [],
   "source": [
    "# Extract release year\n",
    "df_movie_budgets['release_year'] = df_movie_budgets['release_date'].dt.year\n",
    "df_tmdb_movies['release_year'] = df_tmdb_movies['release_date'].dt.year"
   ]
  },
  {
   "cell_type": "code",
   "execution_count": 9,
   "metadata": {},
   "outputs": [],
   "source": [
    "# Merge TMDb and budget datasets\n",
    "merged_df = pd.merge(\n",
    "    df_tmdb_movies,\n",
    "    df_movie_budgets,\n",
    "    how='inner',\n",
    "    left_on=['title', 'release_year'],\n",
    "    right_on=['movie', 'release_year']\n",
    ")\n"
   ]
  },
  {
   "cell_type": "code",
   "execution_count": 14,
   "metadata": {},
   "outputs": [
    {
     "name": "stdout",
     "output_type": "stream",
     "text": [
      "Extraction completed.\n"
     ]
    }
   ],
   "source": [
    "import zipfile\n",
    "import os\n",
    "\n",
    "# Define paths\n",
    "imdb_db_path = r\"C:\\Projects\\group3-phase2-project\\data\\im.db.zip\"\n",
    "extracted_dir = r\"C:\\Projects\\group3-phase2-project\\data\\extracted\"\n",
    "\n",
    "# Create the directory if it does not exist\n",
    "os.makedirs(extracted_dir, exist_ok=True)\n",
    "\n",
    "# Unzip the file\n",
    "with zipfile.ZipFile(zip_file_path, \"r\") as zip_ref:\n",
    "    zip_ref.extractall(extracted_dir)\n",
    "\n",
    "print(\"Extraction completed.\")\n"
   ]
  },
  {
   "cell_type": "code",
   "execution_count": 18,
   "metadata": {},
   "outputs": [
    {
     "name": "stdout",
     "output_type": "stream",
     "text": [
      "Tables in the database: [('movie_basics',), ('directors',), ('known_for',), ('movie_akas',), ('movie_ratings',), ('persons',), ('principals',), ('writers',)]\n",
      "    movie_id                    primary_title  start_year  \\\n",
      "0  tt0063540                        Sunghursh        2013   \n",
      "1  tt0066787  One Day Before the Rainy Season        2019   \n",
      "2  tt0069049       The Other Side of the Wind        2018   \n",
      "3  tt0069204                  Sabse Bada Sukh        2018   \n",
      "4  tt0100275         The Wandering Soap Opera        2017   \n",
      "\n",
      "                 genres  \n",
      "0    Action,Crime,Drama  \n",
      "1       Biography,Drama  \n",
      "2                 Drama  \n",
      "3          Comedy,Drama  \n",
      "4  Comedy,Drama,Fantasy  \n",
      "     movie_id  averagerating  numvotes\n",
      "0  tt10356526            8.3        31\n",
      "1  tt10384606            8.9       559\n",
      "2   tt1042974            6.4        20\n",
      "3   tt1043726            4.2     50352\n",
      "4   tt1060240            6.5        21\n"
     ]
    }
   ],
   "source": [
    "# Define the database path\n",
    "imdb_db_path = r\"C:\\Projects\\group3-phase2-project\\data\\extracted\\im.db\"\n",
    "\n",
    "# Connect to the database\n",
    "conn = sqlite3.connect(imdb_db_path)\n",
    "\n",
    "# Test the connection\n",
    "cursor = conn.cursor()\n",
    "cursor.execute(\"SELECT name FROM sqlite_master WHERE type='table';\")\n",
    "tables = cursor.fetchall()\n",
    "print(\"Tables in the database:\", tables)\n",
    "\n",
    "# Query data from the tables\n",
    "movie_basics_query = \"SELECT * FROM movie_basics;\"\n",
    "movie_ratings_query = \"SELECT * FROM movie_ratings;\"\n",
    "\n",
    "movie_basics = pd.read_sql_query(movie_basics_query, conn)[['movie_id', 'primary_title', 'start_year', 'genres']]\n",
    "movie_ratings = pd.read_sql_query(movie_ratings_query, conn)\n",
    "\n",
    "# Preview the data\n",
    "print(movie_basics.head())\n",
    "print(movie_ratings.head())\n"
   ]
  },
  {
   "cell_type": "code",
   "execution_count": 19,
   "metadata": {},
   "outputs": [],
   "source": [
    "# Rename and merge IMDb data\n",
    "movie_basics = movie_basics.rename(columns={'primary_title': 'title', 'start_year': 'release_year', 'genres': 'imdb_genres'})\n",
    "imdb_merged = pd.merge(movie_basics, movie_ratings, on='movie_id', how='inner')"
   ]
  },
  {
   "cell_type": "code",
   "execution_count": 20,
   "metadata": {},
   "outputs": [],
   "source": [
    "final_merged_df = pd.merge(\n",
    "    merged_df,\n",
    "    imdb_merged,\n",
    "    how='inner',\n",
    "    left_on=['title', 'release_year'],\n",
    "    right_on=['title', 'release_year']\n",
    ")"
   ]
  },
  {
   "cell_type": "code",
   "execution_count": 21,
   "metadata": {},
   "outputs": [
    {
     "data": {
      "text/html": [
       "<div>\n",
       "<style scoped>\n",
       "    .dataframe tbody tr th:only-of-type {\n",
       "        vertical-align: middle;\n",
       "    }\n",
       "\n",
       "    .dataframe tbody tr th {\n",
       "        vertical-align: top;\n",
       "    }\n",
       "\n",
       "    .dataframe thead th {\n",
       "        text-align: right;\n",
       "    }\n",
       "</style>\n",
       "<table border=\"1\" class=\"dataframe\">\n",
       "  <thead>\n",
       "    <tr style=\"text-align: right;\">\n",
       "      <th></th>\n",
       "      <th>Unnamed: 0</th>\n",
       "      <th>genre_ids</th>\n",
       "      <th>id_x</th>\n",
       "      <th>original_language</th>\n",
       "      <th>original_title</th>\n",
       "      <th>popularity</th>\n",
       "      <th>release_date_x</th>\n",
       "      <th>title</th>\n",
       "      <th>vote_average</th>\n",
       "      <th>vote_count</th>\n",
       "      <th>...</th>\n",
       "      <th>movie</th>\n",
       "      <th>production_budget</th>\n",
       "      <th>domestic_gross</th>\n",
       "      <th>worldwide_gross</th>\n",
       "      <th>movie_id</th>\n",
       "      <th>imdb_genres</th>\n",
       "      <th>averagerating</th>\n",
       "      <th>numvotes</th>\n",
       "      <th>profitability</th>\n",
       "      <th>ROI</th>\n",
       "    </tr>\n",
       "  </thead>\n",
       "  <tbody>\n",
       "    <tr>\n",
       "      <th>0</th>\n",
       "      <td>1</td>\n",
       "      <td>[14, 12, 16, 10751]</td>\n",
       "      <td>10191</td>\n",
       "      <td>en</td>\n",
       "      <td>How to Train Your Dragon</td>\n",
       "      <td>28.734</td>\n",
       "      <td>2010-03-26</td>\n",
       "      <td>How to Train Your Dragon</td>\n",
       "      <td>7.7</td>\n",
       "      <td>7610</td>\n",
       "      <td>...</td>\n",
       "      <td>How to Train Your Dragon</td>\n",
       "      <td>165000000.0</td>\n",
       "      <td>217581232.0</td>\n",
       "      <td>4.948710e+08</td>\n",
       "      <td>tt0892769</td>\n",
       "      <td>Action,Adventure,Animation</td>\n",
       "      <td>8.1</td>\n",
       "      <td>611299</td>\n",
       "      <td>329870992.0</td>\n",
       "      <td>1.999218</td>\n",
       "    </tr>\n",
       "    <tr>\n",
       "      <th>1</th>\n",
       "      <td>2</td>\n",
       "      <td>[12, 28, 878]</td>\n",
       "      <td>10138</td>\n",
       "      <td>en</td>\n",
       "      <td>Iron Man 2</td>\n",
       "      <td>28.515</td>\n",
       "      <td>2010-05-07</td>\n",
       "      <td>Iron Man 2</td>\n",
       "      <td>6.8</td>\n",
       "      <td>12368</td>\n",
       "      <td>...</td>\n",
       "      <td>Iron Man 2</td>\n",
       "      <td>170000000.0</td>\n",
       "      <td>312433331.0</td>\n",
       "      <td>6.211564e+08</td>\n",
       "      <td>tt1228705</td>\n",
       "      <td>Action,Adventure,Sci-Fi</td>\n",
       "      <td>7.0</td>\n",
       "      <td>657690</td>\n",
       "      <td>451156389.0</td>\n",
       "      <td>2.653861</td>\n",
       "    </tr>\n",
       "    <tr>\n",
       "      <th>2</th>\n",
       "      <td>4</td>\n",
       "      <td>[28, 878, 12]</td>\n",
       "      <td>27205</td>\n",
       "      <td>en</td>\n",
       "      <td>Inception</td>\n",
       "      <td>27.920</td>\n",
       "      <td>2010-07-16</td>\n",
       "      <td>Inception</td>\n",
       "      <td>8.3</td>\n",
       "      <td>22186</td>\n",
       "      <td>...</td>\n",
       "      <td>Inception</td>\n",
       "      <td>160000000.0</td>\n",
       "      <td>292576195.0</td>\n",
       "      <td>8.355246e+08</td>\n",
       "      <td>tt1375666</td>\n",
       "      <td>Action,Adventure,Sci-Fi</td>\n",
       "      <td>8.8</td>\n",
       "      <td>1841066</td>\n",
       "      <td>675524642.0</td>\n",
       "      <td>4.222029</td>\n",
       "    </tr>\n",
       "    <tr>\n",
       "      <th>3</th>\n",
       "      <td>5</td>\n",
       "      <td>[12, 14, 10751]</td>\n",
       "      <td>32657</td>\n",
       "      <td>en</td>\n",
       "      <td>Percy Jackson &amp; the Olympians: The Lightning T...</td>\n",
       "      <td>26.691</td>\n",
       "      <td>2010-02-11</td>\n",
       "      <td>Percy Jackson &amp; the Olympians: The Lightning T...</td>\n",
       "      <td>6.1</td>\n",
       "      <td>4229</td>\n",
       "      <td>...</td>\n",
       "      <td>Percy Jackson &amp; the Olympians: The Lightning T...</td>\n",
       "      <td>95000000.0</td>\n",
       "      <td>88768303.0</td>\n",
       "      <td>2.230509e+08</td>\n",
       "      <td>tt0814255</td>\n",
       "      <td>Adventure,Family,Fantasy</td>\n",
       "      <td>5.9</td>\n",
       "      <td>165108</td>\n",
       "      <td>128050874.0</td>\n",
       "      <td>1.347904</td>\n",
       "    </tr>\n",
       "    <tr>\n",
       "      <th>4</th>\n",
       "      <td>7</td>\n",
       "      <td>[16, 10751, 35]</td>\n",
       "      <td>10193</td>\n",
       "      <td>en</td>\n",
       "      <td>Toy Story 3</td>\n",
       "      <td>24.445</td>\n",
       "      <td>2010-06-17</td>\n",
       "      <td>Toy Story 3</td>\n",
       "      <td>7.7</td>\n",
       "      <td>8340</td>\n",
       "      <td>...</td>\n",
       "      <td>Toy Story 3</td>\n",
       "      <td>200000000.0</td>\n",
       "      <td>415004880.0</td>\n",
       "      <td>1.068880e+09</td>\n",
       "      <td>tt0435761</td>\n",
       "      <td>Adventure,Animation,Comedy</td>\n",
       "      <td>8.3</td>\n",
       "      <td>682218</td>\n",
       "      <td>868879522.0</td>\n",
       "      <td>4.344398</td>\n",
       "    </tr>\n",
       "  </tbody>\n",
       "</table>\n",
       "<p>5 rows × 23 columns</p>\n",
       "</div>"
      ],
      "text/plain": [
       "   Unnamed: 0            genre_ids   id_x original_language  \\\n",
       "0           1  [14, 12, 16, 10751]  10191                en   \n",
       "1           2        [12, 28, 878]  10138                en   \n",
       "2           4        [28, 878, 12]  27205                en   \n",
       "3           5      [12, 14, 10751]  32657                en   \n",
       "4           7      [16, 10751, 35]  10193                en   \n",
       "\n",
       "                                      original_title  popularity  \\\n",
       "0                           How to Train Your Dragon      28.734   \n",
       "1                                         Iron Man 2      28.515   \n",
       "2                                          Inception      27.920   \n",
       "3  Percy Jackson & the Olympians: The Lightning T...      26.691   \n",
       "4                                        Toy Story 3      24.445   \n",
       "\n",
       "  release_date_x                                              title  \\\n",
       "0     2010-03-26                           How to Train Your Dragon   \n",
       "1     2010-05-07                                         Iron Man 2   \n",
       "2     2010-07-16                                          Inception   \n",
       "3     2010-02-11  Percy Jackson & the Olympians: The Lightning T...   \n",
       "4     2010-06-17                                        Toy Story 3   \n",
       "\n",
       "   vote_average  vote_count  ...  \\\n",
       "0           7.7        7610  ...   \n",
       "1           6.8       12368  ...   \n",
       "2           8.3       22186  ...   \n",
       "3           6.1        4229  ...   \n",
       "4           7.7        8340  ...   \n",
       "\n",
       "                                               movie  production_budget  \\\n",
       "0                           How to Train Your Dragon        165000000.0   \n",
       "1                                         Iron Man 2        170000000.0   \n",
       "2                                          Inception        160000000.0   \n",
       "3  Percy Jackson & the Olympians: The Lightning T...         95000000.0   \n",
       "4                                        Toy Story 3        200000000.0   \n",
       "\n",
       "  domestic_gross worldwide_gross   movie_id                 imdb_genres  \\\n",
       "0    217581232.0    4.948710e+08  tt0892769  Action,Adventure,Animation   \n",
       "1    312433331.0    6.211564e+08  tt1228705     Action,Adventure,Sci-Fi   \n",
       "2    292576195.0    8.355246e+08  tt1375666     Action,Adventure,Sci-Fi   \n",
       "3     88768303.0    2.230509e+08  tt0814255    Adventure,Family,Fantasy   \n",
       "4    415004880.0    1.068880e+09  tt0435761  Adventure,Animation,Comedy   \n",
       "\n",
       "   averagerating numvotes profitability       ROI  \n",
       "0            8.1   611299   329870992.0  1.999218  \n",
       "1            7.0   657690   451156389.0  2.653861  \n",
       "2            8.8  1841066   675524642.0  4.222029  \n",
       "3            5.9   165108   128050874.0  1.347904  \n",
       "4            8.3   682218   868879522.0  4.344398  \n",
       "\n",
       "[5 rows x 23 columns]"
      ]
     },
     "execution_count": 21,
     "metadata": {},
     "output_type": "execute_result"
    }
   ],
   "source": [
    "# Add metrics\n",
    "final_merged_df['profitability'] = final_merged_df['worldwide_gross'] - final_merged_df['production_budget']\n",
    "final_merged_df['ROI'] = (final_merged_df['worldwide_gross'] - final_merged_df['production_budget']) / final_merged_df['production_budget']\n",
    "\n",
    "final_merged_df.head()"
   ]
  },
  {
   "cell_type": "markdown",
   "metadata": {},
   "source": [
    "## Exploratory Data Analysis (EDA)\n",
    "\n",
    "### Objectives:\n",
    "1. Validate the completeness and integrity of the merged dataset.\n",
    "2. Analyze and visualize key metrics:\n",
    "   - Financial metrics: Profitability, ROI.\n",
    "   - Audience metrics: Ratings, vote counts.\n",
    "3. Investigate genre-based trends and correlations.\n",
    "\n"
   ]
  },
  {
   "cell_type": "code",
   "execution_count": 22,
   "metadata": {},
   "outputs": [
    {
     "name": "stdout",
     "output_type": "stream",
     "text": [
      "Dataset Shape: (1513, 23)\n",
      "Dataset Columns: Index(['Unnamed: 0', 'genre_ids', 'id_x', 'original_language',\n",
      "       'original_title', 'popularity', 'release_date_x', 'title',\n",
      "       'vote_average', 'vote_count', 'release_year', 'id_y', 'release_date_y',\n",
      "       'movie', 'production_budget', 'domestic_gross', 'worldwide_gross',\n",
      "       'movie_id', 'imdb_genres', 'averagerating', 'numvotes', 'profitability',\n",
      "       'ROI'],\n",
      "      dtype='object')\n"
     ]
    }
   ],
   "source": [
    "# Validate dataset structure\n",
    "print(\"Dataset Shape:\", final_merged_df.shape)\n",
    "print(\"Dataset Columns:\", final_merged_df.columns)"
   ]
  },
  {
   "cell_type": "code",
   "execution_count": 23,
   "metadata": {},
   "outputs": [
    {
     "name": "stdout",
     "output_type": "stream",
     "text": [
      "Missing Values:\n",
      " Unnamed: 0           0\n",
      "genre_ids            0\n",
      "id_x                 0\n",
      "original_language    0\n",
      "original_title       0\n",
      "popularity           0\n",
      "release_date_x       0\n",
      "title                0\n",
      "vote_average         0\n",
      "vote_count           0\n",
      "release_year         0\n",
      "id_y                 0\n",
      "release_date_y       0\n",
      "movie                0\n",
      "production_budget    0\n",
      "domestic_gross       0\n",
      "worldwide_gross      0\n",
      "movie_id             0\n",
      "imdb_genres          2\n",
      "averagerating        0\n",
      "numvotes             0\n",
      "profitability        0\n",
      "ROI                  0\n",
      "dtype: int64\n"
     ]
    }
   ],
   "source": [
    "# Check for missing values\n",
    "missing_values = final_merged_df.isnull().sum()\n",
    "print(\"Missing Values:\\n\", missing_values)\n"
   ]
  },
  {
   "cell_type": "code",
   "execution_count": 24,
   "metadata": {},
   "outputs": [
    {
     "name": "stdout",
     "output_type": "stream",
     "text": [
      "Rows with Missing imdb_genres:\n",
      "       Unnamed: 0     genre_ids    id_x original_language     original_title  \\\n",
      "83           140  [28, 35, 18]   27573                en  The Bounty Hunter   \n",
      "1402       23822  [12, 28, 53]  375588                en         Robin Hood   \n",
      "\n",
      "      popularity release_date_x              title  vote_average  vote_count  \\\n",
      "83         9.861     2010-03-19  The Bounty Hunter           5.7        1627   \n",
      "1402      39.975     2018-11-21         Robin Hood           5.8        1194   \n",
      "\n",
      "      ...              movie  production_budget domestic_gross  \\\n",
      "83    ...  The Bounty Hunter         45000000.0     67061228.0   \n",
      "1402  ...         Robin Hood         99000000.0     30824628.0   \n",
      "\n",
      "     worldwide_gross   movie_id  imdb_genres  averagerating numvotes  \\\n",
      "83       135808837.0  tt1472211         None            6.3       29   \n",
      "1402      84747441.0  tt6858500         None            7.6        5   \n",
      "\n",
      "     profitability       ROI  \n",
      "83      90808837.0  2.017974  \n",
      "1402   -14252559.0 -0.143965  \n",
      "\n",
      "[2 rows x 23 columns]\n",
      "Missing Values After Imputation:\n",
      " Unnamed: 0           0\n",
      "genre_ids            0\n",
      "id_x                 0\n",
      "original_language    0\n",
      "original_title       0\n",
      "popularity           0\n",
      "release_date_x       0\n",
      "title                0\n",
      "vote_average         0\n",
      "vote_count           0\n",
      "release_year         0\n",
      "id_y                 0\n",
      "release_date_y       0\n",
      "movie                0\n",
      "production_budget    0\n",
      "domestic_gross       0\n",
      "worldwide_gross      0\n",
      "movie_id             0\n",
      "imdb_genres          0\n",
      "averagerating        0\n",
      "numvotes             0\n",
      "profitability        0\n",
      "ROI                  0\n",
      "dtype: int64\n"
     ]
    }
   ],
   "source": [
    "# Check the rows with missing imdb_genres\n",
    "missing_genres = final_merged_df[final_merged_df['imdb_genres'].isnull()]\n",
    "print(\"Rows with Missing imdb_genres:\\n\", missing_genres)\n",
    "\n",
    "# Replace missing values in imdb_genres with 'Unknown'\n",
    "final_merged_df['imdb_genres'].fillna('Unknown', inplace=True)\n",
    "\n",
    "# Confirm that no missing values remain\n",
    "print(\"Missing Values After Imputation:\\n\", final_merged_df.isnull().sum())\n"
   ]
  },
  {
   "cell_type": "code",
   "execution_count": 25,
   "metadata": {},
   "outputs": [
    {
     "name": "stdout",
     "output_type": "stream",
     "text": [
      "Missing Values:\n",
      " Unnamed: 0           0\n",
      "genre_ids            0\n",
      "id_x                 0\n",
      "original_language    0\n",
      "original_title       0\n",
      "popularity           0\n",
      "release_date_x       0\n",
      "title                0\n",
      "vote_average         0\n",
      "vote_count           0\n",
      "release_year         0\n",
      "id_y                 0\n",
      "release_date_y       0\n",
      "movie                0\n",
      "production_budget    0\n",
      "domestic_gross       0\n",
      "worldwide_gross      0\n",
      "movie_id             0\n",
      "imdb_genres          0\n",
      "averagerating        0\n",
      "numvotes             0\n",
      "profitability        0\n",
      "ROI                  0\n",
      "dtype: int64\n"
     ]
    }
   ],
   "source": [
    "# Check for missing values\n",
    "missing_values = final_merged_df.isnull().sum()\n",
    "print(\"Missing Values:\\n\", missing_values)\n"
   ]
  },
  {
   "cell_type": "code",
   "execution_count": 26,
   "metadata": {},
   "outputs": [
    {
     "data": {
      "image/png": "[encoded data removed]",
      "text/plain": [
       "<Figure size 720x432 with 1 Axes>"
      ]
     },
     "metadata": {
      "needs_background": "light"
     },
     "output_type": "display_data"
    },
    {
     "data": {
      "image/png": "[encoded data removed]",
      "text/plain": [
       "<Figure size 720x432 with 1 Axes>"
      ]
     },
     "metadata": {
      "needs_background": "light"
     },
     "output_type": "display_data"
    }
   ],
   "source": [
    "# Distribution of financial metrics (Profitability and ROI)\n",
    "plt.figure(figsize=(10, 6))\n",
    "sns.histplot(final_merged_df['profitability'], bins=30, kde=True)\n",
    "plt.title('Distribution of Profitability')\n",
    "plt.xlabel('Profitability ($)')\n",
    "plt.show()\n",
    "\n",
    "plt.figure(figsize=(10, 6))\n",
    "sns.histplot(final_merged_df['ROI'], bins=30, kde=True, color='green')\n",
    "plt.title('Distribution of ROI')\n",
    "plt.xlabel('ROI')\n",
    "plt.show()"
   ]
  },
  {
   "cell_type": "code",
   "execution_count": 27,
   "metadata": {},
   "outputs": [
    {
     "data": {
      "image/png": "[encoded data removed]",
      "text/plain": [
       "<Figure size 720x432 with 1 Axes>"
      ]
     },
     "metadata": {
      "needs_background": "light"
     },
     "output_type": "display_data"
    },
    {
     "data": {
      "image/png": "[encoded data removed]",
      "text/plain": [
       "<Figure size 720x432 with 1 Axes>"
      ]
     },
     "metadata": {
      "needs_background": "light"
     },
     "output_type": "display_data"
    }
   ],
   "source": [
    "# Distribution of audience metrics (Ratings and Vote Counts)\n",
    "plt.figure(figsize=(10, 6))\n",
    "sns.histplot(final_merged_df['averagerating'], bins=30, kde=True, color='blue')\n",
    "plt.title('Distribution of IMDb Ratings')\n",
    "plt.xlabel('Average Rating')\n",
    "plt.show()\n",
    "\n",
    "plt.figure(figsize=(10, 6))\n",
    "sns.histplot(final_merged_df['numvotes'], bins=30, kde=True, color='purple')\n",
    "plt.title('Distribution of IMDb Vote Counts')\n",
    "plt.xlabel('Number of Votes')\n",
    "plt.show()"
   ]
  },
  {
   "cell_type": "code",
   "execution_count": 28,
   "metadata": {},
   "outputs": [
    {
     "data": {
      "image/png": "[encoded data removed]",
      "text/plain": [
       "<Figure size 864x576 with 2 Axes>"
      ]
     },
     "metadata": {
      "needs_background": "light"
     },
     "output_type": "display_data"
    }
   ],
   "source": [
    "# Correlation heatmap for numerical features\n",
    "plt.figure(figsize=(12, 8))\n",
    "correlation_matrix = final_merged_df[['profitability', 'ROI', 'averagerating', 'numvotes', 'popularity']].corr()\n",
    "sns.heatmap(correlation_matrix, annot=True, cmap='coolwarm', fmt=\".2f\")\n",
    "plt.title('Correlation Heatmap of Key Metrics')\n",
    "plt.show()\n"
   ]
  },
  {
   "cell_type": "code",
   "execution_count": 31,
   "metadata": {},
   "outputs": [],
   "source": [
    "# Split IMDb genres into lists if they are comma-separated\n",
    "final_merged_df['decoded_genres'] = final_merged_df['imdb_genres'].str.split(',')\n"
   ]
  },
  {
   "cell_type": "code",
   "execution_count": 32,
   "metadata": {},
   "outputs": [],
   "source": [
    "# Genre-level analysis\n",
    "genre_financials = final_merged_df.explode('decoded_genres').groupby('decoded_genres').agg({\n",
    "    'profitability': 'mean',\n",
    "    'ROI': 'mean',\n",
    "    'averagerating': 'mean',\n",
    "    'numvotes': 'mean'\n",
    "}).sort_values('profitability', ascending=False)"
   ]
  },
  {
   "cell_type": "code",
   "execution_count": 33,
   "metadata": {},
   "outputs": [
    {
     "data": {
      "image/png": "[encoded data removed]",
      "text/plain": [
       "<Figure size 720x432 with 1 Axes>"
      ]
     },
     "metadata": {
      "needs_background": "light"
     },
     "output_type": "display_data"
    }
   ],
   "source": [
    "# Profitability by Genre\n",
    "plt.figure(figsize=(10, 6))\n",
    "genre_financials['profitability'].plot(kind='bar', title='Average Profitability by Genre', ylabel='Profitability ($)', xlabel='Genre')\n",
    "plt.xticks(rotation=45, ha='right')\n",
    "plt.tight_layout()\n",
    "plt.show()"
   ]
  },
  {
   "cell_type": "code",
   "execution_count": 34,
   "metadata": {},
   "outputs": [
    {
     "data": {
      "image/png": "[encoded data removed]",
      "text/plain": [
       "<Figure size 720x432 with 1 Axes>"
      ]
     },
     "metadata": {
      "needs_background": "light"
     },
     "output_type": "display_data"
    }
   ],
   "source": [
    "# ROI by Genre\n",
    "plt.figure(figsize=(10, 6))\n",
    "genre_financials['ROI'].plot(kind='bar', title='Average ROI by Genre', ylabel='ROI', xlabel='Genre')\n",
    "plt.xticks(rotation=45, ha='right')\n",
    "plt.tight_layout()\n",
    "plt.show()"
   ]
  },
  {
   "cell_type": "code",
   "execution_count": 36,
   "metadata": {},
   "outputs": [
    {
     "name": "stdout",
     "output_type": "stream",
     "text": [
      "                profitability       ROI  averagerating       numvotes\n",
      "decoded_genres                                                       \n",
      "Musical          4.221287e+08  2.743062       6.375000   97406.500000\n",
      "Animation        2.946932e+08  2.779845       6.641346  132345.336538\n",
      "Adventure        2.604154e+08  2.214809       6.483240  212069.617318\n",
      "Sci-Fi           2.542866e+08  2.592440       6.486029  283766.713235\n",
      "Fantasy          1.794084e+08  2.305333       6.188800  161787.656000\n",
      "Action           1.711074e+08  1.705806       6.283073  186938.951002\n",
      "Family           1.429225e+08  1.795499       6.094792   84598.854167\n",
      "Comedy           1.023735e+08  2.259551       6.246443   97479.561265\n",
      "Thriller         8.496777e+07  5.284178       6.044776  122625.347015\n",
      "Music            7.269438e+07  3.152081       6.328889   83080.777778\n",
      "Mystery          7.047321e+07  8.938880       6.183465  138140.393701\n",
      "Biography        6.540502e+07  2.647974       7.087755  125528.414966\n",
      "History          6.485944e+07  1.993887       7.097778  119168.266667\n",
      "Horror           5.806040e+07  8.137346       5.503867   68418.232044\n",
      "Crime            5.186340e+07  1.286245       6.373663  121642.901235\n",
      "Western          5.169614e+07  0.547148       6.400000  197898.700000\n",
      "Drama            5.121226e+07  2.370822       6.614702  108789.990728\n",
      "Romance          4.584188e+07  2.592081       6.346524   82661.401070\n",
      "Unknown          3.827814e+07  0.937004       6.950000      17.000000\n",
      "War              3.247046e+07  0.510838       6.543750   79097.812500\n",
      "Sport            3.174796e+07  1.171080       6.931250   81208.593750\n",
      "Documentary      2.104355e+07  1.865103       6.753571   10135.000000\n"
     ]
    }
   ],
   "source": [
    "# Display genre-level insights\n",
    "print(genre_financials)\n"
   ]
  },
  {
   "cell_type": "code",
   "execution_count": 38,
   "metadata": {},
   "outputs": [
    {
     "name": "stdout",
     "output_type": "stream",
     "text": [
      "Genre insights saved to 'genre_financials_insights.csv'\n"
     ]
    }
   ],
   "source": [
    "genre_financials.to_csv(\"genre_financials_insights.csv\", index=True)\n",
    "print(\"Genre insights saved to 'genre_financials_insights.csv'\")\n"
   ]
  },
  {
   "cell_type": "code",
   "execution_count": 42,
   "metadata": {},
   "outputs": [
    {
     "name": "stdout",
     "output_type": "stream",
     "text": [
      "Descriptive Statistics for Selected Columns:\n",
      "        profitability          ROI  averagerating      numvotes   popularity\n",
      "count   1.513000e+03  1513.000000    1513.000000  1.513000e+03  1513.000000\n",
      "mean    1.057039e+08     2.860562       6.343358  1.245225e+05    13.064105\n",
      "std     1.994867e+08    12.034195       1.070645  1.664209e+05     8.182363\n",
      "min    -1.104502e+08    -1.000000       1.600000  5.000000e+00     0.600000\n",
      "25%    -3.000000e+05    -0.128115       5.800000  1.855200e+04     8.261000\n",
      "50%     2.852765e+07     1.254640       6.400000  6.908100e+04    11.458000\n",
      "75%     1.191555e+08     3.115395       7.100000  1.591110e+05    16.190000\n",
      "max     1.748134e+09   415.564740       8.800000  1.841066e+06    80.773000\n"
     ]
    }
   ],
   "source": [
    "numeric_columns = ['profitability', 'ROI', 'averagerating', 'numvotes', 'popularity']\n",
    "numeric_stats = final_merged_df[numeric_columns].describe()\n",
    "\n",
    "print(\"Descriptive Statistics for Selected Columns:\\n\", numeric_stats)\n",
    "\n"
   ]
  },
  {
   "cell_type": "code",
   "execution_count": 43,
   "metadata": {},
   "outputs": [
    {
     "name": "stdout",
     "output_type": "stream",
     "text": [
      "Genre-Level Financial and Audience Insights:\n",
      "                profitability       ROI  averagerating       numvotes\n",
      "decoded_genres                                                       \n",
      "Musical          4.221287e+08  2.743062       6.375000   97406.500000\n",
      "Animation        2.946932e+08  2.779845       6.641346  132345.336538\n",
      "Adventure        2.604154e+08  2.214809       6.483240  212069.617318\n",
      "Sci-Fi           2.542866e+08  2.592440       6.486029  283766.713235\n",
      "Fantasy          1.794084e+08  2.305333       6.188800  161787.656000\n"
     ]
    }
   ],
   "source": [
    "print(\"Genre-Level Financial and Audience Insights:\")\n",
    "print(genre_financials.head())  # Display the top rows for a preview\n"
   ]
  },
  {
   "cell_type": "code",
   "execution_count": null,
   "metadata": {},
   "outputs": [],
   "source": []
  }
 ],
 "metadata": {
  "kernelspec": {
   "display_name": "learn-env",
   "language": "python",
   "name": "python3"
  },
  "language_info": {
   "codemirror_mode": {
    "name": "ipython",
    "version": 3
   },
   "file_extension": ".py",
   "mimetype": "text/x-python",
   "name": "python",
   "nbconvert_exporter": "python",
   "pygments_lexer": "ipython3",
   "version": "3.8.5"
  }
 },
 "nbformat": 4,
 "nbformat_minor": 2
}
