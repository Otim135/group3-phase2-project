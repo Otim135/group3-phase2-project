{
 "cells": [
  {
   "cell_type": "code",
   "execution_count": 1,
   "metadata": {},
   "outputs": [],
   "source": [
    "#imports\n",
    "import sqlite3\n",
    "import pandas as pd\n",
    "import numpy as np\n",
    "import matplotlib.pyplot as plt\n",
    "import seaborn as sns\n",
    "import scipy.stats as stats\n",
    "import plotly.express as px\n",
    "\n",
    "\n",
    "import warnings\n",
    "warnings.filterwarnings(\"ignore\")"
   ]
  },
  {
   "cell_type": "markdown",
   "metadata": {},
   "source": [
    "## Movie gross"
   ]
  },
  {
   "cell_type": "code",
   "execution_count": 2,
   "metadata": {},
   "outputs": [
    {
     "data": {
      "text/html": [
       "<div>\n",
       "<style scoped>\n",
       "    .dataframe tbody tr th:only-of-type {\n",
       "        vertical-align: middle;\n",
       "    }\n",
       "\n",
       "    .dataframe tbody tr th {\n",
       "        vertical-align: top;\n",
       "    }\n",
       "\n",
       "    .dataframe thead th {\n",
       "        text-align: right;\n",
       "    }\n",
       "</style>\n",
       "<table border=\"1\" class=\"dataframe\">\n",
       "  <thead>\n",
       "    <tr style=\"text-align: right;\">\n",
       "      <th></th>\n",
       "      <th>title</th>\n",
       "      <th>studio</th>\n",
       "      <th>domestic_gross</th>\n",
       "      <th>foreign_gross</th>\n",
       "      <th>year</th>\n",
       "    </tr>\n",
       "  </thead>\n",
       "  <tbody>\n",
       "    <tr>\n",
       "      <th>0</th>\n",
       "      <td>Toy Story 3</td>\n",
       "      <td>BV</td>\n",
       "      <td>415000000.0</td>\n",
       "      <td>652000000</td>\n",
       "      <td>2010</td>\n",
       "    </tr>\n",
       "    <tr>\n",
       "      <th>1</th>\n",
       "      <td>Alice in Wonderland (2010)</td>\n",
       "      <td>BV</td>\n",
       "      <td>334200000.0</td>\n",
       "      <td>691300000</td>\n",
       "      <td>2010</td>\n",
       "    </tr>\n",
       "    <tr>\n",
       "      <th>2</th>\n",
       "      <td>Harry Potter and the Deathly Hallows Part 1</td>\n",
       "      <td>WB</td>\n",
       "      <td>296000000.0</td>\n",
       "      <td>664300000</td>\n",
       "      <td>2010</td>\n",
       "    </tr>\n",
       "    <tr>\n",
       "      <th>3</th>\n",
       "      <td>Inception</td>\n",
       "      <td>WB</td>\n",
       "      <td>292600000.0</td>\n",
       "      <td>535700000</td>\n",
       "      <td>2010</td>\n",
       "    </tr>\n",
       "    <tr>\n",
       "      <th>4</th>\n",
       "      <td>Shrek Forever After</td>\n",
       "      <td>P/DW</td>\n",
       "      <td>238700000.0</td>\n",
       "      <td>513900000</td>\n",
       "      <td>2010</td>\n",
       "    </tr>\n",
       "  </tbody>\n",
       "</table>\n",
       "</div>"
      ],
      "text/plain": [
       "                                         title studio  domestic_gross  \\\n",
       "0                                  Toy Story 3     BV     415000000.0   \n",
       "1                   Alice in Wonderland (2010)     BV     334200000.0   \n",
       "2  Harry Potter and the Deathly Hallows Part 1     WB     296000000.0   \n",
       "3                                    Inception     WB     292600000.0   \n",
       "4                          Shrek Forever After   P/DW     238700000.0   \n",
       "\n",
       "  foreign_gross  year  \n",
       "0     652000000  2010  \n",
       "1     691300000  2010  \n",
       "2     664300000  2010  \n",
       "3     535700000  2010  \n",
       "4     513900000  2010  "
      ]
     },
     "execution_count": 2,
     "metadata": {},
     "output_type": "execute_result"
    }
   ],
   "source": [
    "movie_gross = pd.read_csv(\"../data/bom.movie_gross.csv\")\n",
    "movie_gross.head()"
   ]
  },
  {
   "cell_type": "code",
   "execution_count": 3,
   "metadata": {},
   "outputs": [
    {
     "data": {
      "text/plain": [
       "(3387, 5)"
      ]
     },
     "execution_count": 3,
     "metadata": {},
     "output_type": "execute_result"
    }
   ],
   "source": [
    "movie_gross.shape"
   ]
  },
  {
   "cell_type": "code",
   "execution_count": 4,
   "metadata": {},
   "outputs": [
    {
     "name": "stdout",
     "output_type": "stream",
     "text": [
      "<class 'pandas.core.frame.DataFrame'>\n",
      "RangeIndex: 3387 entries, 0 to 3386\n",
      "Data columns (total 5 columns):\n",
      " #   Column          Non-Null Count  Dtype  \n",
      "---  ------          --------------  -----  \n",
      " 0   title           3387 non-null   object \n",
      " 1   studio          3382 non-null   object \n",
      " 2   domestic_gross  3359 non-null   float64\n",
      " 3   foreign_gross   2037 non-null   object \n",
      " 4   year            3387 non-null   int64  \n",
      "dtypes: float64(1), int64(1), object(3)\n",
      "memory usage: 132.4+ KB\n"
     ]
    }
   ],
   "source": [
    "movie_gross.info()"
   ]
  },
  {
   "cell_type": "code",
   "execution_count": 5,
   "metadata": {},
   "outputs": [
    {
     "data": {
      "text/plain": [
       "title                0\n",
       "studio               5\n",
       "domestic_gross      28\n",
       "foreign_gross     1350\n",
       "year                 0\n",
       "dtype: int64"
      ]
     },
     "execution_count": 5,
     "metadata": {},
     "output_type": "execute_result"
    }
   ],
   "source": [
    "movie_gross.isna().sum()"
   ]
  },
  {
   "cell_type": "code",
   "execution_count": 6,
   "metadata": {},
   "outputs": [
    {
     "data": {
      "text/plain": [
       "(2007, 5)"
      ]
     },
     "execution_count": 6,
     "metadata": {},
     "output_type": "execute_result"
    }
   ],
   "source": [
    "movie_gross_clean = movie_gross.dropna()\n",
    "movie_gross_clean.shape"
   ]
  },
  {
   "cell_type": "code",
   "execution_count": 7,
   "metadata": {},
   "outputs": [
    {
     "data": {
      "text/html": [
       "<div>\n",
       "<style scoped>\n",
       "    .dataframe tbody tr th:only-of-type {\n",
       "        vertical-align: middle;\n",
       "    }\n",
       "\n",
       "    .dataframe tbody tr th {\n",
       "        vertical-align: top;\n",
       "    }\n",
       "\n",
       "    .dataframe thead th {\n",
       "        text-align: right;\n",
       "    }\n",
       "</style>\n",
       "<table border=\"1\" class=\"dataframe\">\n",
       "  <thead>\n",
       "    <tr style=\"text-align: right;\">\n",
       "      <th></th>\n",
       "      <th>title</th>\n",
       "      <th>studio</th>\n",
       "      <th>domestic_gross</th>\n",
       "      <th>foreign_gross</th>\n",
       "      <th>year</th>\n",
       "    </tr>\n",
       "  </thead>\n",
       "  <tbody>\n",
       "    <tr>\n",
       "      <th>0</th>\n",
       "      <td>Toy Story 3</td>\n",
       "      <td>BV</td>\n",
       "      <td>415000000.0</td>\n",
       "      <td>652000000</td>\n",
       "      <td>2010</td>\n",
       "    </tr>\n",
       "    <tr>\n",
       "      <th>1</th>\n",
       "      <td>Alice in Wonderland (2010)</td>\n",
       "      <td>BV</td>\n",
       "      <td>334200000.0</td>\n",
       "      <td>691300000</td>\n",
       "      <td>2010</td>\n",
       "    </tr>\n",
       "    <tr>\n",
       "      <th>2</th>\n",
       "      <td>Harry Potter and the Deathly Hallows Part 1</td>\n",
       "      <td>WB</td>\n",
       "      <td>296000000.0</td>\n",
       "      <td>664300000</td>\n",
       "      <td>2010</td>\n",
       "    </tr>\n",
       "    <tr>\n",
       "      <th>3</th>\n",
       "      <td>Inception</td>\n",
       "      <td>WB</td>\n",
       "      <td>292600000.0</td>\n",
       "      <td>535700000</td>\n",
       "      <td>2010</td>\n",
       "    </tr>\n",
       "    <tr>\n",
       "      <th>4</th>\n",
       "      <td>Shrek Forever After</td>\n",
       "      <td>P/DW</td>\n",
       "      <td>238700000.0</td>\n",
       "      <td>513900000</td>\n",
       "      <td>2010</td>\n",
       "    </tr>\n",
       "  </tbody>\n",
       "</table>\n",
       "</div>"
      ],
      "text/plain": [
       "                                         title studio  domestic_gross  \\\n",
       "0                                  Toy Story 3     BV     415000000.0   \n",
       "1                   Alice in Wonderland (2010)     BV     334200000.0   \n",
       "2  Harry Potter and the Deathly Hallows Part 1     WB     296000000.0   \n",
       "3                                    Inception     WB     292600000.0   \n",
       "4                          Shrek Forever After   P/DW     238700000.0   \n",
       "\n",
       "  foreign_gross  year  \n",
       "0     652000000  2010  \n",
       "1     691300000  2010  \n",
       "2     664300000  2010  \n",
       "3     535700000  2010  \n",
       "4     513900000  2010  "
      ]
     },
     "execution_count": 7,
     "metadata": {},
     "output_type": "execute_result"
    }
   ],
   "source": [
    "movie_gross_clean.head()"
   ]
  },
  {
   "cell_type": "code",
   "execution_count": 8,
   "metadata": {},
   "outputs": [
    {
     "data": {
      "text/plain": [
       "172"
      ]
     },
     "execution_count": 8,
     "metadata": {},
     "output_type": "execute_result"
    }
   ],
   "source": [
    "len(movie_gross_clean['studio'].unique())"
   ]
  },
  {
   "cell_type": "code",
   "execution_count": 9,
   "metadata": {},
   "outputs": [
    {
     "data": {
      "text/plain": [
       "0"
      ]
     },
     "execution_count": 9,
     "metadata": {},
     "output_type": "execute_result"
    }
   ],
   "source": [
    "movie_gross_clean.duplicated().sum()"
   ]
  },
  {
   "cell_type": "markdown",
   "metadata": {},
   "source": [
    "## Movie info"
   ]
  },
  {
   "cell_type": "code",
   "execution_count": 10,
   "metadata": {},
   "outputs": [
    {
     "data": {
      "text/html": [
       "<div>\n",
       "<style scoped>\n",
       "    .dataframe tbody tr th:only-of-type {\n",
       "        vertical-align: middle;\n",
       "    }\n",
       "\n",
       "    .dataframe tbody tr th {\n",
       "        vertical-align: top;\n",
       "    }\n",
       "\n",
       "    .dataframe thead th {\n",
       "        text-align: right;\n",
       "    }\n",
       "</style>\n",
       "<table border=\"1\" class=\"dataframe\">\n",
       "  <thead>\n",
       "    <tr style=\"text-align: right;\">\n",
       "      <th></th>\n",
       "      <th>id</th>\n",
       "      <th>synopsis</th>\n",
       "      <th>rating</th>\n",
       "      <th>genre</th>\n",
       "      <th>director</th>\n",
       "      <th>writer</th>\n",
       "      <th>theater_date</th>\n",
       "      <th>dvd_date</th>\n",
       "      <th>currency</th>\n",
       "      <th>box_office</th>\n",
       "      <th>runtime</th>\n",
       "      <th>studio</th>\n",
       "    </tr>\n",
       "  </thead>\n",
       "  <tbody>\n",
       "    <tr>\n",
       "      <th>0</th>\n",
       "      <td>1</td>\n",
       "      <td>This gritty, fast-paced, and innovative police...</td>\n",
       "      <td>R</td>\n",
       "      <td>Action and Adventure|Classics|Drama</td>\n",
       "      <td>William Friedkin</td>\n",
       "      <td>Ernest Tidyman</td>\n",
       "      <td>Oct 9, 1971</td>\n",
       "      <td>Sep 25, 2001</td>\n",
       "      <td>NaN</td>\n",
       "      <td>NaN</td>\n",
       "      <td>104 minutes</td>\n",
       "      <td>NaN</td>\n",
       "    </tr>\n",
       "    <tr>\n",
       "      <th>1</th>\n",
       "      <td>3</td>\n",
       "      <td>New York City, not-too-distant-future: Eric Pa...</td>\n",
       "      <td>R</td>\n",
       "      <td>Drama|Science Fiction and Fantasy</td>\n",
       "      <td>David Cronenberg</td>\n",
       "      <td>David Cronenberg|Don DeLillo</td>\n",
       "      <td>Aug 17, 2012</td>\n",
       "      <td>Jan 1, 2013</td>\n",
       "      <td>$</td>\n",
       "      <td>600,000</td>\n",
       "      <td>108 minutes</td>\n",
       "      <td>Entertainment One</td>\n",
       "    </tr>\n",
       "    <tr>\n",
       "      <th>2</th>\n",
       "      <td>5</td>\n",
       "      <td>Illeana Douglas delivers a superb performance ...</td>\n",
       "      <td>R</td>\n",
       "      <td>Drama|Musical and Performing Arts</td>\n",
       "      <td>Allison Anders</td>\n",
       "      <td>Allison Anders</td>\n",
       "      <td>Sep 13, 1996</td>\n",
       "      <td>Apr 18, 2000</td>\n",
       "      <td>NaN</td>\n",
       "      <td>NaN</td>\n",
       "      <td>116 minutes</td>\n",
       "      <td>NaN</td>\n",
       "    </tr>\n",
       "    <tr>\n",
       "      <th>3</th>\n",
       "      <td>6</td>\n",
       "      <td>Michael Douglas runs afoul of a treacherous su...</td>\n",
       "      <td>R</td>\n",
       "      <td>Drama|Mystery and Suspense</td>\n",
       "      <td>Barry Levinson</td>\n",
       "      <td>Paul Attanasio|Michael Crichton</td>\n",
       "      <td>Dec 9, 1994</td>\n",
       "      <td>Aug 27, 1997</td>\n",
       "      <td>NaN</td>\n",
       "      <td>NaN</td>\n",
       "      <td>128 minutes</td>\n",
       "      <td>NaN</td>\n",
       "    </tr>\n",
       "    <tr>\n",
       "      <th>4</th>\n",
       "      <td>7</td>\n",
       "      <td>NaN</td>\n",
       "      <td>NR</td>\n",
       "      <td>Drama|Romance</td>\n",
       "      <td>Rodney Bennett</td>\n",
       "      <td>Giles Cooper</td>\n",
       "      <td>NaN</td>\n",
       "      <td>NaN</td>\n",
       "      <td>NaN</td>\n",
       "      <td>NaN</td>\n",
       "      <td>200 minutes</td>\n",
       "      <td>NaN</td>\n",
       "    </tr>\n",
       "  </tbody>\n",
       "</table>\n",
       "</div>"
      ],
      "text/plain": [
       "   id                                           synopsis rating  \\\n",
       "0   1  This gritty, fast-paced, and innovative police...      R   \n",
       "1   3  New York City, not-too-distant-future: Eric Pa...      R   \n",
       "2   5  Illeana Douglas delivers a superb performance ...      R   \n",
       "3   6  Michael Douglas runs afoul of a treacherous su...      R   \n",
       "4   7                                                NaN     NR   \n",
       "\n",
       "                                 genre          director  \\\n",
       "0  Action and Adventure|Classics|Drama  William Friedkin   \n",
       "1    Drama|Science Fiction and Fantasy  David Cronenberg   \n",
       "2    Drama|Musical and Performing Arts    Allison Anders   \n",
       "3           Drama|Mystery and Suspense    Barry Levinson   \n",
       "4                        Drama|Romance    Rodney Bennett   \n",
       "\n",
       "                            writer  theater_date      dvd_date currency  \\\n",
       "0                   Ernest Tidyman   Oct 9, 1971  Sep 25, 2001      NaN   \n",
       "1     David Cronenberg|Don DeLillo  Aug 17, 2012   Jan 1, 2013        $   \n",
       "2                   Allison Anders  Sep 13, 1996  Apr 18, 2000      NaN   \n",
       "3  Paul Attanasio|Michael Crichton   Dec 9, 1994  Aug 27, 1997      NaN   \n",
       "4                     Giles Cooper           NaN           NaN      NaN   \n",
       "\n",
       "  box_office      runtime             studio  \n",
       "0        NaN  104 minutes                NaN  \n",
       "1    600,000  108 minutes  Entertainment One  \n",
       "2        NaN  116 minutes                NaN  \n",
       "3        NaN  128 minutes                NaN  \n",
       "4        NaN  200 minutes                NaN  "
      ]
     },
     "execution_count": 10,
     "metadata": {},
     "output_type": "execute_result"
    }
   ],
   "source": [
    "movie_info = pd.read_csv(\"../data/rt.movie_info.tsv\", sep=\"\\t\")\n",
    "movie_info.head()"
   ]
  },
  {
   "cell_type": "code",
   "execution_count": 11,
   "metadata": {},
   "outputs": [
    {
     "name": "stdout",
     "output_type": "stream",
     "text": [
      "<class 'pandas.core.frame.DataFrame'>\n",
      "RangeIndex: 1560 entries, 0 to 1559\n",
      "Data columns (total 12 columns):\n",
      " #   Column        Non-Null Count  Dtype \n",
      "---  ------        --------------  ----- \n",
      " 0   id            1560 non-null   int64 \n",
      " 1   synopsis      1498 non-null   object\n",
      " 2   rating        1557 non-null   object\n",
      " 3   genre         1552 non-null   object\n",
      " 4   director      1361 non-null   object\n",
      " 5   writer        1111 non-null   object\n",
      " 6   theater_date  1201 non-null   object\n",
      " 7   dvd_date      1201 non-null   object\n",
      " 8   currency      340 non-null    object\n",
      " 9   box_office    340 non-null    object\n",
      " 10  runtime       1530 non-null   object\n",
      " 11  studio        494 non-null    object\n",
      "dtypes: int64(1), object(11)\n",
      "memory usage: 146.4+ KB\n"
     ]
    }
   ],
   "source": [
    "movie_info.info()"
   ]
  },
  {
   "cell_type": "code",
   "execution_count": 12,
   "metadata": {},
   "outputs": [
    {
     "data": {
      "text/plain": [
       "id                 0\n",
       "synopsis          62\n",
       "rating             3\n",
       "genre              8\n",
       "director         199\n",
       "writer           449\n",
       "theater_date     359\n",
       "dvd_date         359\n",
       "currency        1220\n",
       "box_office      1220\n",
       "runtime           30\n",
       "studio          1066\n",
       "dtype: int64"
      ]
     },
     "execution_count": 12,
     "metadata": {},
     "output_type": "execute_result"
    }
   ],
   "source": [
    "movie_info.isna().sum()"
   ]
  },
  {
   "cell_type": "code",
   "execution_count": 13,
   "metadata": {},
   "outputs": [
    {
     "data": {
      "text/plain": [
       "Index(['id', 'synopsis', 'rating', 'genre', 'director', 'writer', 'runtime'], dtype='object')"
      ]
     },
     "execution_count": 13,
     "metadata": {},
     "output_type": "execute_result"
    }
   ],
   "source": [
    "movies_information = movie_info.drop(['theater_date', 'dvd_date', 'currency', 'box_office', 'studio'], axis=1)\n",
    "movies_information.columns"
   ]
  },
  {
   "cell_type": "code",
   "execution_count": 14,
   "metadata": {},
   "outputs": [
    {
     "data": {
      "text/plain": [
       "id            0\n",
       "synopsis     62\n",
       "rating        3\n",
       "genre         8\n",
       "director    199\n",
       "writer      449\n",
       "runtime      30\n",
       "dtype: int64"
      ]
     },
     "execution_count": 14,
     "metadata": {},
     "output_type": "execute_result"
    }
   ],
   "source": [
    "movies_information.isna().sum()"
   ]
  },
  {
   "cell_type": "code",
   "execution_count": 15,
   "metadata": {},
   "outputs": [
    {
     "data": {
      "text/plain": [
       "(1021, 7)"
      ]
     },
     "execution_count": 15,
     "metadata": {},
     "output_type": "execute_result"
    }
   ],
   "source": [
    "movies_information = movies_information.dropna()\n",
    "movies_information.shape"
   ]
  },
  {
   "cell_type": "code",
   "execution_count": 16,
   "metadata": {},
   "outputs": [
    {
     "data": {
      "text/html": [
       "<div>\n",
       "<style scoped>\n",
       "    .dataframe tbody tr th:only-of-type {\n",
       "        vertical-align: middle;\n",
       "    }\n",
       "\n",
       "    .dataframe tbody tr th {\n",
       "        vertical-align: top;\n",
       "    }\n",
       "\n",
       "    .dataframe thead th {\n",
       "        text-align: right;\n",
       "    }\n",
       "</style>\n",
       "<table border=\"1\" class=\"dataframe\">\n",
       "  <thead>\n",
       "    <tr style=\"text-align: right;\">\n",
       "      <th></th>\n",
       "      <th>id</th>\n",
       "      <th>synopsis</th>\n",
       "      <th>rating</th>\n",
       "      <th>genre</th>\n",
       "      <th>director</th>\n",
       "      <th>writer</th>\n",
       "      <th>runtime</th>\n",
       "    </tr>\n",
       "  </thead>\n",
       "  <tbody>\n",
       "    <tr>\n",
       "      <th>0</th>\n",
       "      <td>1</td>\n",
       "      <td>This gritty, fast-paced, and innovative police...</td>\n",
       "      <td>R</td>\n",
       "      <td>Action and Adventure|Classics|Drama</td>\n",
       "      <td>William Friedkin</td>\n",
       "      <td>Ernest Tidyman</td>\n",
       "      <td>104 minutes</td>\n",
       "    </tr>\n",
       "    <tr>\n",
       "      <th>1</th>\n",
       "      <td>3</td>\n",
       "      <td>New York City, not-too-distant-future: Eric Pa...</td>\n",
       "      <td>R</td>\n",
       "      <td>Drama|Science Fiction and Fantasy</td>\n",
       "      <td>David Cronenberg</td>\n",
       "      <td>David Cronenberg|Don DeLillo</td>\n",
       "      <td>108 minutes</td>\n",
       "    </tr>\n",
       "    <tr>\n",
       "      <th>2</th>\n",
       "      <td>5</td>\n",
       "      <td>Illeana Douglas delivers a superb performance ...</td>\n",
       "      <td>R</td>\n",
       "      <td>Drama|Musical and Performing Arts</td>\n",
       "      <td>Allison Anders</td>\n",
       "      <td>Allison Anders</td>\n",
       "      <td>116 minutes</td>\n",
       "    </tr>\n",
       "  </tbody>\n",
       "</table>\n",
       "</div>"
      ],
      "text/plain": [
       "   id                                           synopsis rating  \\\n",
       "0   1  This gritty, fast-paced, and innovative police...      R   \n",
       "1   3  New York City, not-too-distant-future: Eric Pa...      R   \n",
       "2   5  Illeana Douglas delivers a superb performance ...      R   \n",
       "\n",
       "                                 genre          director  \\\n",
       "0  Action and Adventure|Classics|Drama  William Friedkin   \n",
       "1    Drama|Science Fiction and Fantasy  David Cronenberg   \n",
       "2    Drama|Musical and Performing Arts    Allison Anders   \n",
       "\n",
       "                         writer      runtime  \n",
       "0                Ernest Tidyman  104 minutes  \n",
       "1  David Cronenberg|Don DeLillo  108 minutes  \n",
       "2                Allison Anders  116 minutes  "
      ]
     },
     "execution_count": 16,
     "metadata": {},
     "output_type": "execute_result"
    }
   ],
   "source": [
    "movies_information.head(3)"
   ]
  },
  {
   "cell_type": "code",
   "execution_count": 17,
   "metadata": {},
   "outputs": [
    {
     "data": {
      "text/plain": [
       "0"
      ]
     },
     "execution_count": 17,
     "metadata": {},
     "output_type": "execute_result"
    }
   ],
   "source": [
    "movies_information.duplicated().sum()"
   ]
  },
  {
   "cell_type": "code",
   "execution_count": 69,
   "metadata": {},
   "outputs": [
    {
     "name": "stdout",
     "output_type": "stream",
     "text": [
      "(3201, 7)\n",
      "   id                                           synopsis rating      genre  \\\n",
      "0   1  This gritty, fast-paced, and innovative police...      R     Action   \n",
      "1   1  This gritty, fast-paced, and innovative police...      R  Adventure   \n",
      "2   1  This gritty, fast-paced, and innovative police...      R   Classics   \n",
      "\n",
      "           director          writer      runtime  \n",
      "0  William Friedkin  Ernest Tidyman  104 minutes  \n",
      "1  William Friedkin  Ernest Tidyman  104 minutes  \n",
      "2  William Friedkin  Ernest Tidyman  104 minutes  \n"
     ]
    }
   ],
   "source": [
    "movies_information['genre'] = movies_information['genre'].str.replace(' and ', '|')\n",
    "movies_information['genre'] = movies_information['genre'].str.split('|')\n",
    "movies_information = movies_information.explode('genre').reset_index(drop=True)\n",
    "print(movies_information.shape)\n",
    "print(movies_information.head(3))"
   ]
  },
  {
   "cell_type": "markdown",
   "metadata": {},
   "source": [
    "## Reviews"
   ]
  },
  {
   "cell_type": "code",
   "execution_count": 19,
   "metadata": {},
   "outputs": [
    {
     "data": {
      "text/html": [
       "<div>\n",
       "<style scoped>\n",
       "    .dataframe tbody tr th:only-of-type {\n",
       "        vertical-align: middle;\n",
       "    }\n",
       "\n",
       "    .dataframe tbody tr th {\n",
       "        vertical-align: top;\n",
       "    }\n",
       "\n",
       "    .dataframe thead th {\n",
       "        text-align: right;\n",
       "    }\n",
       "</style>\n",
       "<table border=\"1\" class=\"dataframe\">\n",
       "  <thead>\n",
       "    <tr style=\"text-align: right;\">\n",
       "      <th></th>\n",
       "      <th>id</th>\n",
       "      <th>review</th>\n",
       "      <th>rating</th>\n",
       "      <th>fresh</th>\n",
       "      <th>critic</th>\n",
       "      <th>top_critic</th>\n",
       "      <th>publisher</th>\n",
       "      <th>date</th>\n",
       "    </tr>\n",
       "  </thead>\n",
       "  <tbody>\n",
       "    <tr>\n",
       "      <th>0</th>\n",
       "      <td>3</td>\n",
       "      <td>A distinctly gallows take on contemporary fina...</td>\n",
       "      <td>3/5</td>\n",
       "      <td>fresh</td>\n",
       "      <td>PJ Nabarro</td>\n",
       "      <td>0</td>\n",
       "      <td>Patrick Nabarro</td>\n",
       "      <td>November 10, 2018</td>\n",
       "    </tr>\n",
       "    <tr>\n",
       "      <th>1</th>\n",
       "      <td>3</td>\n",
       "      <td>It's an allegory in search of a meaning that n...</td>\n",
       "      <td>NaN</td>\n",
       "      <td>rotten</td>\n",
       "      <td>Annalee Newitz</td>\n",
       "      <td>0</td>\n",
       "      <td>io9.com</td>\n",
       "      <td>May 23, 2018</td>\n",
       "    </tr>\n",
       "    <tr>\n",
       "      <th>2</th>\n",
       "      <td>3</td>\n",
       "      <td>... life lived in a bubble in financial dealin...</td>\n",
       "      <td>NaN</td>\n",
       "      <td>fresh</td>\n",
       "      <td>Sean Axmaker</td>\n",
       "      <td>0</td>\n",
       "      <td>Stream on Demand</td>\n",
       "      <td>January 4, 2018</td>\n",
       "    </tr>\n",
       "    <tr>\n",
       "      <th>3</th>\n",
       "      <td>3</td>\n",
       "      <td>Continuing along a line introduced in last yea...</td>\n",
       "      <td>NaN</td>\n",
       "      <td>fresh</td>\n",
       "      <td>Daniel Kasman</td>\n",
       "      <td>0</td>\n",
       "      <td>MUBI</td>\n",
       "      <td>November 16, 2017</td>\n",
       "    </tr>\n",
       "    <tr>\n",
       "      <th>4</th>\n",
       "      <td>3</td>\n",
       "      <td>... a perverse twist on neorealism...</td>\n",
       "      <td>NaN</td>\n",
       "      <td>fresh</td>\n",
       "      <td>NaN</td>\n",
       "      <td>0</td>\n",
       "      <td>Cinema Scope</td>\n",
       "      <td>October 12, 2017</td>\n",
       "    </tr>\n",
       "  </tbody>\n",
       "</table>\n",
       "</div>"
      ],
      "text/plain": [
       "   id                                             review rating   fresh  \\\n",
       "0   3  A distinctly gallows take on contemporary fina...    3/5   fresh   \n",
       "1   3  It's an allegory in search of a meaning that n...    NaN  rotten   \n",
       "2   3  ... life lived in a bubble in financial dealin...    NaN   fresh   \n",
       "3   3  Continuing along a line introduced in last yea...    NaN   fresh   \n",
       "4   3             ... a perverse twist on neorealism...     NaN   fresh   \n",
       "\n",
       "           critic  top_critic         publisher               date  \n",
       "0      PJ Nabarro           0   Patrick Nabarro  November 10, 2018  \n",
       "1  Annalee Newitz           0           io9.com       May 23, 2018  \n",
       "2    Sean Axmaker           0  Stream on Demand    January 4, 2018  \n",
       "3   Daniel Kasman           0              MUBI  November 16, 2017  \n",
       "4             NaN           0      Cinema Scope   October 12, 2017  "
      ]
     },
     "execution_count": 19,
     "metadata": {},
     "output_type": "execute_result"
    }
   ],
   "source": [
    "reviews = pd.read_csv(\"../data/rt.reviews.tsv\", sep=\"\\t\", encoding=\"latin1\")\n",
    "reviews.head()"
   ]
  },
  {
   "cell_type": "code",
   "execution_count": 20,
   "metadata": {},
   "outputs": [
    {
     "data": {
      "text/plain": [
       "(54432, 8)"
      ]
     },
     "execution_count": 20,
     "metadata": {},
     "output_type": "execute_result"
    }
   ],
   "source": [
    "reviews.shape"
   ]
  },
  {
   "cell_type": "code",
   "execution_count": 21,
   "metadata": {},
   "outputs": [
    {
     "name": "stdout",
     "output_type": "stream",
     "text": [
      "<class 'pandas.core.frame.DataFrame'>\n",
      "RangeIndex: 54432 entries, 0 to 54431\n",
      "Data columns (total 8 columns):\n",
      " #   Column      Non-Null Count  Dtype \n",
      "---  ------      --------------  ----- \n",
      " 0   id          54432 non-null  int64 \n",
      " 1   review      48869 non-null  object\n",
      " 2   rating      40915 non-null  object\n",
      " 3   fresh       54432 non-null  object\n",
      " 4   critic      51710 non-null  object\n",
      " 5   top_critic  54432 non-null  int64 \n",
      " 6   publisher   54123 non-null  object\n",
      " 7   date        54432 non-null  object\n",
      "dtypes: int64(2), object(6)\n",
      "memory usage: 3.3+ MB\n"
     ]
    }
   ],
   "source": [
    "reviews.info()"
   ]
  },
  {
   "cell_type": "code",
   "execution_count": 22,
   "metadata": {},
   "outputs": [
    {
     "data": {
      "text/plain": [
       "id                0\n",
       "review         5563\n",
       "rating        13517\n",
       "fresh             0\n",
       "critic         2722\n",
       "top_critic        0\n",
       "publisher       309\n",
       "date              0\n",
       "dtype: int64"
      ]
     },
     "execution_count": 22,
     "metadata": {},
     "output_type": "execute_result"
    }
   ],
   "source": [
    "reviews.isna().sum()"
   ]
  },
  {
   "cell_type": "code",
   "execution_count": 23,
   "metadata": {},
   "outputs": [
    {
     "data": {
      "text/plain": [
       "(33988, 8)"
      ]
     },
     "execution_count": 23,
     "metadata": {},
     "output_type": "execute_result"
    }
   ],
   "source": [
    "reviews = reviews.dropna()\n",
    "reviews.shape"
   ]
  },
  {
   "cell_type": "code",
   "execution_count": 24,
   "metadata": {},
   "outputs": [
    {
     "data": {
      "text/plain": [
       "0"
      ]
     },
     "execution_count": 24,
     "metadata": {},
     "output_type": "execute_result"
    }
   ],
   "source": [
    "reviews.duplicated().sum()"
   ]
  },
  {
   "cell_type": "markdown",
   "metadata": {},
   "source": [
    "## Movies"
   ]
  },
  {
   "cell_type": "code",
   "execution_count": 25,
   "metadata": {},
   "outputs": [
    {
     "data": {
      "text/html": [
       "<div>\n",
       "<style scoped>\n",
       "    .dataframe tbody tr th:only-of-type {\n",
       "        vertical-align: middle;\n",
       "    }\n",
       "\n",
       "    .dataframe tbody tr th {\n",
       "        vertical-align: top;\n",
       "    }\n",
       "\n",
       "    .dataframe thead th {\n",
       "        text-align: right;\n",
       "    }\n",
       "</style>\n",
       "<table border=\"1\" class=\"dataframe\">\n",
       "  <thead>\n",
       "    <tr style=\"text-align: right;\">\n",
       "      <th></th>\n",
       "      <th>genre_ids</th>\n",
       "      <th>id</th>\n",
       "      <th>original_language</th>\n",
       "      <th>original_title</th>\n",
       "      <th>popularity</th>\n",
       "      <th>release_date</th>\n",
       "      <th>title</th>\n",
       "      <th>vote_average</th>\n",
       "      <th>vote_count</th>\n",
       "    </tr>\n",
       "  </thead>\n",
       "  <tbody>\n",
       "    <tr>\n",
       "      <th>0</th>\n",
       "      <td>[12, 14, 10751]</td>\n",
       "      <td>12444</td>\n",
       "      <td>en</td>\n",
       "      <td>Harry Potter and the Deathly Hallows: Part 1</td>\n",
       "      <td>33.533</td>\n",
       "      <td>2010-11-19</td>\n",
       "      <td>Harry Potter and the Deathly Hallows: Part 1</td>\n",
       "      <td>7.7</td>\n",
       "      <td>10788</td>\n",
       "    </tr>\n",
       "    <tr>\n",
       "      <th>1</th>\n",
       "      <td>[14, 12, 16, 10751]</td>\n",
       "      <td>10191</td>\n",
       "      <td>en</td>\n",
       "      <td>How to Train Your Dragon</td>\n",
       "      <td>28.734</td>\n",
       "      <td>2010-03-26</td>\n",
       "      <td>How to Train Your Dragon</td>\n",
       "      <td>7.7</td>\n",
       "      <td>7610</td>\n",
       "    </tr>\n",
       "    <tr>\n",
       "      <th>2</th>\n",
       "      <td>[12, 28, 878]</td>\n",
       "      <td>10138</td>\n",
       "      <td>en</td>\n",
       "      <td>Iron Man 2</td>\n",
       "      <td>28.515</td>\n",
       "      <td>2010-05-07</td>\n",
       "      <td>Iron Man 2</td>\n",
       "      <td>6.8</td>\n",
       "      <td>12368</td>\n",
       "    </tr>\n",
       "    <tr>\n",
       "      <th>3</th>\n",
       "      <td>[16, 35, 10751]</td>\n",
       "      <td>862</td>\n",
       "      <td>en</td>\n",
       "      <td>Toy Story</td>\n",
       "      <td>28.005</td>\n",
       "      <td>1995-11-22</td>\n",
       "      <td>Toy Story</td>\n",
       "      <td>7.9</td>\n",
       "      <td>10174</td>\n",
       "    </tr>\n",
       "    <tr>\n",
       "      <th>4</th>\n",
       "      <td>[28, 878, 12]</td>\n",
       "      <td>27205</td>\n",
       "      <td>en</td>\n",
       "      <td>Inception</td>\n",
       "      <td>27.920</td>\n",
       "      <td>2010-07-16</td>\n",
       "      <td>Inception</td>\n",
       "      <td>8.3</td>\n",
       "      <td>22186</td>\n",
       "    </tr>\n",
       "  </tbody>\n",
       "</table>\n",
       "</div>"
      ],
      "text/plain": [
       "             genre_ids     id original_language  \\\n",
       "0      [12, 14, 10751]  12444                en   \n",
       "1  [14, 12, 16, 10751]  10191                en   \n",
       "2        [12, 28, 878]  10138                en   \n",
       "3      [16, 35, 10751]    862                en   \n",
       "4        [28, 878, 12]  27205                en   \n",
       "\n",
       "                                 original_title  popularity release_date  \\\n",
       "0  Harry Potter and the Deathly Hallows: Part 1      33.533   2010-11-19   \n",
       "1                      How to Train Your Dragon      28.734   2010-03-26   \n",
       "2                                    Iron Man 2      28.515   2010-05-07   \n",
       "3                                     Toy Story      28.005   1995-11-22   \n",
       "4                                     Inception      27.920   2010-07-16   \n",
       "\n",
       "                                          title  vote_average  vote_count  \n",
       "0  Harry Potter and the Deathly Hallows: Part 1           7.7       10788  \n",
       "1                      How to Train Your Dragon           7.7        7610  \n",
       "2                                    Iron Man 2           6.8       12368  \n",
       "3                                     Toy Story           7.9       10174  \n",
       "4                                     Inception           8.3       22186  "
      ]
     },
     "execution_count": 25,
     "metadata": {},
     "output_type": "execute_result"
    }
   ],
   "source": [
    "movies = pd.read_csv(\"../data/tmdb.movies.csv\", index_col=0)\n",
    "movies.head()"
   ]
  },
  {
   "cell_type": "code",
   "execution_count": 26,
   "metadata": {},
   "outputs": [
    {
     "data": {
      "text/plain": [
       "(26517, 9)"
      ]
     },
     "execution_count": 26,
     "metadata": {},
     "output_type": "execute_result"
    }
   ],
   "source": [
    "movies.shape"
   ]
  },
  {
   "cell_type": "code",
   "execution_count": 27,
   "metadata": {},
   "outputs": [
    {
     "name": "stdout",
     "output_type": "stream",
     "text": [
      "<class 'pandas.core.frame.DataFrame'>\n",
      "Int64Index: 26517 entries, 0 to 26516\n",
      "Data columns (total 9 columns):\n",
      " #   Column             Non-Null Count  Dtype  \n",
      "---  ------             --------------  -----  \n",
      " 0   genre_ids          26517 non-null  object \n",
      " 1   id                 26517 non-null  int64  \n",
      " 2   original_language  26517 non-null  object \n",
      " 3   original_title     26517 non-null  object \n",
      " 4   popularity         26517 non-null  float64\n",
      " 5   release_date       26517 non-null  object \n",
      " 6   title              26517 non-null  object \n",
      " 7   vote_average       26517 non-null  float64\n",
      " 8   vote_count         26517 non-null  int64  \n",
      "dtypes: float64(2), int64(2), object(5)\n",
      "memory usage: 2.0+ MB\n"
     ]
    }
   ],
   "source": [
    "movies.info()"
   ]
  },
  {
   "cell_type": "code",
   "execution_count": 28,
   "metadata": {},
   "outputs": [
    {
     "data": {
      "text/plain": [
       "genre_ids            0\n",
       "id                   0\n",
       "original_language    0\n",
       "original_title       0\n",
       "popularity           0\n",
       "release_date         0\n",
       "title                0\n",
       "vote_average         0\n",
       "vote_count           0\n",
       "dtype: int64"
      ]
     },
     "execution_count": 28,
     "metadata": {},
     "output_type": "execute_result"
    }
   ],
   "source": [
    "movies.isna().sum()"
   ]
  },
  {
   "cell_type": "code",
   "execution_count": 29,
   "metadata": {},
   "outputs": [
    {
     "data": {
      "text/plain": [
       "1020"
      ]
     },
     "execution_count": 29,
     "metadata": {},
     "output_type": "execute_result"
    }
   ],
   "source": [
    "movies.duplicated().sum()"
   ]
  },
  {
   "cell_type": "code",
   "execution_count": 30,
   "metadata": {},
   "outputs": [
    {
     "data": {
      "text/plain": [
       "(25497, 9)"
      ]
     },
     "execution_count": 30,
     "metadata": {},
     "output_type": "execute_result"
    }
   ],
   "source": [
    "movies = movies.drop_duplicates()\n",
    "movies.shape"
   ]
  },
  {
   "cell_type": "markdown",
   "metadata": {},
   "source": [
    "## Movie budgets"
   ]
  },
  {
   "cell_type": "code",
   "execution_count": 31,
   "metadata": {},
   "outputs": [
    {
     "data": {
      "text/html": [
       "<div>\n",
       "<style scoped>\n",
       "    .dataframe tbody tr th:only-of-type {\n",
       "        vertical-align: middle;\n",
       "    }\n",
       "\n",
       "    .dataframe tbody tr th {\n",
       "        vertical-align: top;\n",
       "    }\n",
       "\n",
       "    .dataframe thead th {\n",
       "        text-align: right;\n",
       "    }\n",
       "</style>\n",
       "<table border=\"1\" class=\"dataframe\">\n",
       "  <thead>\n",
       "    <tr style=\"text-align: right;\">\n",
       "      <th></th>\n",
       "      <th>id</th>\n",
       "      <th>release_date</th>\n",
       "      <th>movie</th>\n",
       "      <th>production_budget</th>\n",
       "      <th>domestic_gross</th>\n",
       "      <th>worldwide_gross</th>\n",
       "    </tr>\n",
       "  </thead>\n",
       "  <tbody>\n",
       "    <tr>\n",
       "      <th>0</th>\n",
       "      <td>1</td>\n",
       "      <td>Dec 18, 2009</td>\n",
       "      <td>Avatar</td>\n",
       "      <td>$425,000,000</td>\n",
       "      <td>$760,507,625</td>\n",
       "      <td>$2,776,345,279</td>\n",
       "    </tr>\n",
       "    <tr>\n",
       "      <th>1</th>\n",
       "      <td>2</td>\n",
       "      <td>May 20, 2011</td>\n",
       "      <td>Pirates of the Caribbean: On Stranger Tides</td>\n",
       "      <td>$410,600,000</td>\n",
       "      <td>$241,063,875</td>\n",
       "      <td>$1,045,663,875</td>\n",
       "    </tr>\n",
       "    <tr>\n",
       "      <th>2</th>\n",
       "      <td>3</td>\n",
       "      <td>Jun 7, 2019</td>\n",
       "      <td>Dark Phoenix</td>\n",
       "      <td>$350,000,000</td>\n",
       "      <td>$42,762,350</td>\n",
       "      <td>$149,762,350</td>\n",
       "    </tr>\n",
       "    <tr>\n",
       "      <th>3</th>\n",
       "      <td>4</td>\n",
       "      <td>May 1, 2015</td>\n",
       "      <td>Avengers: Age of Ultron</td>\n",
       "      <td>$330,600,000</td>\n",
       "      <td>$459,005,868</td>\n",
       "      <td>$1,403,013,963</td>\n",
       "    </tr>\n",
       "    <tr>\n",
       "      <th>4</th>\n",
       "      <td>5</td>\n",
       "      <td>Dec 15, 2017</td>\n",
       "      <td>Star Wars Ep. VIII: The Last Jedi</td>\n",
       "      <td>$317,000,000</td>\n",
       "      <td>$620,181,382</td>\n",
       "      <td>$1,316,721,747</td>\n",
       "    </tr>\n",
       "  </tbody>\n",
       "</table>\n",
       "</div>"
      ],
      "text/plain": [
       "   id  release_date                                        movie  \\\n",
       "0   1  Dec 18, 2009                                       Avatar   \n",
       "1   2  May 20, 2011  Pirates of the Caribbean: On Stranger Tides   \n",
       "2   3   Jun 7, 2019                                 Dark Phoenix   \n",
       "3   4   May 1, 2015                      Avengers: Age of Ultron   \n",
       "4   5  Dec 15, 2017            Star Wars Ep. VIII: The Last Jedi   \n",
       "\n",
       "  production_budget domestic_gross worldwide_gross  \n",
       "0      $425,000,000   $760,507,625  $2,776,345,279  \n",
       "1      $410,600,000   $241,063,875  $1,045,663,875  \n",
       "2      $350,000,000    $42,762,350    $149,762,350  \n",
       "3      $330,600,000   $459,005,868  $1,403,013,963  \n",
       "4      $317,000,000   $620,181,382  $1,316,721,747  "
      ]
     },
     "execution_count": 31,
     "metadata": {},
     "output_type": "execute_result"
    }
   ],
   "source": [
    "movie_budgets = pd.read_csv(\"../data/tn.movie_budgets.csv\")\n",
    "movie_budgets.head()"
   ]
  },
  {
   "cell_type": "code",
   "execution_count": 32,
   "metadata": {},
   "outputs": [
    {
     "data": {
      "text/plain": [
       "(5782, 6)"
      ]
     },
     "execution_count": 32,
     "metadata": {},
     "output_type": "execute_result"
    }
   ],
   "source": [
    "movie_budgets.shape"
   ]
  },
  {
   "cell_type": "code",
   "execution_count": 33,
   "metadata": {},
   "outputs": [
    {
     "name": "stdout",
     "output_type": "stream",
     "text": [
      "<class 'pandas.core.frame.DataFrame'>\n",
      "RangeIndex: 5782 entries, 0 to 5781\n",
      "Data columns (total 6 columns):\n",
      " #   Column             Non-Null Count  Dtype \n",
      "---  ------             --------------  ----- \n",
      " 0   id                 5782 non-null   int64 \n",
      " 1   release_date       5782 non-null   object\n",
      " 2   movie              5782 non-null   object\n",
      " 3   production_budget  5782 non-null   object\n",
      " 4   domestic_gross     5782 non-null   object\n",
      " 5   worldwide_gross    5782 non-null   object\n",
      "dtypes: int64(1), object(5)\n",
      "memory usage: 271.2+ KB\n"
     ]
    }
   ],
   "source": [
    "movie_budgets.info()"
   ]
  },
  {
   "cell_type": "code",
   "execution_count": 34,
   "metadata": {},
   "outputs": [
    {
     "data": {
      "text/plain": [
       "id                   0\n",
       "release_date         0\n",
       "movie                0\n",
       "production_budget    0\n",
       "domestic_gross       0\n",
       "worldwide_gross      0\n",
       "dtype: int64"
      ]
     },
     "execution_count": 34,
     "metadata": {},
     "output_type": "execute_result"
    }
   ],
   "source": [
    "movie_budgets.isna().sum()"
   ]
  },
  {
   "cell_type": "code",
   "execution_count": 35,
   "metadata": {},
   "outputs": [
    {
     "data": {
      "text/plain": [
       "0"
      ]
     },
     "execution_count": 35,
     "metadata": {},
     "output_type": "execute_result"
    }
   ],
   "source": [
    "movie_budgets.duplicated().sum()"
   ]
  },
  {
   "cell_type": "code",
   "execution_count": 36,
   "metadata": {},
   "outputs": [
    {
     "data": {
      "text/plain": [
       "Index(['id', 'release_date', 'title', 'production_budget', 'domestic_gross',\n",
       "       'worldwide_gross'],\n",
       "      dtype='object')"
      ]
     },
     "execution_count": 36,
     "metadata": {},
     "output_type": "execute_result"
    }
   ],
   "source": [
    "movie_budgets.rename(columns={'movie': 'title'}, inplace=True)\n",
    "movie_budgets.columns"
   ]
  },
  {
   "cell_type": "markdown",
   "metadata": {},
   "source": [
    "## Merging the datasets"
   ]
  },
  {
   "cell_type": "code",
   "execution_count": 37,
   "metadata": {},
   "outputs": [
    {
     "data": {
      "text/plain": [
       "(1576, 13)"
      ]
     },
     "execution_count": 37,
     "metadata": {},
     "output_type": "execute_result"
    }
   ],
   "source": [
    "df_movies = movie_gross_clean.merge(movies, on='title', how='inner')\n",
    "df_movies.shape"
   ]
  },
  {
   "cell_type": "code",
   "execution_count": 38,
   "metadata": {},
   "outputs": [
    {
     "data": {
      "text/plain": [
       "title                0\n",
       "studio               0\n",
       "domestic_gross       0\n",
       "foreign_gross        0\n",
       "year                 0\n",
       "genre_ids            0\n",
       "id                   0\n",
       "original_language    0\n",
       "original_title       0\n",
       "popularity           0\n",
       "release_date         0\n",
       "vote_average         0\n",
       "vote_count           0\n",
       "dtype: int64"
      ]
     },
     "execution_count": 38,
     "metadata": {},
     "output_type": "execute_result"
    }
   ],
   "source": [
    "df_movies.isna().sum()"
   ]
  },
  {
   "cell_type": "code",
   "execution_count": 39,
   "metadata": {},
   "outputs": [
    {
     "data": {
      "text/html": [
       "<div>\n",
       "<style scoped>\n",
       "    .dataframe tbody tr th:only-of-type {\n",
       "        vertical-align: middle;\n",
       "    }\n",
       "\n",
       "    .dataframe tbody tr th {\n",
       "        vertical-align: top;\n",
       "    }\n",
       "\n",
       "    .dataframe thead th {\n",
       "        text-align: right;\n",
       "    }\n",
       "</style>\n",
       "<table border=\"1\" class=\"dataframe\">\n",
       "  <thead>\n",
       "    <tr style=\"text-align: right;\">\n",
       "      <th></th>\n",
       "      <th>title</th>\n",
       "      <th>studio</th>\n",
       "      <th>domestic_gross</th>\n",
       "      <th>foreign_gross</th>\n",
       "      <th>year</th>\n",
       "      <th>genre_ids</th>\n",
       "      <th>id</th>\n",
       "      <th>original_language</th>\n",
       "      <th>original_title</th>\n",
       "      <th>popularity</th>\n",
       "      <th>release_date</th>\n",
       "      <th>vote_average</th>\n",
       "      <th>vote_count</th>\n",
       "    </tr>\n",
       "  </thead>\n",
       "  <tbody>\n",
       "    <tr>\n",
       "      <th>0</th>\n",
       "      <td>Toy Story 3</td>\n",
       "      <td>BV</td>\n",
       "      <td>415000000.0</td>\n",
       "      <td>652000000</td>\n",
       "      <td>2010</td>\n",
       "      <td>[16, 10751, 35]</td>\n",
       "      <td>10193</td>\n",
       "      <td>en</td>\n",
       "      <td>Toy Story 3</td>\n",
       "      <td>24.445</td>\n",
       "      <td>2010-06-17</td>\n",
       "      <td>7.7</td>\n",
       "      <td>8340</td>\n",
       "    </tr>\n",
       "    <tr>\n",
       "      <th>1</th>\n",
       "      <td>Inception</td>\n",
       "      <td>WB</td>\n",
       "      <td>292600000.0</td>\n",
       "      <td>535700000</td>\n",
       "      <td>2010</td>\n",
       "      <td>[28, 878, 12]</td>\n",
       "      <td>27205</td>\n",
       "      <td>en</td>\n",
       "      <td>Inception</td>\n",
       "      <td>27.920</td>\n",
       "      <td>2010-07-16</td>\n",
       "      <td>8.3</td>\n",
       "      <td>22186</td>\n",
       "    </tr>\n",
       "    <tr>\n",
       "      <th>2</th>\n",
       "      <td>Shrek Forever After</td>\n",
       "      <td>P/DW</td>\n",
       "      <td>238700000.0</td>\n",
       "      <td>513900000</td>\n",
       "      <td>2010</td>\n",
       "      <td>[35, 12, 14, 16, 10751]</td>\n",
       "      <td>10192</td>\n",
       "      <td>en</td>\n",
       "      <td>Shrek Forever After</td>\n",
       "      <td>15.041</td>\n",
       "      <td>2010-05-16</td>\n",
       "      <td>6.1</td>\n",
       "      <td>3843</td>\n",
       "    </tr>\n",
       "    <tr>\n",
       "      <th>3</th>\n",
       "      <td>The Twilight Saga: Eclipse</td>\n",
       "      <td>Sum.</td>\n",
       "      <td>300500000.0</td>\n",
       "      <td>398000000</td>\n",
       "      <td>2010</td>\n",
       "      <td>[12, 14, 18, 10749]</td>\n",
       "      <td>24021</td>\n",
       "      <td>en</td>\n",
       "      <td>The Twilight Saga: Eclipse</td>\n",
       "      <td>20.340</td>\n",
       "      <td>2010-06-23</td>\n",
       "      <td>6.0</td>\n",
       "      <td>4909</td>\n",
       "    </tr>\n",
       "    <tr>\n",
       "      <th>4</th>\n",
       "      <td>Iron Man 2</td>\n",
       "      <td>Par.</td>\n",
       "      <td>312400000.0</td>\n",
       "      <td>311500000</td>\n",
       "      <td>2010</td>\n",
       "      <td>[12, 28, 878]</td>\n",
       "      <td>10138</td>\n",
       "      <td>en</td>\n",
       "      <td>Iron Man 2</td>\n",
       "      <td>28.515</td>\n",
       "      <td>2010-05-07</td>\n",
       "      <td>6.8</td>\n",
       "      <td>12368</td>\n",
       "    </tr>\n",
       "  </tbody>\n",
       "</table>\n",
       "</div>"
      ],
      "text/plain": [
       "                        title studio  domestic_gross foreign_gross  year  \\\n",
       "0                 Toy Story 3     BV     415000000.0     652000000  2010   \n",
       "1                   Inception     WB     292600000.0     535700000  2010   \n",
       "2         Shrek Forever After   P/DW     238700000.0     513900000  2010   \n",
       "3  The Twilight Saga: Eclipse   Sum.     300500000.0     398000000  2010   \n",
       "4                  Iron Man 2   Par.     312400000.0     311500000  2010   \n",
       "\n",
       "                 genre_ids     id original_language  \\\n",
       "0          [16, 10751, 35]  10193                en   \n",
       "1            [28, 878, 12]  27205                en   \n",
       "2  [35, 12, 14, 16, 10751]  10192                en   \n",
       "3      [12, 14, 18, 10749]  24021                en   \n",
       "4            [12, 28, 878]  10138                en   \n",
       "\n",
       "               original_title  popularity release_date  vote_average  \\\n",
       "0                 Toy Story 3      24.445   2010-06-17           7.7   \n",
       "1                   Inception      27.920   2010-07-16           8.3   \n",
       "2         Shrek Forever After      15.041   2010-05-16           6.1   \n",
       "3  The Twilight Saga: Eclipse      20.340   2010-06-23           6.0   \n",
       "4                  Iron Man 2      28.515   2010-05-07           6.8   \n",
       "\n",
       "   vote_count  \n",
       "0        8340  \n",
       "1       22186  \n",
       "2        3843  \n",
       "3        4909  \n",
       "4       12368  "
      ]
     },
     "execution_count": 39,
     "metadata": {},
     "output_type": "execute_result"
    }
   ],
   "source": [
    "df_movies.head()"
   ]
  },
  {
   "cell_type": "code",
   "execution_count": 40,
   "metadata": {},
   "outputs": [
    {
     "data": {
      "text/plain": [
       "(1094, 18)"
      ]
     },
     "execution_count": 40,
     "metadata": {},
     "output_type": "execute_result"
    }
   ],
   "source": [
    "df_movies = df_movies.merge(movie_budgets, on=\"title\", how='inner')\n",
    "df_movies.shape"
   ]
  },
  {
   "cell_type": "code",
   "execution_count": 41,
   "metadata": {},
   "outputs": [
    {
     "data": {
      "text/html": [
       "<div>\n",
       "<style scoped>\n",
       "    .dataframe tbody tr th:only-of-type {\n",
       "        vertical-align: middle;\n",
       "    }\n",
       "\n",
       "    .dataframe tbody tr th {\n",
       "        vertical-align: top;\n",
       "    }\n",
       "\n",
       "    .dataframe thead th {\n",
       "        text-align: right;\n",
       "    }\n",
       "</style>\n",
       "<table border=\"1\" class=\"dataframe\">\n",
       "  <thead>\n",
       "    <tr style=\"text-align: right;\">\n",
       "      <th></th>\n",
       "      <th>title</th>\n",
       "      <th>studio</th>\n",
       "      <th>domestic_gross_x</th>\n",
       "      <th>foreign_gross</th>\n",
       "      <th>year</th>\n",
       "      <th>genre_ids</th>\n",
       "      <th>id_x</th>\n",
       "      <th>original_language</th>\n",
       "      <th>original_title</th>\n",
       "      <th>popularity</th>\n",
       "      <th>release_date_x</th>\n",
       "      <th>vote_average</th>\n",
       "      <th>vote_count</th>\n",
       "      <th>id_y</th>\n",
       "      <th>release_date_y</th>\n",
       "      <th>production_budget</th>\n",
       "      <th>domestic_gross_y</th>\n",
       "      <th>worldwide_gross</th>\n",
       "    </tr>\n",
       "  </thead>\n",
       "  <tbody>\n",
       "    <tr>\n",
       "      <th>0</th>\n",
       "      <td>Toy Story 3</td>\n",
       "      <td>BV</td>\n",
       "      <td>415000000.0</td>\n",
       "      <td>652000000</td>\n",
       "      <td>2010</td>\n",
       "      <td>[16, 10751, 35]</td>\n",
       "      <td>10193</td>\n",
       "      <td>en</td>\n",
       "      <td>Toy Story 3</td>\n",
       "      <td>24.445</td>\n",
       "      <td>2010-06-17</td>\n",
       "      <td>7.7</td>\n",
       "      <td>8340</td>\n",
       "      <td>47</td>\n",
       "      <td>Jun 18, 2010</td>\n",
       "      <td>$200,000,000</td>\n",
       "      <td>$415,004,880</td>\n",
       "      <td>$1,068,879,522</td>\n",
       "    </tr>\n",
       "    <tr>\n",
       "      <th>1</th>\n",
       "      <td>Inception</td>\n",
       "      <td>WB</td>\n",
       "      <td>292600000.0</td>\n",
       "      <td>535700000</td>\n",
       "      <td>2010</td>\n",
       "      <td>[28, 878, 12]</td>\n",
       "      <td>27205</td>\n",
       "      <td>en</td>\n",
       "      <td>Inception</td>\n",
       "      <td>27.920</td>\n",
       "      <td>2010-07-16</td>\n",
       "      <td>8.3</td>\n",
       "      <td>22186</td>\n",
       "      <td>38</td>\n",
       "      <td>Jul 16, 2010</td>\n",
       "      <td>$160,000,000</td>\n",
       "      <td>$292,576,195</td>\n",
       "      <td>$835,524,642</td>\n",
       "    </tr>\n",
       "    <tr>\n",
       "      <th>2</th>\n",
       "      <td>Shrek Forever After</td>\n",
       "      <td>P/DW</td>\n",
       "      <td>238700000.0</td>\n",
       "      <td>513900000</td>\n",
       "      <td>2010</td>\n",
       "      <td>[35, 12, 14, 16, 10751]</td>\n",
       "      <td>10192</td>\n",
       "      <td>en</td>\n",
       "      <td>Shrek Forever After</td>\n",
       "      <td>15.041</td>\n",
       "      <td>2010-05-16</td>\n",
       "      <td>6.1</td>\n",
       "      <td>3843</td>\n",
       "      <td>27</td>\n",
       "      <td>May 21, 2010</td>\n",
       "      <td>$165,000,000</td>\n",
       "      <td>$238,736,787</td>\n",
       "      <td>$756,244,673</td>\n",
       "    </tr>\n",
       "  </tbody>\n",
       "</table>\n",
       "</div>"
      ],
      "text/plain": [
       "                 title studio  domestic_gross_x foreign_gross  year  \\\n",
       "0          Toy Story 3     BV       415000000.0     652000000  2010   \n",
       "1            Inception     WB       292600000.0     535700000  2010   \n",
       "2  Shrek Forever After   P/DW       238700000.0     513900000  2010   \n",
       "\n",
       "                 genre_ids   id_x original_language       original_title  \\\n",
       "0          [16, 10751, 35]  10193                en          Toy Story 3   \n",
       "1            [28, 878, 12]  27205                en            Inception   \n",
       "2  [35, 12, 14, 16, 10751]  10192                en  Shrek Forever After   \n",
       "\n",
       "   popularity release_date_x  vote_average  vote_count  id_y release_date_y  \\\n",
       "0      24.445     2010-06-17           7.7        8340    47   Jun 18, 2010   \n",
       "1      27.920     2010-07-16           8.3       22186    38   Jul 16, 2010   \n",
       "2      15.041     2010-05-16           6.1        3843    27   May 21, 2010   \n",
       "\n",
       "  production_budget domestic_gross_y worldwide_gross  \n",
       "0      $200,000,000     $415,004,880  $1,068,879,522  \n",
       "1      $160,000,000     $292,576,195    $835,524,642  \n",
       "2      $165,000,000     $238,736,787    $756,244,673  "
      ]
     },
     "execution_count": 41,
     "metadata": {},
     "output_type": "execute_result"
    }
   ],
   "source": [
    "df_movies.head(3)"
   ]
  },
  {
   "cell_type": "code",
   "execution_count": 42,
   "metadata": {},
   "outputs": [
    {
     "data": {
      "text/plain": [
       "Index(['title', 'studio', 'domestic_gross_x', 'foreign_gross', 'year',\n",
       "       'genre_ids', 'original_title', 'popularity', 'release_date_x',\n",
       "       'vote_average', 'vote_count', 'production_budget', 'worldwide_gross'],\n",
       "      dtype='object')"
      ]
     },
     "execution_count": 42,
     "metadata": {},
     "output_type": "execute_result"
    }
   ],
   "source": [
    "# drop columns\n",
    "cols_to_drop = ['id_x', 'original_language', 'id_y', 'release_date_y', 'domestic_gross_y']\n",
    "df_movies.drop(columns=cols_to_drop, axis=1, inplace=True)\n",
    "df_movies.columns"
   ]
  },
  {
   "cell_type": "code",
   "execution_count": 44,
   "metadata": {},
   "outputs": [
    {
     "name": "stdout",
     "output_type": "stream",
     "text": [
      "<class 'pandas.core.frame.DataFrame'>\n",
      "Int64Index: 1094 entries, 0 to 1093\n",
      "Data columns (total 13 columns):\n",
      " #   Column             Non-Null Count  Dtype  \n",
      "---  ------             --------------  -----  \n",
      " 0   title              1094 non-null   object \n",
      " 1   studio             1094 non-null   object \n",
      " 2   domestic_gross_x   1094 non-null   float64\n",
      " 3   foreign_gross      1094 non-null   object \n",
      " 4   year               1094 non-null   int64  \n",
      " 5   genre_ids          1094 non-null   object \n",
      " 6   original_title     1094 non-null   object \n",
      " 7   popularity         1094 non-null   float64\n",
      " 8   release_date_x     1094 non-null   object \n",
      " 9   vote_average       1094 non-null   float64\n",
      " 10  vote_count         1094 non-null   int64  \n",
      " 11  production_budget  1094 non-null   int32  \n",
      " 12  worldwide_gross    1094 non-null   int32  \n",
      "dtypes: float64(3), int32(2), int64(2), object(6)\n",
      "memory usage: 111.1+ KB\n"
     ]
    }
   ],
   "source": [
    "df_movies['production_budget'] = df_movies['production_budget'].str.strip('$').str.replace(',', '').astype(int)\n",
    "df_movies['worldwide_gross'] = df_movies['worldwide_gross'].str.strip('$').str.replace(',', '').astype(int)\n",
    "df_movies.info()"
   ]
  },
  {
   "cell_type": "code",
   "execution_count": 68,
   "metadata": {},
   "outputs": [
    {
     "data": {
      "text/html": [
       "<div>\n",
       "<style scoped>\n",
       "    .dataframe tbody tr th:only-of-type {\n",
       "        vertical-align: middle;\n",
       "    }\n",
       "\n",
       "    .dataframe tbody tr th {\n",
       "        vertical-align: top;\n",
       "    }\n",
       "\n",
       "    .dataframe thead th {\n",
       "        text-align: right;\n",
       "    }\n",
       "</style>\n",
       "<table border=\"1\" class=\"dataframe\">\n",
       "  <thead>\n",
       "    <tr style=\"text-align: right;\">\n",
       "      <th></th>\n",
       "      <th>title</th>\n",
       "      <th>studio</th>\n",
       "      <th>domestic_gross_x</th>\n",
       "      <th>foreign_gross</th>\n",
       "      <th>year</th>\n",
       "      <th>genre_ids</th>\n",
       "      <th>original_title</th>\n",
       "      <th>popularity</th>\n",
       "      <th>release_date_x</th>\n",
       "      <th>vote_average</th>\n",
       "      <th>vote_count</th>\n",
       "      <th>production_budget</th>\n",
       "      <th>worldwide_gross</th>\n",
       "      <th>profit</th>\n",
       "    </tr>\n",
       "  </thead>\n",
       "  <tbody>\n",
       "    <tr>\n",
       "      <th>0</th>\n",
       "      <td>Toy Story 3</td>\n",
       "      <td>BV</td>\n",
       "      <td>415000000.0</td>\n",
       "      <td>652000000</td>\n",
       "      <td>2010</td>\n",
       "      <td>[16, 10751, 35]</td>\n",
       "      <td>Toy Story 3</td>\n",
       "      <td>24.445</td>\n",
       "      <td>2010-06-17</td>\n",
       "      <td>7.7</td>\n",
       "      <td>8340</td>\n",
       "      <td>200000000</td>\n",
       "      <td>1068879522</td>\n",
       "      <td>868879522</td>\n",
       "    </tr>\n",
       "    <tr>\n",
       "      <th>1</th>\n",
       "      <td>Inception</td>\n",
       "      <td>WB</td>\n",
       "      <td>292600000.0</td>\n",
       "      <td>535700000</td>\n",
       "      <td>2010</td>\n",
       "      <td>[28, 878, 12]</td>\n",
       "      <td>Inception</td>\n",
       "      <td>27.920</td>\n",
       "      <td>2010-07-16</td>\n",
       "      <td>8.3</td>\n",
       "      <td>22186</td>\n",
       "      <td>160000000</td>\n",
       "      <td>835524642</td>\n",
       "      <td>675524642</td>\n",
       "    </tr>\n",
       "  </tbody>\n",
       "</table>\n",
       "</div>"
      ],
      "text/plain": [
       "         title studio  domestic_gross_x foreign_gross  year        genre_ids  \\\n",
       "0  Toy Story 3     BV       415000000.0     652000000  2010  [16, 10751, 35]   \n",
       "1    Inception     WB       292600000.0     535700000  2010    [28, 878, 12]   \n",
       "\n",
       "  original_title  popularity release_date_x  vote_average  vote_count  \\\n",
       "0    Toy Story 3      24.445     2010-06-17           7.7        8340   \n",
       "1      Inception      27.920     2010-07-16           8.3       22186   \n",
       "\n",
       "   production_budget  worldwide_gross     profit  \n",
       "0          200000000       1068879522  868879522  \n",
       "1          160000000        835524642  675524642  "
      ]
     },
     "execution_count": 68,
     "metadata": {},
     "output_type": "execute_result"
    }
   ],
   "source": [
    "# create profit column \n",
    "df_movies['profit'] = df_movies['worldwide_gross'] - df_movies['production_budget']\n",
    "df_movies.head(2)"
   ]
  },
  {
   "cell_type": "code",
   "execution_count": 70,
   "metadata": {},
   "outputs": [
    {
     "data": {
      "text/plain": [
       "(78698, 14)"
      ]
     },
     "execution_count": 70,
     "metadata": {},
     "output_type": "execute_result"
    }
   ],
   "source": [
    "# trial for movies info\n",
    "# merge movie info with reviews\n",
    "\n",
    "info_reviews = movies_information.merge(reviews, on='id', how='inner')\n",
    "info_reviews.shape"
   ]
  },
  {
   "cell_type": "markdown",
   "metadata": {},
   "source": [
    "## Distributions"
   ]
  },
  {
   "cell_type": "code",
   "execution_count": 49,
   "metadata": {},
   "outputs": [
    {
     "data": {
      "application/vnd.plotly.v1+json": {
       "config": {
        "plotlyServerURL": "https://plot.ly"
       },
       "data": [
        {
         "alignmentgroup": "True",
         "bingroup": "x",
         "hovertemplate": "production_budget=%{x}<br>count=%{y}<extra></extra>",
         "legendgroup": "",
         "marker": {
          "color": "#636efa"
         },
         "name": "",
         "nbinsx": 8,
         "offsetgroup": "",
         "orientation": "v",
         "showlegend": false,
         "type": "histogram",
         "x": [
          200000000,
          160000000,
          165000000,
          68000000,
          170000000,
          260000000,
          69000000,
          165000000,
          155000000,
          40000000,
          8000000,
          13000000,
          130000000,
          210000000,
          99000000,
          210000000,
          99000000,
          210000000,
          99000000,
          150000000,
          100000000,
          57500000,
          80000000,
          130000000,
          130000000,
          95000000,
          100000000,
          82000000,
          75000000,
          35000000,
          112000000,
          40000000,
          52000000,
          160000000,
          65000000,
          60000000,
          80000000,
          60000000,
          3000000,
          110000000,
          100000000,
          95000000,
          95000000,
          80000000,
          37000000,
          55000000,
          100000000,
          150000000,
          45000000,
          11000000,
          40000000,
          25000000,
          85000000,
          48000000,
          50000000,
          90000000,
          75000000,
          28000000,
          100000000,
          40000000,
          55000000,
          20000000,
          69000000,
          50000000,
          24000000,
          80000000,
          60000000,
          60000000,
          20000000,
          30000000,
          15000000,
          8000000,
          32000000,
          20000000,
          1800000,
          30000000,
          10000000,
          36000000,
          10000000,
          18000000,
          35000000,
          45000000,
          40000000,
          16000000,
          37000000,
          19000000,
          19000000,
          20000000,
          44000000,
          28000000,
          12500000,
          32000000,
          21000000,
          35000000,
          24000000,
          4000000,
          15000000,
          19000000,
          19000000,
          20000000,
          25000000,
          15000000,
          20000000,
          20000000,
          18000000,
          12000000,
          14000000,
          25000000,
          15000000,
          8000000,
          8000000,
          1987650,
          32000000,
          90000000,
          5000000,
          31000000,
          7000000,
          2000000,
          8000000,
          1000000,
          13000000,
          42000000,
          47000000,
          7300000,
          7000000,
          12500000,
          7000000,
          22000000,
          22000000,
          15000000,
          10000000,
          2000000,
          10000000,
          10000000,
          15000000,
          4200000,
          1900000,
          8000000,
          5000000,
          9500000,
          3750000,
          3000000,
          500000,
          500000,
          13000000,
          12500000,
          8000000,
          9200000,
          3000000,
          4500000,
          12500000,
          9000000,
          18000000,
          1500000,
          16000000,
          20000000,
          3000000,
          1750000,
          7000000,
          20000000,
          3800000,
          10000000,
          45000000,
          45000000,
          2900000,
          195000000,
          410600000,
          150000000,
          125000000,
          80000000,
          110000000,
          200000000,
          130000000,
          125000000,
          90000000,
          93000000,
          150000000,
          130000000,
          140000000,
          160000000,
          80000000,
          110000000,
          32500000,
          50000000,
          135000000,
          110000000,
          75000000,
          200000000,
          25000000,
          19000000,
          70000000,
          35000000,
          5000000,
          180000000,
          63000000,
          70000000,
          20000000,
          35000000,
          80000000,
          45000000,
          27000000,
          45000000,
          40000000,
          85000000,
          30000000,
          135000000,
          79000000,
          35000000,
          25000000,
          85000000,
          32000000,
          60000000,
          16000000,
          40000000,
          3700000,
          50200000,
          50000000,
          38000000,
          14000000,
          50000000,
          30000000,
          13000000,
          40000000,
          40000000,
          1500000,
          37000000,
          37000000,
          40000000,
          75000000,
          42000000,
          27000000,
          35000000,
          68000000,
          32000000,
          35000000,
          60000000,
          42500000,
          23000000,
          52000000,
          40000000,
          18000000,
          30000000,
          70000000,
          34800000,
          30000000,
          40000000,
          35000000,
          15000000,
          70000000,
          35000000,
          30000000,
          18000000,
          20000000,
          17000000,
          28000000,
          16000000,
          25000000,
          20000000,
          8000000,
          150000000,
          50000000,
          7000000,
          25000000,
          10000000,
          25000000,
          24000000,
          20000000,
          50000000,
          20000000,
          25000000,
          5000000,
          35000000,
          50000000,
          50000000,
          45000000,
          25000000,
          12000000,
          6000000,
          3400000,
          6500000,
          6500000,
          6500000,
          13400000,
          9400000,
          25000000,
          27500000,
          3200000,
          6000000,
          5500000,
          3000000,
          41000000,
          21000000,
          7000000,
          13000000,
          20000000,
          250000,
          1000000,
          30000000,
          4750000,
          11000000,
          175000,
          1900000,
          4500000,
          40000000,
          40000000,
          40000000,
          4000000,
          200000000,
          275000000,
          250000000,
          95000000,
          220000000,
          145000000,
          80000000,
          120000000,
          50000000,
          185000000,
          185000000,
          165000000,
          100000000,
          125000000,
          170000000,
          45000000,
          85000000,
          79000000,
          100000000,
          145000000,
          150000000,
          220000000,
          275000000,
          125000000,
          65000000,
          150000000,
          65000000,
          21000000,
          50000000,
          44500000,
          60000000,
          85000000,
          42000000,
          30000000,
          85000000,
          40000000,
          65000000,
          30000000,
          7000000,
          31000000,
          65000000,
          5000000,
          33000000,
          10000000,
          52500000,
          57000000,
          102000000,
          15000000,
          25000000,
          67500000,
          17000000,
          30000000,
          60000000,
          95000000,
          12000000,
          12000000,
          1000000,
          25000000,
          25000000,
          12000000,
          14000000,
          37500000,
          39000000,
          12000000,
          3000000,
          3000000,
          25000000,
          22000000,
          21500000,
          42000000,
          49000000,
          55000000,
          16000000,
          30000000,
          70000000,
          57500000,
          40000000,
          30000000,
          30000000,
          26000000,
          20000000,
          58000000,
          60000000,
          15000000,
          42000000,
          40000000,
          15000000,
          1000000,
          45000000,
          12000000,
          35000000,
          13000000,
          23000000,
          12000000,
          20000000,
          27500000,
          35000000,
          26000000,
          26000000,
          37500000,
          37500000,
          40000000,
          40000000,
          32500000,
          1800000,
          8900000,
          9700000,
          15000000,
          13500000,
          20000000,
          6000000,
          2000000,
          3000000,
          14000000,
          10000000,
          17000000,
          17000000,
          1000000,
          25000000,
          20000000,
          7500000,
          10000000,
          10000000,
          12500000,
          12500000,
          10000000,
          800000,
          150000000,
          150000000,
          200000000,
          76000000,
          250000000,
          130000000,
          200000000,
          110000000,
          225000000,
          150000000,
          135000000,
          190000000,
          190000000,
          115000000,
          190000000,
          100000000,
          140000000,
          75000000,
          110000000,
          20000000,
          92000000,
          120000000,
          120000000,
          135000000,
          78000000,
          37000000,
          100000000,
          275000000,
          40000000,
          80000000,
          130000000,
          43000000,
          55000000,
          150000000,
          90000000,
          195000000,
          91000000,
          20000000,
          35000000,
          50000000,
          70000000,
          40000000,
          15000000,
          175000000,
          15000000,
          70000000,
          28000000,
          61000000,
          80000000,
          110000000,
          46000000,
          35000000,
          30000000,
          55000000,
          60000000,
          12000000,
          38000000,
          28000000,
          18000000,
          60000000,
          58000000,
          3000000,
          24000000,
          12000000,
          130000000,
          19000000,
          25000000,
          17000000,
          25000000,
          12800000,
          30000000,
          28000000,
          2500000,
          11000000,
          5000000,
          22000000,
          30000000,
          20000000,
          32500000,
          35000000,
          20000000,
          40000000,
          22000000,
          18000000,
          15000000,
          11000000,
          10000000,
          10000000,
          2500000,
          5000000,
          5500000,
          12000000,
          32000000,
          35000000,
          15000000,
          3500000,
          8000000,
          16000000,
          950000,
          8500000,
          9000000,
          30000000,
          900000,
          20000000,
          22000000,
          20000000,
          40000000,
          40000000,
          40000000,
          12000000,
          3000000,
          4800000,
          26000000,
          50000000,
          17500000,
          4500000,
          46500000,
          6500000,
          5000000,
          210000000,
          250000000,
          170000000,
          180000000,
          125000000,
          200000000,
          170000000,
          170000000,
          200000000,
          165000000,
          165000000,
          145000000,
          58000000,
          130000000,
          40000000,
          132000000,
          178000000,
          61000000,
          127000000,
          130000000,
          130000000,
          130000000,
          34000000,
          50000000,
          85000000,
          145000000,
          18000000,
          140000000,
          6500000,
          15000000,
          50000000,
          50000000,
          70000000,
          100000000,
          56200000,
          66000000,
          55000000,
          31000000,
          40000000,
          65000000,
          70000000,
          25000000,
          60000000,
          45000000,
          40000000,
          15000000,
          30000000,
          80000000,
          9000000,
          60000000,
          40000000,
          5000000,
          100000000,
          100000000,
          28000000,
          12000000,
          20000000,
          5000000,
          22000000,
          30000000,
          40000000,
          50000000,
          50000000,
          55000000,
          11000000,
          65000000,
          24000000,
          28000000,
          22000000,
          40000000,
          25000000,
          20000000,
          8000000,
          70000000,
          36000000,
          13000000,
          28000000,
          28000000,
          3300000,
          3300000,
          13000000,
          4000000,
          5000000,
          8000000,
          25000000,
          3000000,
          25000000,
          8500000,
          7000000,
          15000000,
          26000000,
          15000000,
          25000000,
          10000000,
          12000000,
          18000000,
          4000000,
          18000000,
          14000000,
          18000000,
          12600000,
          20000000,
          20000000,
          2000000,
          16000000,
          6000000,
          6000000,
          8500000,
          400000,
          400000,
          215000000,
          190000000,
          330600000,
          74000000,
          300000000,
          175000000,
          175000000,
          160000000,
          108000000,
          40000000,
          135000000,
          130000000,
          80000000,
          110000000,
          94000000,
          150000000,
          187500000,
          48000000,
          74000000,
          61000000,
          29000000,
          55000000,
          99000000,
          90000000,
          90000000,
          90000000,
          68000000,
          170000000,
          28000000,
          40000000,
          179000000,
          37000000,
          120000000,
          87500000,
          40000000,
          62000000,
          58000000,
          80000000,
          35000000,
          28000000,
          150000000,
          14500000,
          95000000,
          40000000,
          38000000,
          30000000,
          31000000,
          31000000,
          49000000,
          60000000,
          53000000,
          53000000,
          5000000,
          5000000,
          20000000,
          20000000,
          100000000,
          30000000,
          10000000,
          12000000,
          30000000,
          35000000,
          23000000,
          10000000,
          55000000,
          22000000,
          50000000,
          30000000,
          1000000,
          34000000,
          11000000,
          11000000,
          11000000,
          15000000,
          35000000,
          18000000,
          5000000,
          10000000,
          4000000,
          4000000,
          25000000,
          35000000,
          30000000,
          60000000,
          17000000,
          5000000,
          8500000,
          25000000,
          25000000,
          25000000,
          25000000,
          100000,
          18000000,
          6000000,
          18000000,
          11800000,
          5000000,
          5000000,
          22500000,
          8000000,
          13000000,
          20000000,
          13000000,
          30000000,
          40000000,
          12000000,
          28000000,
          37000000,
          25000000,
          40000000,
          70000000,
          7000000,
          10000000,
          15000000,
          14000000,
          35000000,
          2300000,
          14000000,
          50000000,
          2000000,
          10000000,
          50000000,
          8000000,
          8000000,
          12000000,
          12000000,
          17000000,
          20000000,
          5000000,
          3000000,
          3000000,
          250000000,
          200000000,
          200000000,
          150000000,
          75000000,
          250000000,
          58000000,
          175000000,
          165000000,
          150000000,
          150000000,
          75000000,
          178000000,
          140000000,
          20000000,
          160000000,
          120000000,
          105000000,
          165000000,
          180000000,
          73000000,
          125000000,
          185000000,
          90000000,
          9500000,
          170000000,
          135000000,
          60000000,
          25000000,
          75000000,
          50000000,
          20000000,
          60000000,
          47000000,
          20000000,
          70000000,
          140000000,
          40000000,
          60000000,
          40000000,
          140000000,
          5000000,
          19000000,
          12000000,
          40000000,
          40000000,
          156000000,
          106000000,
          13000000,
          10000000,
          38000000,
          45000000,
          5000000,
          38000000,
          35000000,
          77500000,
          11500000,
          27000000,
          18000000,
          36000000,
          50000000,
          20000000,
          20000000,
          9000000,
          8500000,
          29000000,
          33000000,
          13000000,
          55000000,
          50000000,
          24000000,
          22000000,
          50000000,
          50000000,
          20000000,
          70000000,
          40000000,
          29000000,
          43000000,
          23000000,
          20000000,
          10000000,
          17000000,
          3500000,
          12000000,
          10000000,
          10000000,
          10000000,
          50000000,
          10000000,
          22500000,
          20000000,
          50000000,
          8500000,
          20000000,
          5000000,
          9000000,
          20000000,
          2000000,
          28000000,
          5000000,
          10000000,
          9000000,
          10000000,
          5000000,
          15000000,
          18000000,
          8000000,
          8000000,
          5000000,
          10000000,
          18000000,
          17000000,
          3500000,
          250000000,
          75000000,
          90000000,
          175000000,
          180000000,
          150000000,
          150000000,
          175000000,
          230000000,
          35000000,
          300000000,
          217000000,
          185000000,
          125000000,
          150000000,
          152000000,
          84000000,
          104000000,
          175000000,
          55000000,
          150000000,
          40000000,
          15000000,
          20000000,
          111000000,
          5000000,
          5000000,
          5000000,
          5000000,
          185000000,
          5000000,
          5000000,
          30000000,
          97000000,
          34000000,
          180000000,
          100000000,
          50000000,
          60000000,
          19500000,
          45000000,
          50000000,
          60000000,
          12000000,
          30000000,
          175000000,
          35000000,
          28000000,
          50000000,
          28000000,
          38000000,
          5000000,
          60000000,
          10000000,
          30000000,
          25000000,
          35000000,
          10000000,
          63000000,
          40000000,
          125000000,
          20000000,
          10000000,
          42000000,
          42000000,
          5000000,
          68000000,
          11000000,
          29000000,
          20000000,
          30000000,
          35000000,
          7000000,
          25000000,
          22000000,
          40000000,
          10000000,
          7400000,
          25000000,
          15000000,
          30000000,
          30000000,
          22000000,
          30000000,
          25000000,
          22000000,
          2000000,
          5000000,
          29200000,
          3000000,
          3000000,
          1000000,
          17500000,
          300000000,
          200000000,
          200000000,
          170000000,
          200000000,
          160000000,
          55000000,
          110000000,
          200000000,
          130000000,
          150000000,
          178000000,
          65000000,
          102000000,
          275000000,
          55000000,
          50000000,
          130000000,
          17000000,
          23000000,
          125000000,
          61000000,
          90000000,
          30000000,
          80000000,
          50000000,
          77000000,
          132900000,
          50000000,
          50000000,
          10000000,
          69000000,
          13000000,
          103000000,
          48000000,
          40000000,
          37000000,
          60000000,
          51000000,
          51000000,
          20000000,
          15000000,
          3500000,
          3500000,
          3500000,
          3500000,
          3500000,
          32000000,
          21000000,
          35000000,
          15000000,
          59000000,
          100000000,
          30000000,
          10000000,
          28000000,
          28000000,
          60000000,
          60000000,
          40000000,
          35000000,
          15700000,
          35000000,
          10000000,
          35000000,
          30000000,
          35000000,
          35000000,
          30000000,
          50000000,
          25000000,
          10000000,
          18000000,
          25000000,
          6000000,
          34000000,
          20000000,
          23000000,
          30000000,
          5000000,
          30000000,
          12000000,
          5500000,
          1000000,
          3000000,
          1500000,
          38000000,
          45000000,
          15000000,
          30000000,
          20000000,
          9000000,
          30000000
         ],
         "xaxis": "x",
         "yaxis": "y"
        }
       ],
       "layout": {
        "barmode": "relative",
        "legend": {
         "tracegroupgap": 0
        },
        "margin": {
         "t": 60
        },
        "template": {
         "data": {
          "bar": [
           {
            "error_x": {
             "color": "#2a3f5f"
            },
            "error_y": {
             "color": "#2a3f5f"
            },
            "marker": {
             "line": {
              "color": "#E5ECF6",
              "width": 0.5
             }
            },
            "type": "bar"
           }
          ],
          "barpolar": [
           {
            "marker": {
             "line": {
              "color": "#E5ECF6",
              "width": 0.5
             }
            },
            "type": "barpolar"
           }
          ],
          "carpet": [
           {
            "aaxis": {
             "endlinecolor": "#2a3f5f",
             "gridcolor": "white",
             "linecolor": "white",
             "minorgridcolor": "white",
             "startlinecolor": "#2a3f5f"
            },
            "baxis": {
             "endlinecolor": "#2a3f5f",
             "gridcolor": "white",
             "linecolor": "white",
             "minorgridcolor": "white",
             "startlinecolor": "#2a3f5f"
            },
            "type": "carpet"
           }
          ],
          "choropleth": [
           {
            "colorbar": {
             "outlinewidth": 0,
             "ticks": ""
            },
            "type": "choropleth"
           }
          ],
          "contour": [
           {
            "colorbar": {
             "outlinewidth": 0,
             "ticks": ""
            },
            "colorscale": [
             [
              0,
              "#0d0887"
             ],
             [
              0.1111111111111111,
              "#46039f"
             ],
             [
              0.2222222222222222,
              "#7201a8"
             ],
             [
              0.3333333333333333,
              "#9c179e"
             ],
             [
              0.4444444444444444,
              "#bd3786"
             ],
             [
              0.5555555555555556,
              "#d8576b"
             ],
             [
              0.6666666666666666,
              "#ed7953"
             ],
             [
              0.7777777777777778,
              "#fb9f3a"
             ],
             [
              0.8888888888888888,
              "#fdca26"
             ],
             [
              1,
              "#f0f921"
             ]
            ],
            "type": "contour"
           }
          ],
          "contourcarpet": [
           {
            "colorbar": {
             "outlinewidth": 0,
             "ticks": ""
            },
            "type": "contourcarpet"
           }
          ],
          "heatmap": [
           {
            "colorbar": {
             "outlinewidth": 0,
             "ticks": ""
            },
            "colorscale": [
             [
              0,
              "#0d0887"
             ],
             [
              0.1111111111111111,
              "#46039f"
             ],
             [
              0.2222222222222222,
              "#7201a8"
             ],
             [
              0.3333333333333333,
              "#9c179e"
             ],
             [
              0.4444444444444444,
              "#bd3786"
             ],
             [
              0.5555555555555556,
              "#d8576b"
             ],
             [
              0.6666666666666666,
              "#ed7953"
             ],
             [
              0.7777777777777778,
              "#fb9f3a"
             ],
             [
              0.8888888888888888,
              "#fdca26"
             ],
             [
              1,
              "#f0f921"
             ]
            ],
            "type": "heatmap"
           }
          ],
          "heatmapgl": [
           {
            "colorbar": {
             "outlinewidth": 0,
             "ticks": ""
            },
            "colorscale": [
             [
              0,
              "#0d0887"
             ],
             [
              0.1111111111111111,
              "#46039f"
             ],
             [
              0.2222222222222222,
              "#7201a8"
             ],
             [
              0.3333333333333333,
              "#9c179e"
             ],
             [
              0.4444444444444444,
              "#bd3786"
             ],
             [
              0.5555555555555556,
              "#d8576b"
             ],
             [
              0.6666666666666666,
              "#ed7953"
             ],
             [
              0.7777777777777778,
              "#fb9f3a"
             ],
             [
              0.8888888888888888,
              "#fdca26"
             ],
             [
              1,
              "#f0f921"
             ]
            ],
            "type": "heatmapgl"
           }
          ],
          "histogram": [
           {
            "marker": {
             "colorbar": {
              "outlinewidth": 0,
              "ticks": ""
             }
            },
            "type": "histogram"
           }
          ],
          "histogram2d": [
           {
            "colorbar": {
             "outlinewidth": 0,
             "ticks": ""
            },
            "colorscale": [
             [
              0,
              "#0d0887"
             ],
             [
              0.1111111111111111,
              "#46039f"
             ],
             [
              0.2222222222222222,
              "#7201a8"
             ],
             [
              0.3333333333333333,
              "#9c179e"
             ],
             [
              0.4444444444444444,
              "#bd3786"
             ],
             [
              0.5555555555555556,
              "#d8576b"
             ],
             [
              0.6666666666666666,
              "#ed7953"
             ],
             [
              0.7777777777777778,
              "#fb9f3a"
             ],
             [
              0.8888888888888888,
              "#fdca26"
             ],
             [
              1,
              "#f0f921"
             ]
            ],
            "type": "histogram2d"
           }
          ],
          "histogram2dcontour": [
           {
            "colorbar": {
             "outlinewidth": 0,
             "ticks": ""
            },
            "colorscale": [
             [
              0,
              "#0d0887"
             ],
             [
              0.1111111111111111,
              "#46039f"
             ],
             [
              0.2222222222222222,
              "#7201a8"
             ],
             [
              0.3333333333333333,
              "#9c179e"
             ],
             [
              0.4444444444444444,
              "#bd3786"
             ],
             [
              0.5555555555555556,
              "#d8576b"
             ],
             [
              0.6666666666666666,
              "#ed7953"
             ],
             [
              0.7777777777777778,
              "#fb9f3a"
             ],
             [
              0.8888888888888888,
              "#fdca26"
             ],
             [
              1,
              "#f0f921"
             ]
            ],
            "type": "histogram2dcontour"
           }
          ],
          "mesh3d": [
           {
            "colorbar": {
             "outlinewidth": 0,
             "ticks": ""
            },
            "type": "mesh3d"
           }
          ],
          "parcoords": [
           {
            "line": {
             "colorbar": {
              "outlinewidth": 0,
              "ticks": ""
             }
            },
            "type": "parcoords"
           }
          ],
          "pie": [
           {
            "automargin": true,
            "type": "pie"
           }
          ],
          "scatter": [
           {
            "marker": {
             "colorbar": {
              "outlinewidth": 0,
              "ticks": ""
             }
            },
            "type": "scatter"
           }
          ],
          "scatter3d": [
           {
            "line": {
             "colorbar": {
              "outlinewidth": 0,
              "ticks": ""
             }
            },
            "marker": {
             "colorbar": {
              "outlinewidth": 0,
              "ticks": ""
             }
            },
            "type": "scatter3d"
           }
          ],
          "scattercarpet": [
           {
            "marker": {
             "colorbar": {
              "outlinewidth": 0,
              "ticks": ""
             }
            },
            "type": "scattercarpet"
           }
          ],
          "scattergeo": [
           {
            "marker": {
             "colorbar": {
              "outlinewidth": 0,
              "ticks": ""
             }
            },
            "type": "scattergeo"
           }
          ],
          "scattergl": [
           {
            "marker": {
             "colorbar": {
              "outlinewidth": 0,
              "ticks": ""
             }
            },
            "type": "scattergl"
           }
          ],
          "scattermapbox": [
           {
            "marker": {
             "colorbar": {
              "outlinewidth": 0,
              "ticks": ""
             }
            },
            "type": "scattermapbox"
           }
          ],
          "scatterpolar": [
           {
            "marker": {
             "colorbar": {
              "outlinewidth": 0,
              "ticks": ""
             }
            },
            "type": "scatterpolar"
           }
          ],
          "scatterpolargl": [
           {
            "marker": {
             "colorbar": {
              "outlinewidth": 0,
              "ticks": ""
             }
            },
            "type": "scatterpolargl"
           }
          ],
          "scatterternary": [
           {
            "marker": {
             "colorbar": {
              "outlinewidth": 0,
              "ticks": ""
             }
            },
            "type": "scatterternary"
           }
          ],
          "surface": [
           {
            "colorbar": {
             "outlinewidth": 0,
             "ticks": ""
            },
            "colorscale": [
             [
              0,
              "#0d0887"
             ],
             [
              0.1111111111111111,
              "#46039f"
             ],
             [
              0.2222222222222222,
              "#7201a8"
             ],
             [
              0.3333333333333333,
              "#9c179e"
             ],
             [
              0.4444444444444444,
              "#bd3786"
             ],
             [
              0.5555555555555556,
              "#d8576b"
             ],
             [
              0.6666666666666666,
              "#ed7953"
             ],
             [
              0.7777777777777778,
              "#fb9f3a"
             ],
             [
              0.8888888888888888,
              "#fdca26"
             ],
             [
              1,
              "#f0f921"
             ]
            ],
            "type": "surface"
           }
          ],
          "table": [
           {
            "cells": {
             "fill": {
              "color": "#EBF0F8"
             },
             "line": {
              "color": "white"
             }
            },
            "header": {
             "fill": {
              "color": "#C8D4E3"
             },
             "line": {
              "color": "white"
             }
            },
            "type": "table"
           }
          ]
         },
         "layout": {
          "annotationdefaults": {
           "arrowcolor": "#2a3f5f",
           "arrowhead": 0,
           "arrowwidth": 1
          },
          "coloraxis": {
           "colorbar": {
            "outlinewidth": 0,
            "ticks": ""
           }
          },
          "colorscale": {
           "diverging": [
            [
             0,
             "#8e0152"
            ],
            [
             0.1,
             "#c51b7d"
            ],
            [
             0.2,
             "#de77ae"
            ],
            [
             0.3,
             "#f1b6da"
            ],
            [
             0.4,
             "#fde0ef"
            ],
            [
             0.5,
             "#f7f7f7"
            ],
            [
             0.6,
             "#e6f5d0"
            ],
            [
             0.7,
             "#b8e186"
            ],
            [
             0.8,
             "#7fbc41"
            ],
            [
             0.9,
             "#4d9221"
            ],
            [
             1,
             "#276419"
            ]
           ],
           "sequential": [
            [
             0,
             "#0d0887"
            ],
            [
             0.1111111111111111,
             "#46039f"
            ],
            [
             0.2222222222222222,
             "#7201a8"
            ],
            [
             0.3333333333333333,
             "#9c179e"
            ],
            [
             0.4444444444444444,
             "#bd3786"
            ],
            [
             0.5555555555555556,
             "#d8576b"
            ],
            [
             0.6666666666666666,
             "#ed7953"
            ],
            [
             0.7777777777777778,
             "#fb9f3a"
            ],
            [
             0.8888888888888888,
             "#fdca26"
            ],
            [
             1,
             "#f0f921"
            ]
           ],
           "sequentialminus": [
            [
             0,
             "#0d0887"
            ],
            [
             0.1111111111111111,
             "#46039f"
            ],
            [
             0.2222222222222222,
             "#7201a8"
            ],
            [
             0.3333333333333333,
             "#9c179e"
            ],
            [
             0.4444444444444444,
             "#bd3786"
            ],
            [
             0.5555555555555556,
             "#d8576b"
            ],
            [
             0.6666666666666666,
             "#ed7953"
            ],
            [
             0.7777777777777778,
             "#fb9f3a"
            ],
            [
             0.8888888888888888,
             "#fdca26"
            ],
            [
             1,
             "#f0f921"
            ]
           ]
          },
          "colorway": [
           "#636efa",
           "#EF553B",
           "#00cc96",
           "#ab63fa",
           "#FFA15A",
           "#19d3f3",
           "#FF6692",
           "#B6E880",
           "#FF97FF",
           "#FECB52"
          ],
          "font": {
           "color": "#2a3f5f"
          },
          "geo": {
           "bgcolor": "white",
           "lakecolor": "white",
           "landcolor": "#E5ECF6",
           "showlakes": true,
           "showland": true,
           "subunitcolor": "white"
          },
          "hoverlabel": {
           "align": "left"
          },
          "hovermode": "closest",
          "mapbox": {
           "style": "light"
          },
          "paper_bgcolor": "white",
          "plot_bgcolor": "#E5ECF6",
          "polar": {
           "angularaxis": {
            "gridcolor": "white",
            "linecolor": "white",
            "ticks": ""
           },
           "bgcolor": "#E5ECF6",
           "radialaxis": {
            "gridcolor": "white",
            "linecolor": "white",
            "ticks": ""
           }
          },
          "scene": {
           "xaxis": {
            "backgroundcolor": "#E5ECF6",
            "gridcolor": "white",
            "gridwidth": 2,
            "linecolor": "white",
            "showbackground": true,
            "ticks": "",
            "zerolinecolor": "white"
           },
           "yaxis": {
            "backgroundcolor": "#E5ECF6",
            "gridcolor": "white",
            "gridwidth": 2,
            "linecolor": "white",
            "showbackground": true,
            "ticks": "",
            "zerolinecolor": "white"
           },
           "zaxis": {
            "backgroundcolor": "#E5ECF6",
            "gridcolor": "white",
            "gridwidth": 2,
            "linecolor": "white",
            "showbackground": true,
            "ticks": "",
            "zerolinecolor": "white"
           }
          },
          "shapedefaults": {
           "line": {
            "color": "#2a3f5f"
           }
          },
          "ternary": {
           "aaxis": {
            "gridcolor": "white",
            "linecolor": "white",
            "ticks": ""
           },
           "baxis": {
            "gridcolor": "white",
            "linecolor": "white",
            "ticks": ""
           },
           "bgcolor": "#E5ECF6",
           "caxis": {
            "gridcolor": "white",
            "linecolor": "white",
            "ticks": ""
           }
          },
          "title": {
           "x": 0.05
          },
          "xaxis": {
           "automargin": true,
           "gridcolor": "white",
           "linecolor": "white",
           "ticks": "",
           "title": {
            "standoff": 15
           },
           "zerolinecolor": "white",
           "zerolinewidth": 2
          },
          "yaxis": {
           "automargin": true,
           "gridcolor": "white",
           "linecolor": "white",
           "ticks": "",
           "title": {
            "standoff": 15
           },
           "zerolinecolor": "white",
           "zerolinewidth": 2
          }
         }
        },
        "xaxis": {
         "anchor": "y",
         "domain": [
          0,
          1
         ],
         "title": {
          "text": "production_budget"
         }
        },
        "yaxis": {
         "anchor": "x",
         "domain": [
          0,
          1
         ],
         "title": {
          "text": "count"
         }
        }
       }
      }
     },
     "metadata": {},
     "output_type": "display_data"
    }
   ],
   "source": [
    "# check for distributions\n",
    "fig = px.histogram(df_movies, x=\"production_budget\", nbins=8)\n",
    "fig.show()"
   ]
  },
  {
   "cell_type": "code",
   "execution_count": 63,
   "metadata": {},
   "outputs": [
    {
     "data": {
      "application/vnd.plotly.v1+json": {
       "config": {
        "plotlyServerURL": "https://plot.ly"
       },
       "data": [
        {
         "alignmentgroup": "True",
         "bingroup": "x",
         "hovertemplate": "worldwide gross=%{x}<br>count=%{y}<extra></extra>",
         "legendgroup": "",
         "marker": {
          "color": "#636efa"
         },
         "name": "",
         "nbinsx": 10,
         "offsetgroup": "",
         "orientation": "v",
         "showlegend": false,
         "type": "histogram",
         "x": [
          1068879522,
          835524642,
          756244673,
          706102828,
          621156389,
          586477240,
          543464573,
          494870992,
          418186950,
          351774938,
          90815558,
          331266710,
          321887208,
          322459006,
          84747441,
          322459006,
          84747441,
          322459006,
          84747441,
          319713881,
          310650574,
          295874190,
          299461782,
          290650494,
          290650494,
          294680778,
          278731369,
          268268174,
          272223430,
          252276928,
          232017848,
          224922135,
          217569328,
          217986320,
          211739043,
          206598789,
          204774690,
          196439693,
          177512032,
          177241171,
          170936470,
          165720921,
          165720921,
          158750817,
          152566881,
          152269033,
          139716717,
          142634358,
          135808837,
          129262388,
          127234389,
          142033509,
          113026383,
          112610386,
          108660270,
          239373970,
          95572749,
          97531134,
          97523020,
          91455875,
          90552675,
          92678948,
          86796502,
          89895930,
          83660160,
          86787530,
          82812456,
          82812456,
          81424988,
          82148538,
          76954311,
          76200721,
          70587268,
          67950723,
          70165900,
          67255916,
          68264973,
          65967750,
          63354114,
          60217171,
          60376247,
          65532491,
          59795070,
          56506120,
          55909910,
          56445534,
          49858465,
          48680977,
          48478084,
          46752858,
          46370970,
          43603990,
          38017873,
          39340177,
          35792945,
          36275469,
          34247816,
          32618920,
          32618920,
          32838945,
          29863840,
          27469621,
          28270399,
          28270399,
          25941437,
          21867665,
          21410546,
          16727470,
          20601987,
          20005613,
          20005613,
          21270290,
          18195238,
          20466016,
          16515203,
          15826984,
          17023121,
          16131551,
          15644196,
          16566240,
          11831131,
          8514325,
          11022696,
          12023606,
          10062896,
          11826980,
          10828305,
          4065020,
          4065020,
          11173718,
          8629895,
          7799257,
          3541565,
          3541565,
          7885048,
          8078683,
          7785229,
          6632950,
          6205034,
          5278632,
          2436111,
          4570178,
          5639730,
          5639730,
          3617277,
          3931367,
          5314194,
          17155193,
          3237452,
          2481925,
          2272186,
          85527,
          1619153,
          1605139,
          1467278,
          873617,
          1022453,
          1278471,
          492108,
          277943,
          340930,
          355919,
          174278214,
          174278214,
          172867,
          1123790543,
          1045663875,
          664837547,
          630163454,
          586464305,
          563749323,
          560155383,
          554987477,
          535663443,
          487519809,
          470986200,
          449326618,
          373993951,
          370569776,
          355408305,
          349088523,
          263880341,
          289632023,
          257972745,
          245724600,
          229155503,
          211562435,
          219535492,
          213120004,
          215448997,
          213463976,
          212417601,
          207039844,
          180047784,
          188657593,
          156815529,
          175507800,
          165103952,
          170805525,
          160971922,
          155564919,
          164640401,
          155011165,
          150422946,
          162502774,
          157956466,
          150519217,
          146595891,
          149228078,
          149717124,
          140428499,
          137551594,
          128256712,
          136123083,
          3355048,
          126931325,
          118729073,
          116809717,
          115592104,
          111300835,
          108957098,
          99034125,
          101162106,
          95989590,
          99870886,
          97143987,
          96068724,
          91126600,
          89758389,
          91678442,
          80681183,
          84606030,
          87173475,
          82332450,
          86648359,
          84154026,
          76347393,
          77735925,
          75997067,
          87145086,
          73695194,
          61449135,
          70546865,
          62831715,
          65343694,
          72295262,
          65084116,
          59168692,
          65409046,
          61721826,
          50145607,
          47158652,
          46604054,
          38028230,
          40966716,
          52545707,
          18877153,
          39686769,
          41334735,
          39549758,
          41642166,
          38158601,
          39126427,
          34240572,
          38749404,
          24474463,
          30163785,
          41042583,
          14807531,
          38993548,
          26517819,
          24687524,
          26121638,
          26121638,
          21544732,
          24215385,
          22750356,
          21197454,
          20433227,
          20412841,
          20412841,
          20412841,
          164247,
          21817298,
          15907411,
          15815509,
          14314407,
          11348205,
          13480196,
          0,
          7684524,
          5046038,
          10765283,
          6459183,
          6093725,
          3728400,
          5438911,
          3721988,
          4972016,
          229653,
          2102779,
          4581937,
          1217307,
          195111193,
          195111193,
          195111193,
          978527,
          1110526981,
          1084439099,
          1017003568,
          879765137,
          757890267,
          746921271,
          677923379,
          620912003,
          556016627,
          554606532,
          554606532,
          496511521,
          449948323,
          402448265,
          401021746,
          377807404,
          378505812,
          318146162,
          311979256,
          306900902,
          305270083,
          313477717,
          282778100,
          280355920,
          273346281,
          238202668,
          240647629,
          236412453,
          236799211,
          227140757,
          217370736,
          208542162,
          202812429,
          197618160,
          173613482,
          169590606,
          180148897,
          170466405,
          170549753,
          160558438,
          156974557,
          142817992,
          165552290,
          134639780,
          134612435,
          149217355,
          130673154,
          128955898,
          120832383,
          137489730,
          116044347,
          133085295,
          108119662,
          104907746,
          103028188,
          103028188,
          101759490,
          96633833,
          98406855,
          113373764,
          82925064,
          88473016,
          81150788,
          82497035,
          87727807,
          87727807,
          81249176,
          77229695,
          74326015,
          73239258,
          71004627,
          67130045,
          68848446,
          70689968,
          61031932,
          58085235,
          55249159,
          54052249,
          61623819,
          54393687,
          55975672,
          50365498,
          47818913,
          57586606,
          49621440,
          41294674,
          39238443,
          42411721,
          41467606,
          35830713,
          35426759,
          33069303,
          36374700,
          32700439,
          33943049,
          31157914,
          31393201,
          30601801,
          30601801,
          50647416,
          50647416,
          25268680,
          20790486,
          24159934,
          23265132,
          22744132,
          36787044,
          22018988,
          33035736,
          25361206,
          16369708,
          16610760,
          12577401,
          11166615,
          11766959,
          10637281,
          10637281,
          11495204,
          9313302,
          8300821,
          8539003,
          4708127,
          4659110,
          4027663,
          1100287,
          2179623,
          462206,
          1272469910,
          1272469910,
          1215392272,
          975216835,
          960366855,
          864868047,
          743588329,
          693698673,
          667999518,
          644602516,
          573068425,
          531514650,
          467381584,
          416456852,
          411002906,
          389870414,
          375740705,
          342769200,
          348547523,
          318000141,
          304249198,
          287916633,
          286192091,
          286896578,
          274392649,
          267816276,
          262794441,
          260002115,
          257878294,
          247023808,
          251499665,
          229727774,
          220648184,
          205440387,
          200859554,
          197687603,
          187861183,
          181025343,
          175361578,
          172185754,
          172878928,
          149804632,
          160903019,
          151716815,
          148095566,
          103735965,
          112914167,
          132493015,
          123368842,
          127983283,
          113402302,
          114962525,
          115121608,
          110387072,
          104100903,
          98963392,
          94763758,
          94050951,
          102912961,
          75965567,
          93672764,
          91266581,
          11723620,
          89309178,
          79076678,
          76086711,
          50738810,
          72835710,
          71009334,
          69821476,
          60512680,
          63129909,
          59922558,
          56178935,
          60611845,
          70536870,
          48330757,
          47666013,
          48425971,
          48543388,
          47508505,
          69807260,
          51695362,
          43402515,
          47011449,
          32943247,
          31556959,
          31164747,
          32327255,
          31149251,
          41268579,
          24761360,
          27392609,
          29890402,
          20898221,
          27704111,
          25621449,
          22594052,
          0,
          22885836,
          20395040,
          19599974,
          17549645,
          16723377,
          15434375,
          18273009,
          16340767,
          16340767,
          16340767,
          12034913,
          23251930,
          4494560,
          6154172,
          26387039,
          7285135,
          8000366,
          22254,
          3027956,
          1075009,
          1104039076,
          945577621,
          770867516,
          758536735,
          766575131,
          747862775,
          714401889,
          710644566,
          708996336,
          666379375,
          652127828,
          614586270,
          547326372,
          492846291,
          457507776,
          366942531,
          370541256,
          368567189,
          353756621,
          352831065,
          352831065,
          352831065,
          348319861,
          331333876,
          276014965,
          269806430,
          270944428,
          268314513,
          256862920,
          227740463,
          222383055,
          222383055,
          220241723,
          209461378,
          213116401,
          194169619,
          192903624,
          163981261,
          156553592,
          163527824,
          158702748,
          153733800,
          131377412,
          127990741,
          126069509,
          123327692,
          122529966,
          108469033,
          111534881,
          111946251,
          105945357,
          103300632,
          103039258,
          103039258,
          101379287,
          100916299,
          96407655,
          90904854,
          94270488,
          76235001,
          88069880,
          76119388,
          76119388,
          79312301,
          78356170,
          74575290,
          70027933,
          73421224,
          70949793,
          65282732,
          66540205,
          66776576,
          68838736,
          58953319,
          57824533,
          54837234,
          62108587,
          38959900,
          38969037,
          38969037,
          42174545,
          57273049,
          44115496,
          53068955,
          38718031,
          101773,
          39217912,
          50334418,
          36146087,
          36068890,
          41059418,
          34820335,
          29847480,
          27317872,
          26001741,
          17920013,
          21206861,
          23910210,
          25187026,
          14189810,
          19054534,
          14772346,
          8846875,
          7482387,
          7585011,
          6591365,
          3485383,
          3180252,
          44452,
          44452,
          1648854864,
          1518722794,
          1403013963,
          1160336173,
          879620923,
          854235992,
          854235992,
          648986787,
          655271443,
          570998101,
          532938302,
          518858449,
          469500298,
          456258539,
          404561724,
          370098020,
          333771037,
          327656424,
          311013181,
          310566162,
          287625468,
          258789097,
          250091610,
          244041804,
          244041804,
          249517956,
          217214143,
          206627518,
          202182981,
          197115710,
          181982519,
          173567581,
          167849187,
          333132750,
          162498338,
          147864886,
          158905324,
          130818912,
          141123897,
          133162752,
          151525973,
          123660597,
          108874967,
          106511453,
          107650646,
          106030660,
          102306500,
          102306500,
          105002056,
          101134059,
          98837872,
          98837872,
          98677816,
          98677816,
          92088460,
          92088460,
          89693309,
          94156456,
          90384306,
          85450484,
          84393749,
          82182803,
          80171596,
          77959374,
          74966854,
          69698495,
          66961644,
          68984536,
          64364198,
          63802928,
          62076141,
          62076141,
          58586407,
          61788393,
          61492104,
          60278166,
          42844516,
          54104225,
          53401938,
          53401938,
          52427346,
          45671512,
          46438538,
          30396134,
          45707924,
          41699612,
          43528634,
          23506237,
          42425450,
          23506237,
          42425450,
          41656474,
          42227490,
          42320503,
          41166033,
          42843521,
          38359310,
          38359310,
          31054727,
          37119358,
          38358392,
          36773510,
          36262783,
          35579007,
          31124367,
          32909437,
          30295028,
          25387091,
          28400715,
          18594227,
          19665004,
          18190831,
          17503828,
          15554855,
          34044909,
          13214051,
          14304931,
          12826644,
          8004221,
          10153415,
          8465845,
          15505922,
          9266180,
          5706168,
          6553186,
          6553186,
          3917679,
          3727746,
          2368937,
          772366,
          772366,
          1140069413,
          1049102856,
          1021215193,
          1019429616,
          886750534,
          867500281,
          801025593,
          746059887,
          676404566,
          637517365,
          637517365,
          634454789,
          542537546,
          517599142,
          426351163,
          425522281,
          416168316,
          402156682,
          384169424,
          348902025,
          352327887,
          344150134,
          335802233,
          328325007,
          294654618,
          276928112,
          245328374,
          238524556,
          231771716,
          219519367,
          217194805,
          208265198,
          195194085,
          203127894,
          180998716,
          183353431,
          199646680,
          168904682,
          159946489,
          152962083,
          138836756,
          148806510,
          141344255,
          149570720,
          109738840,
          124827316,
          122603824,
          119266661,
          118763442,
          118514727,
          117425156,
          91323299,
          108286422,
          111336398,
          108757621,
          102028919,
          105078449,
          93466095,
          92096558,
          85309093,
          86234503,
          70652284,
          70652284,
          81831866,
          77733867,
          78652207,
          75898100,
          73798736,
          77548122,
          69411370,
          64282881,
          64160680,
          59596747,
          55348693,
          54404202,
          49252761,
          52837989,
          56000339,
          46414530,
          45060480,
          46255763,
          38985577,
          42493506,
          40454520,
          37584304,
          40749230,
          40749230,
          40749230,
          35380918,
          30768449,
          32398681,
          22281732,
          23237252,
          23311293,
          25943792,
          22113075,
          19096003,
          15824374,
          17187434,
          16638300,
          12905107,
          11360665,
          12898064,
          12382122,
          10182050,
          10055481,
          7719630,
          7298786,
          7298786,
          9371036,
          4563080,
          7680250,
          7265283,
          2611750,
          1234846267,
          1034727750,
          964496193,
          880166350,
          846980024,
          821133378,
          821133378,
          798008101,
          788241137,
          697457969,
          655945209,
          602893340,
          561072059,
          510878762,
          499837368,
          489592267,
          386665550,
          408803696,
          383541369,
          381398492,
          334486852,
          314101190,
          305384865,
          304604712,
          289847930,
          278964806,
          278964806,
          278964806,
          278964806,
          259357408,
          255367951,
          255367951,
          263502914,
          238521247,
          228104185,
          215098356,
          220796009,
          216562312,
          197578586,
          195790794,
          185736412,
          179748880,
          175863783,
          160191915,
          150807172,
          139630336,
          140783360,
          140886353,
          135569212,
          127710550,
          126577874,
          125010260,
          113461527,
          102445196,
          98345423,
          82917283,
          81209222,
          78610769,
          68310140,
          57438389,
          61642798,
          62758010,
          61603136,
          57852177,
          57852177,
          53972860,
          54462971,
          53797409,
          44264271,
          46844357,
          42531076,
          43226146,
          36964656,
          40286416,
          35609577,
          31192425,
          28717667,
          31187727,
          21038441,
          24403192,
          17121823,
          16481405,
          12967012,
          8786752,
          6792768,
          6756412,
          5941994,
          4620399,
          5466698,
          4495262,
          4495262,
          1471090,
          325491,
          2048134200,
          1348258224,
          1348258224,
          1305772799,
          1242520711,
          1146894640,
          894985342,
          786680557,
          652220086,
          623144660,
          579290136,
          529530715,
          527079962,
          465195589,
          393151347,
          371350619,
          347136477,
          341528518,
          334522294,
          322034439,
          304115534,
          265878536,
          273477501,
          238099711,
          213691277,
          213591522,
          190453132,
          170293899,
          170857676,
          170857676,
          167885588,
          145951861,
          136617305,
          133401882,
          119736188,
          101985431,
          117378084,
          105203825,
          99624873,
          99624873,
          97628717,
          94113929,
          95127344,
          95127344,
          95127344,
          95127344,
          95127344,
          91553797,
          94045328,
          93291478,
          93017335,
          87527651,
          85287417,
          80131391,
          70133905,
          77026186,
          77026186,
          70883171,
          70883171,
          73866088,
          75885196,
          63288854,
          71118378,
          65520633,
          66295121,
          65759911,
          57897191,
          57897191,
          56096200,
          45285890,
          51800758,
          51723644,
          46527161,
          46734733,
          42785387,
          38361428,
          38073377,
          35067665,
          25947983,
          25529498,
          21709539,
          19859167,
          18119231,
          16434588,
          16553285,
          14244931,
          13143056,
          12874922,
          12758799,
          10096821,
          7034615,
          3681096,
          648599
         ],
         "xaxis": "x",
         "yaxis": "y"
        }
       ],
       "layout": {
        "barmode": "relative",
        "legend": {
         "tracegroupgap": 0
        },
        "margin": {
         "t": 60
        },
        "template": {
         "data": {
          "bar": [
           {
            "error_x": {
             "color": "#2a3f5f"
            },
            "error_y": {
             "color": "#2a3f5f"
            },
            "marker": {
             "line": {
              "color": "#E5ECF6",
              "width": 0.5
             }
            },
            "type": "bar"
           }
          ],
          "barpolar": [
           {
            "marker": {
             "line": {
              "color": "#E5ECF6",
              "width": 0.5
             }
            },
            "type": "barpolar"
           }
          ],
          "carpet": [
           {
            "aaxis": {
             "endlinecolor": "#2a3f5f",
             "gridcolor": "white",
             "linecolor": "white",
             "minorgridcolor": "white",
             "startlinecolor": "#2a3f5f"
            },
            "baxis": {
             "endlinecolor": "#2a3f5f",
             "gridcolor": "white",
             "linecolor": "white",
             "minorgridcolor": "white",
             "startlinecolor": "#2a3f5f"
            },
            "type": "carpet"
           }
          ],
          "choropleth": [
           {
            "colorbar": {
             "outlinewidth": 0,
             "ticks": ""
            },
            "type": "choropleth"
           }
          ],
          "contour": [
           {
            "colorbar": {
             "outlinewidth": 0,
             "ticks": ""
            },
            "colorscale": [
             [
              0,
              "#0d0887"
             ],
             [
              0.1111111111111111,
              "#46039f"
             ],
             [
              0.2222222222222222,
              "#7201a8"
             ],
             [
              0.3333333333333333,
              "#9c179e"
             ],
             [
              0.4444444444444444,
              "#bd3786"
             ],
             [
              0.5555555555555556,
              "#d8576b"
             ],
             [
              0.6666666666666666,
              "#ed7953"
             ],
             [
              0.7777777777777778,
              "#fb9f3a"
             ],
             [
              0.8888888888888888,
              "#fdca26"
             ],
             [
              1,
              "#f0f921"
             ]
            ],
            "type": "contour"
           }
          ],
          "contourcarpet": [
           {
            "colorbar": {
             "outlinewidth": 0,
             "ticks": ""
            },
            "type": "contourcarpet"
           }
          ],
          "heatmap": [
           {
            "colorbar": {
             "outlinewidth": 0,
             "ticks": ""
            },
            "colorscale": [
             [
              0,
              "#0d0887"
             ],
             [
              0.1111111111111111,
              "#46039f"
             ],
             [
              0.2222222222222222,
              "#7201a8"
             ],
             [
              0.3333333333333333,
              "#9c179e"
             ],
             [
              0.4444444444444444,
              "#bd3786"
             ],
             [
              0.5555555555555556,
              "#d8576b"
             ],
             [
              0.6666666666666666,
              "#ed7953"
             ],
             [
              0.7777777777777778,
              "#fb9f3a"
             ],
             [
              0.8888888888888888,
              "#fdca26"
             ],
             [
              1,
              "#f0f921"
             ]
            ],
            "type": "heatmap"
           }
          ],
          "heatmapgl": [
           {
            "colorbar": {
             "outlinewidth": 0,
             "ticks": ""
            },
            "colorscale": [
             [
              0,
              "#0d0887"
             ],
             [
              0.1111111111111111,
              "#46039f"
             ],
             [
              0.2222222222222222,
              "#7201a8"
             ],
             [
              0.3333333333333333,
              "#9c179e"
             ],
             [
              0.4444444444444444,
              "#bd3786"
             ],
             [
              0.5555555555555556,
              "#d8576b"
             ],
             [
              0.6666666666666666,
              "#ed7953"
             ],
             [
              0.7777777777777778,
              "#fb9f3a"
             ],
             [
              0.8888888888888888,
              "#fdca26"
             ],
             [
              1,
              "#f0f921"
             ]
            ],
            "type": "heatmapgl"
           }
          ],
          "histogram": [
           {
            "marker": {
             "colorbar": {
              "outlinewidth": 0,
              "ticks": ""
             }
            },
            "type": "histogram"
           }
          ],
          "histogram2d": [
           {
            "colorbar": {
             "outlinewidth": 0,
             "ticks": ""
            },
            "colorscale": [
             [
              0,
              "#0d0887"
             ],
             [
              0.1111111111111111,
              "#46039f"
             ],
             [
              0.2222222222222222,
              "#7201a8"
             ],
             [
              0.3333333333333333,
              "#9c179e"
             ],
             [
              0.4444444444444444,
              "#bd3786"
             ],
             [
              0.5555555555555556,
              "#d8576b"
             ],
             [
              0.6666666666666666,
              "#ed7953"
             ],
             [
              0.7777777777777778,
              "#fb9f3a"
             ],
             [
              0.8888888888888888,
              "#fdca26"
             ],
             [
              1,
              "#f0f921"
             ]
            ],
            "type": "histogram2d"
           }
          ],
          "histogram2dcontour": [
           {
            "colorbar": {
             "outlinewidth": 0,
             "ticks": ""
            },
            "colorscale": [
             [
              0,
              "#0d0887"
             ],
             [
              0.1111111111111111,
              "#46039f"
             ],
             [
              0.2222222222222222,
              "#7201a8"
             ],
             [
              0.3333333333333333,
              "#9c179e"
             ],
             [
              0.4444444444444444,
              "#bd3786"
             ],
             [
              0.5555555555555556,
              "#d8576b"
             ],
             [
              0.6666666666666666,
              "#ed7953"
             ],
             [
              0.7777777777777778,
              "#fb9f3a"
             ],
             [
              0.8888888888888888,
              "#fdca26"
             ],
             [
              1,
              "#f0f921"
             ]
            ],
            "type": "histogram2dcontour"
           }
          ],
          "mesh3d": [
           {
            "colorbar": {
             "outlinewidth": 0,
             "ticks": ""
            },
            "type": "mesh3d"
           }
          ],
          "parcoords": [
           {
            "line": {
             "colorbar": {
              "outlinewidth": 0,
              "ticks": ""
             }
            },
            "type": "parcoords"
           }
          ],
          "pie": [
           {
            "automargin": true,
            "type": "pie"
           }
          ],
          "scatter": [
           {
            "marker": {
             "colorbar": {
              "outlinewidth": 0,
              "ticks": ""
             }
            },
            "type": "scatter"
           }
          ],
          "scatter3d": [
           {
            "line": {
             "colorbar": {
              "outlinewidth": 0,
              "ticks": ""
             }
            },
            "marker": {
             "colorbar": {
              "outlinewidth": 0,
              "ticks": ""
             }
            },
            "type": "scatter3d"
           }
          ],
          "scattercarpet": [
           {
            "marker": {
             "colorbar": {
              "outlinewidth": 0,
              "ticks": ""
             }
            },
            "type": "scattercarpet"
           }
          ],
          "scattergeo": [
           {
            "marker": {
             "colorbar": {
              "outlinewidth": 0,
              "ticks": ""
             }
            },
            "type": "scattergeo"
           }
          ],
          "scattergl": [
           {
            "marker": {
             "colorbar": {
              "outlinewidth": 0,
              "ticks": ""
             }
            },
            "type": "scattergl"
           }
          ],
          "scattermapbox": [
           {
            "marker": {
             "colorbar": {
              "outlinewidth": 0,
              "ticks": ""
             }
            },
            "type": "scattermapbox"
           }
          ],
          "scatterpolar": [
           {
            "marker": {
             "colorbar": {
              "outlinewidth": 0,
              "ticks": ""
             }
            },
            "type": "scatterpolar"
           }
          ],
          "scatterpolargl": [
           {
            "marker": {
             "colorbar": {
              "outlinewidth": 0,
              "ticks": ""
             }
            },
            "type": "scatterpolargl"
           }
          ],
          "scatterternary": [
           {
            "marker": {
             "colorbar": {
              "outlinewidth": 0,
              "ticks": ""
             }
            },
            "type": "scatterternary"
           }
          ],
          "surface": [
           {
            "colorbar": {
             "outlinewidth": 0,
             "ticks": ""
            },
            "colorscale": [
             [
              0,
              "#0d0887"
             ],
             [
              0.1111111111111111,
              "#46039f"
             ],
             [
              0.2222222222222222,
              "#7201a8"
             ],
             [
              0.3333333333333333,
              "#9c179e"
             ],
             [
              0.4444444444444444,
              "#bd3786"
             ],
             [
              0.5555555555555556,
              "#d8576b"
             ],
             [
              0.6666666666666666,
              "#ed7953"
             ],
             [
              0.7777777777777778,
              "#fb9f3a"
             ],
             [
              0.8888888888888888,
              "#fdca26"
             ],
             [
              1,
              "#f0f921"
             ]
            ],
            "type": "surface"
           }
          ],
          "table": [
           {
            "cells": {
             "fill": {
              "color": "#EBF0F8"
             },
             "line": {
              "color": "white"
             }
            },
            "header": {
             "fill": {
              "color": "#C8D4E3"
             },
             "line": {
              "color": "white"
             }
            },
            "type": "table"
           }
          ]
         },
         "layout": {
          "annotationdefaults": {
           "arrowcolor": "#2a3f5f",
           "arrowhead": 0,
           "arrowwidth": 1
          },
          "coloraxis": {
           "colorbar": {
            "outlinewidth": 0,
            "ticks": ""
           }
          },
          "colorscale": {
           "diverging": [
            [
             0,
             "#8e0152"
            ],
            [
             0.1,
             "#c51b7d"
            ],
            [
             0.2,
             "#de77ae"
            ],
            [
             0.3,
             "#f1b6da"
            ],
            [
             0.4,
             "#fde0ef"
            ],
            [
             0.5,
             "#f7f7f7"
            ],
            [
             0.6,
             "#e6f5d0"
            ],
            [
             0.7,
             "#b8e186"
            ],
            [
             0.8,
             "#7fbc41"
            ],
            [
             0.9,
             "#4d9221"
            ],
            [
             1,
             "#276419"
            ]
           ],
           "sequential": [
            [
             0,
             "#0d0887"
            ],
            [
             0.1111111111111111,
             "#46039f"
            ],
            [
             0.2222222222222222,
             "#7201a8"
            ],
            [
             0.3333333333333333,
             "#9c179e"
            ],
            [
             0.4444444444444444,
             "#bd3786"
            ],
            [
             0.5555555555555556,
             "#d8576b"
            ],
            [
             0.6666666666666666,
             "#ed7953"
            ],
            [
             0.7777777777777778,
             "#fb9f3a"
            ],
            [
             0.8888888888888888,
             "#fdca26"
            ],
            [
             1,
             "#f0f921"
            ]
           ],
           "sequentialminus": [
            [
             0,
             "#0d0887"
            ],
            [
             0.1111111111111111,
             "#46039f"
            ],
            [
             0.2222222222222222,
             "#7201a8"
            ],
            [
             0.3333333333333333,
             "#9c179e"
            ],
            [
             0.4444444444444444,
             "#bd3786"
            ],
            [
             0.5555555555555556,
             "#d8576b"
            ],
            [
             0.6666666666666666,
             "#ed7953"
            ],
            [
             0.7777777777777778,
             "#fb9f3a"
            ],
            [
             0.8888888888888888,
             "#fdca26"
            ],
            [
             1,
             "#f0f921"
            ]
           ]
          },
          "colorway": [
           "#636efa",
           "#EF553B",
           "#00cc96",
           "#ab63fa",
           "#FFA15A",
           "#19d3f3",
           "#FF6692",
           "#B6E880",
           "#FF97FF",
           "#FECB52"
          ],
          "font": {
           "color": "#2a3f5f"
          },
          "geo": {
           "bgcolor": "white",
           "lakecolor": "white",
           "landcolor": "#E5ECF6",
           "showlakes": true,
           "showland": true,
           "subunitcolor": "white"
          },
          "hoverlabel": {
           "align": "left"
          },
          "hovermode": "closest",
          "mapbox": {
           "style": "light"
          },
          "paper_bgcolor": "white",
          "plot_bgcolor": "#E5ECF6",
          "polar": {
           "angularaxis": {
            "gridcolor": "white",
            "linecolor": "white",
            "ticks": ""
           },
           "bgcolor": "#E5ECF6",
           "radialaxis": {
            "gridcolor": "white",
            "linecolor": "white",
            "ticks": ""
           }
          },
          "scene": {
           "xaxis": {
            "backgroundcolor": "#E5ECF6",
            "gridcolor": "white",
            "gridwidth": 2,
            "linecolor": "white",
            "showbackground": true,
            "ticks": "",
            "zerolinecolor": "white"
           },
           "yaxis": {
            "backgroundcolor": "#E5ECF6",
            "gridcolor": "white",
            "gridwidth": 2,
            "linecolor": "white",
            "showbackground": true,
            "ticks": "",
            "zerolinecolor": "white"
           },
           "zaxis": {
            "backgroundcolor": "#E5ECF6",
            "gridcolor": "white",
            "gridwidth": 2,
            "linecolor": "white",
            "showbackground": true,
            "ticks": "",
            "zerolinecolor": "white"
           }
          },
          "shapedefaults": {
           "line": {
            "color": "#2a3f5f"
           }
          },
          "ternary": {
           "aaxis": {
            "gridcolor": "white",
            "linecolor": "white",
            "ticks": ""
           },
           "baxis": {
            "gridcolor": "white",
            "linecolor": "white",
            "ticks": ""
           },
           "bgcolor": "#E5ECF6",
           "caxis": {
            "gridcolor": "white",
            "linecolor": "white",
            "ticks": ""
           }
          },
          "title": {
           "x": 0.05
          },
          "xaxis": {
           "automargin": true,
           "gridcolor": "white",
           "linecolor": "white",
           "ticks": "",
           "title": {
            "standoff": 15
           },
           "zerolinecolor": "white",
           "zerolinewidth": 2
          },
          "yaxis": {
           "automargin": true,
           "gridcolor": "white",
           "linecolor": "white",
           "ticks": "",
           "title": {
            "standoff": 15
           },
           "zerolinecolor": "white",
           "zerolinewidth": 2
          }
         }
        },
        "xaxis": {
         "anchor": "y",
         "domain": [
          0,
          1
         ],
         "title": {
          "text": "worldwide gross"
         }
        },
        "yaxis": {
         "anchor": "x",
         "domain": [
          0,
          1
         ],
         "title": {
          "text": "count"
         }
        }
       }
      }
     },
     "metadata": {},
     "output_type": "display_data"
    }
   ],
   "source": [
    "fig = px.histogram(df_movies, x=\"worldwide_gross\", nbins=10,\n",
    "                   labels={'worldwide_gross':'worldwide gross'})\n",
    "fig.show()"
   ]
  },
  {
   "cell_type": "code",
   "execution_count": 59,
   "metadata": {},
   "outputs": [
    {
     "data": {
      "application/vnd.plotly.v1+json": {
       "config": {
        "plotlyServerURL": "https://plot.ly"
       },
       "data": [
        {
         "alignmentgroup": "True",
         "bingroup": "x",
         "hovertemplate": "popularity=%{x}<br>count=%{y}<extra></extra>",
         "legendgroup": "",
         "marker": {
          "color": "#636efa"
         },
         "name": "",
         "nbinsx": 7,
         "offsetgroup": "",
         "orientation": "v",
         "showlegend": false,
         "type": "histogram",
         "x": [
          24.445,
          27.92,
          15.040999999999999,
          20.34,
          28.515,
          21.511,
          23.673000000000002,
          28.734,
          17.382,
          12.255999999999998,
          12.255999999999998,
          13.745,
          22.855,
          15.444,
          15.444,
          0.68,
          0.68,
          39.975,
          39.975,
          16.595,
          12.152999999999999,
          0.667,
          18.06,
          13.025,
          0.632,
          9.986,
          10.307,
          21.517,
          14.290999999999999,
          13.118,
          10.767999999999999,
          15.889000000000001,
          11.187000000000001,
          14.463,
          12.445,
          9.991,
          9.096,
          0.6,
          8.163,
          17.097,
          13.508,
          14.01,
          0.6,
          18.985,
          13.475999999999999,
          12.498,
          10.754000000000001,
          14.03,
          9.861,
          10.395,
          16.215999999999998,
          12.048,
          10.544,
          12.65,
          7.886,
          17.823,
          10.221,
          13.08,
          11.519,
          8.485,
          8.676,
          9.237,
          6.632000000000001,
          8.487,
          11.302,
          7.532,
          11.252,
          0.6,
          8.992,
          9.394,
          12.255999999999998,
          14.69,
          8.969,
          9.042,
          9.35,
          11.147,
          8.847000000000001,
          10.15,
          10.203,
          11.435,
          9.059,
          7.829,
          10.595,
          11.453,
          8.82,
          12.245999999999999,
          7.745,
          7.775,
          9.454,
          10.745999999999999,
          12.557,
          8.281,
          2.858,
          9.45,
          14.172,
          8.426,
          6.209,
          11.821,
          2.563,
          10.208,
          10.202,
          7.442,
          9.716000000000001,
          0.675,
          2.681,
          7.047000000000001,
          5.025,
          9.808,
          7.567,
          9.394,
          1.004,
          10.888,
          12.437000000000001,
          7.566,
          2.7460000000000004,
          6.3,
          7.596,
          9.824,
          7.275,
          8.994,
          8.807,
          8.259,
          13.467,
          10.555,
          7.735,
          7.51,
          8.215,
          8.401,
          2.84,
          10.012,
          7.666,
          9.514,
          6.4239999999999995,
          0.634,
          13.548,
          10.187999999999999,
          7.099,
          10.01,
          9.389,
          8.19,
          9.968,
          5.945,
          10.175,
          1.122,
          7.087000000000001,
          4.958,
          9.355,
          6.058,
          4.242,
          9.395,
          9.432,
          5.996,
          6.568,
          9.087,
          9.562999999999999,
          7.871,
          6.44,
          13.102,
          5.056,
          6.3,
          2.3209999999999997,
          8.347999999999999,
          1.595,
          11.927,
          5.705,
          5.3389999999999995,
          30.579,
          17.363,
          2.097,
          32.266,
          16.533,
          23.498,
          9.078,
          18.301,
          14.695,
          22.995,
          38.068000000000005,
          11.981,
          25.808000000000003,
          1.4469999999999998,
          12.672,
          14.811,
          9.805,
          14.39,
          14.462,
          14.501,
          14.774000000000001,
          17.257,
          12.597999999999999,
          13.549000000000001,
          12.720999999999998,
          14.058,
          9.669,
          12.936,
          14.738,
          10.378,
          10.444,
          18.912,
          10.764000000000001,
          11.324000000000002,
          19.453,
          15.542,
          13.392000000000001,
          12.213,
          13.171,
          8.131,
          11.277000000000001,
          14.019,
          14.203,
          12.981,
          13.495,
          10.444,
          10.155,
          12.08,
          12.08,
          13.717,
          9.931000000000001,
          6.209,
          8.987,
          15.392999999999999,
          7.457000000000001,
          8.602,
          15.234000000000002,
          16.082,
          16.197,
          9.676,
          10.679,
          12.535,
          14.415999999999999,
          11.856,
          10.009,
          8.628,
          9.984,
          16.024,
          17.69,
          15.318,
          14.387,
          10.127,
          12.122,
          11.812000000000001,
          8.961,
          7.261,
          9.517999999999999,
          10.73,
          9.709,
          10.584000000000001,
          7.567,
          10.308,
          15.135,
          11.569,
          11.147,
          8.459,
          12.697000000000001,
          10.136000000000001,
          11.315,
          8.134,
          7.879,
          11.017000000000001,
          12.450999999999999,
          8.852,
          9.047,
          8.477,
          8.405,
          12.081,
          11.571,
          8.271,
          10.390999999999998,
          14.095999999999998,
          10.352,
          8.443,
          8.384,
          7.697,
          0.6,
          12.254000000000001,
          12.011,
          15.478,
          8.335,
          10.177,
          9.498,
          13.152000000000001,
          1.4,
          7.642,
          1.4,
          11.123,
          6.492999999999999,
          8.113999999999999,
          10.322000000000001,
          4.519,
          5.973,
          6.021,
          7.077000000000001,
          7.357,
          11.964,
          9.612,
          7.507999999999999,
          10.091000000000001,
          9.477,
          9.12,
          11.235999999999999,
          4.749,
          10.03,
          7.412000000000001,
          7.547999999999999,
          9.15,
          11.894,
          6.359,
          5.473,
          19.27,
          26.22,
          26.939,
          17.537,
          24.391,
          18.705,
          14.212,
          15,
          14.475,
          0.6,
          18.908,
          22.967,
          21.26,
          24.98,
          21.233,
          16.078,
          15.318,
          14.454,
          17.215999999999998,
          14.934000000000001,
          14.991,
          21.741999999999997,
          18.549,
          18.05,
          12.693,
          15.75,
          1.325,
          15.350999999999999,
          17.199,
          15.793,
          18.312,
          13.116,
          14.835999999999999,
          13.046,
          13.220999999999998,
          14.66,
          12.592,
          16.779,
          13.7,
          11.692,
          12.017000000000001,
          8.965,
          10.925,
          8.665,
          14.239,
          18.678,
          14.681,
          12.780999999999999,
          10.124,
          12.498,
          13.886,
          8.312999999999999,
          13.32,
          10.265999999999998,
          9.715,
          1.39,
          7.403,
          13.14,
          12.357000000000001,
          5.905,
          8.978,
          12.27,
          14.627,
          12.197000000000001,
          0.6,
          13.117,
          12.942,
          11.36,
          9.562999999999999,
          10.265,
          9.987,
          10.228,
          14.085999999999999,
          15.335999999999999,
          11.369000000000002,
          12.817,
          9.216000000000001,
          9.357999999999999,
          10.729000000000001,
          12.147,
          13.681,
          10.247,
          8.548,
          13.152000000000001,
          11.263,
          8.939,
          11.298,
          14.658,
          13.222999999999999,
          12.14,
          9.962,
          15.148,
          10.015,
          7.138999999999999,
          11.273,
          6.787000000000001,
          12.484000000000002,
          0.6,
          8.635,
          12.829,
          0.6,
          6.76,
          8.017000000000001,
          9.896,
          7.53,
          7.682,
          10.705,
          15.457,
          10.967,
          8.974,
          7.2010000000000005,
          7.079,
          7.05,
          7.072,
          8.092,
          7.7139999999999995,
          7.912999999999999,
          6.46,
          8.919,
          6.546,
          6.277,
          8.821,
          13.742,
          8.142999999999999,
          7.87,
          8.016,
          7.0360000000000005,
          9.677999999999999,
          26.183000000000003,
          32.093,
          19.014,
          21.275,
          20.187,
          20.33,
          27.836,
          27.666999999999998,
          31.014,
          16.29,
          14.582,
          20.487,
          4.323,
          16.759,
          29.518,
          15.065,
          16.646,
          12.940999999999999,
          18.886,
          15.857999999999999,
          18.534000000000002,
          17.663,
          14.876,
          18.335,
          14.745999999999999,
          13.995,
          12.482000000000001,
          12.481,
          11.289000000000001,
          14.415,
          16.912,
          15.482999999999999,
          13.026,
          15.762,
          12.773,
          10.743,
          16.493,
          13.552999999999999,
          12.08,
          13.864,
          15.404000000000002,
          8.823,
          25.049,
          11.982999999999999,
          17.88,
          6.5329999999999995,
          14.8,
          10.56,
          15.533,
          14.357999999999999,
          9.585,
          13.259,
          11.062000000000001,
          13.029000000000002,
          8.978,
          17.434,
          9.095,
          10.443,
          16.484,
          0.6,
          24.364,
          6.797999999999999,
          14.133,
          21.377,
          9.033999999999999,
          9.586,
          8.581,
          10.55,
          11.315,
          10.442,
          14.793,
          6.909,
          8.32,
          12.389000000000001,
          7.962000000000001,
          15.894,
          18.256,
          11.231,
          14.95,
          12.719000000000001,
          7.917999999999999,
          14.422,
          8.023,
          12.96,
          10.549000000000001,
          12.507,
          12.812999999999999,
          8.476,
          10.690999999999999,
          12.78,
          9.521,
          9.362,
          8.262,
          9.597000000000001,
          11.582,
          8.722000000000001,
          9.571,
          9.571,
          8.666,
          6.16,
          10.349,
          9.587,
          5.858,
          9.139,
          10.36,
          0.6,
          7.6739999999999995,
          0.6,
          10.738,
          11.765,
          10.196,
          6.611000000000001,
          12.454,
          1.7790000000000001,
          6.4,
          17.242,
          8.044,
          8.166,
          20.961,
          53.783,
          49.606,
          19.274,
          33.836999999999996,
          41.867,
          18.073,
          27.641,
          20.846999999999998,
          28.44,
          36.92,
          27.105999999999998,
          18.473,
          18.11,
          16.73,
          20.899,
          19.753,
          31.215,
          20.064,
          0.6,
          13.905,
          0.6,
          36.955,
          11.175999999999998,
          16.982,
          12.812999999999999,
          14.979000000000001,
          26.789,
          13.989,
          33.078,
          2.2640000000000002,
          13.562000000000001,
          29.043000000000003,
          18.797,
          13.725999999999999,
          13.722999999999999,
          28.941999999999997,
          18.31,
          15.964,
          12.354000000000001,
          12.860999999999999,
          10.831,
          11.061,
          10.613,
          20.429000000000002,
          13.866,
          10.501,
          25.215,
          28.424,
          11.219000000000001,
          18.421,
          15.389000000000001,
          0.6,
          11.035,
          6.7829999999999995,
          9.718,
          10.979000000000001,
          9.446,
          8.26,
          78.123,
          14.735,
          16.464000000000002,
          0.6,
          9.118,
          12.047,
          12.7,
          8.25,
          9.193999999999999,
          8.289,
          6.933,
          8.687000000000001,
          9.541,
          10.828,
          13.754000000000001,
          7.403,
          16.379,
          19.373,
          11.011,
          6.297999999999999,
          28.784000000000002,
          7.189,
          11.140999999999998,
          10.841,
          8.649,
          8.807,
          8.807,
          7.771,
          25.596999999999998,
          5.893,
          10.267000000000001,
          8.622,
          17.747,
          10.581,
          12.017000000000001,
          6.322,
          8.235,
          6.9479999999999995,
          9.582,
          7.8839999999999995,
          9.258,
          14.795,
          14.244000000000002,
          12.270999999999999,
          11.502,
          8.145,
          7.845,
          7.821000000000001,
          13.527999999999999,
          0.6,
          2.864,
          20.709,
          20.396,
          44.383,
          9.338,
          30.318,
          4.758,
          24.796999999999997,
          19.487000000000002,
          22.855999999999998,
          21.229,
          19.41,
          32.715,
          16.553,
          27.414,
          26.103,
          28.099,
          17.675,
          27.679000000000002,
          13.815,
          17.31,
          18.469,
          13.565,
          11.344000000000001,
          2.1719999999999997,
          23.029,
          14.972999999999999,
          17.684,
          20.136,
          11.731,
          14.377,
          24.058000000000003,
          16.355999999999998,
          16.36,
          16.36,
          12.835999999999999,
          20.680999999999997,
          18.957,
          16.685,
          18.423,
          14.327,
          13.054,
          8.681000000000001,
          22.855999999999998,
          12.129000000000001,
          15.940999999999999,
          10.993,
          0.6,
          14.227,
          24.52,
          10.305,
          14.645999999999999,
          0.9590000000000001,
          10.196,
          0.631,
          16.354,
          0.6,
          14.33,
          25.305,
          7.731,
          11.564,
          20.468,
          14.082,
          15.876,
          8.157,
          9.897,
          13.427999999999999,
          17.592,
          8.559,
          8.12,
          11.168,
          12.083,
          0.9159999999999999,
          7.76,
          9.417,
          11.754000000000001,
          6.727,
          19.005,
          9.916,
          0.6,
          7.062,
          9.014,
          9.607000000000001,
          13.802,
          13.263,
          8.197000000000001,
          10.747,
          9.054,
          10.542,
          10.542,
          10.195,
          10.195,
          9.166,
          8.261000000000001,
          9.269,
          8.247,
          13.095999999999998,
          0.6,
          10.157,
          11.479000000000001,
          6.935,
          18.485,
          12.761,
          20,
          8.895,
          9.061,
          9.55,
          9.97,
          9.685,
          9.993,
          10.388,
          16.824,
          9.246,
          8.022,
          10.450999999999999,
          7.763,
          8.516,
          5.599,
          8.052999999999999,
          26.386,
          10.809000000000001,
          8.933,
          6.824,
          8.677,
          10.285,
          0.6,
          7.178999999999999,
          15.924000000000001,
          6.471,
          7.942,
          0.6,
          6.465,
          39.137,
          21.401,
          15.392999999999999,
          27.549,
          9.908999999999999,
          28.088,
          35.067,
          16.53,
          33.035,
          1.96,
          4.419,
          17.572,
          39.293,
          16.248,
          16.275,
          21.464000000000002,
          14.568,
          18.233,
          15.732000000000001,
          14.797,
          17.998,
          16.285999999999998,
          19.142,
          25.805,
          10.022,
          16.642,
          15.095999999999998,
          18.148,
          14.751,
          17.41,
          14.478,
          16.917,
          15.287,
          25.441999999999997,
          14.332,
          12.100999999999999,
          20.08,
          24.074,
          17.085,
          13.81,
          18.517,
          12.408,
          15.232000000000001,
          17.215999999999998,
          16.302,
          12.977,
          13.685,
          19.611,
          14.091,
          18.975,
          15.044,
          10.729000000000001,
          17.892,
          12.967,
          17.662,
          8.512,
          11.432,
          11.134,
          6.7139999999999995,
          12.857000000000001,
          10.654000000000002,
          0.6,
          14.508,
          11.823,
          16.637999999999998,
          11.442,
          11.675999999999998,
          10.078,
          13.847000000000001,
          21.486,
          12.753,
          12.312000000000001,
          13.743,
          12.997,
          12.845999999999998,
          12.673,
          15.435,
          8.453,
          11.128,
          11.482999999999999,
          10.089,
          9.772,
          6.532,
          13.493,
          15.749,
          1.125,
          10.068999999999999,
          1.255,
          13.703,
          8.062000000000001,
          16.19,
          29.886999999999997,
          8.574,
          8.479,
          13.334000000000001,
          8.783999999999999,
          11.546,
          10.713,
          10.459000000000001,
          9.086,
          9.078,
          10.535,
          8.506,
          8.76,
          6.875,
          7.564,
          12.215,
          1.111,
          9.912,
          7.1370000000000005,
          8.88,
          8.652999999999999,
          9.417,
          8.777999999999999,
          28.668000000000003,
          16.407,
          20.395,
          46.775,
          43.45,
          2.841,
          31.618000000000002,
          25.961,
          28.101,
          13.966,
          34.953,
          24.258000000000003,
          29.388,
          7.445,
          24.358,
          23.445,
          22.009,
          24.337,
          18.427,
          12.083,
          19.144000000000002,
          0.8440000000000001,
          21.245,
          20.101,
          19.479,
          0.9059999999999999,
          25.783,
          2.454,
          2.029,
          48.571000000000005,
          0.8340000000000001,
          24.739,
          10.405999999999999,
          24.651,
          22.895,
          24.003,
          13.652999999999999,
          14.88,
          15.663,
          22.025,
          14.89,
          15.550999999999998,
          14.429,
          17.808,
          15.331,
          21.793000000000003,
          14.616,
          8.589,
          16.748,
          16.604,
          18.31,
          21.23,
          15.517000000000001,
          17.398,
          21.662,
          13.53,
          18.976,
          15.974,
          15.434000000000001,
          8.975,
          8.827,
          14.53,
          13.998,
          0.725,
          10.92,
          12.322000000000001,
          10.682,
          15.407,
          15.743,
          14.338,
          15.227,
          14.581,
          16.745,
          9.808,
          10.839,
          9.62,
          13.27,
          9.847000000000001,
          12.45,
          12.349,
          11.048,
          14.437000000000001,
          12.687999999999999,
          7.836,
          9.89,
          8.459,
          4.042,
          7.551,
          9.035,
          5.577000000000001,
          8.142000000000001,
          6.934,
          4.341,
          80.773,
          2.0580000000000003,
          44.14,
          34.958,
          36.286,
          38.102,
          37.196999999999996,
          38.894,
          48.508,
          44.729,
          30.029,
          31.397,
          26.815,
          43.078,
          29.502,
          22.511999999999997,
          15.974,
          30.419,
          29.154,
          36.284,
          26.229,
          23.166,
          24.968000000000004,
          17.969,
          26.230999999999998,
          26.906999999999996,
          22.961,
          26.235,
          6.1610000000000005,
          33.83,
          16.017,
          18.117,
          28.44,
          12.529000000000002,
          22.634,
          20.063,
          19.459,
          22.958000000000002,
          0.84,
          24.535999999999998,
          21.121,
          28.651,
          8.102,
          0.84,
          0.6,
          4.354,
          14.354000000000001,
          16.298,
          21.840999999999998,
          20.238,
          25.101,
          12.987,
          40.095,
          22.738000000000003,
          26.185,
          1.4,
          18.5,
          14.640999999999998,
          20.125,
          20.628,
          29.725,
          16.322,
          13.183,
          15.607999999999999,
          21.246,
          13.696,
          0.6,
          16.785999999999998,
          11.575999999999999,
          16.675,
          32.476,
          16.999000000000002,
          10.835999999999999,
          16.115,
          20.262999999999998,
          23.967,
          32.624,
          19.135,
          13.794,
          12.005,
          9.371,
          13.579,
          12.955,
          17.861,
          21.413,
          16.316,
          13.738,
          22.031999999999996,
          14.585,
          23.805,
          16.925,
          17.815,
          2.707
         ],
         "xaxis": "x",
         "yaxis": "y"
        }
       ],
       "layout": {
        "barmode": "relative",
        "legend": {
         "tracegroupgap": 0
        },
        "margin": {
         "t": 60
        },
        "template": {
         "data": {
          "bar": [
           {
            "error_x": {
             "color": "#2a3f5f"
            },
            "error_y": {
             "color": "#2a3f5f"
            },
            "marker": {
             "line": {
              "color": "#E5ECF6",
              "width": 0.5
             }
            },
            "type": "bar"
           }
          ],
          "barpolar": [
           {
            "marker": {
             "line": {
              "color": "#E5ECF6",
              "width": 0.5
             }
            },
            "type": "barpolar"
           }
          ],
          "carpet": [
           {
            "aaxis": {
             "endlinecolor": "#2a3f5f",
             "gridcolor": "white",
             "linecolor": "white",
             "minorgridcolor": "white",
             "startlinecolor": "#2a3f5f"
            },
            "baxis": {
             "endlinecolor": "#2a3f5f",
             "gridcolor": "white",
             "linecolor": "white",
             "minorgridcolor": "white",
             "startlinecolor": "#2a3f5f"
            },
            "type": "carpet"
           }
          ],
          "choropleth": [
           {
            "colorbar": {
             "outlinewidth": 0,
             "ticks": ""
            },
            "type": "choropleth"
           }
          ],
          "contour": [
           {
            "colorbar": {
             "outlinewidth": 0,
             "ticks": ""
            },
            "colorscale": [
             [
              0,
              "#0d0887"
             ],
             [
              0.1111111111111111,
              "#46039f"
             ],
             [
              0.2222222222222222,
              "#7201a8"
             ],
             [
              0.3333333333333333,
              "#9c179e"
             ],
             [
              0.4444444444444444,
              "#bd3786"
             ],
             [
              0.5555555555555556,
              "#d8576b"
             ],
             [
              0.6666666666666666,
              "#ed7953"
             ],
             [
              0.7777777777777778,
              "#fb9f3a"
             ],
             [
              0.8888888888888888,
              "#fdca26"
             ],
             [
              1,
              "#f0f921"
             ]
            ],
            "type": "contour"
           }
          ],
          "contourcarpet": [
           {
            "colorbar": {
             "outlinewidth": 0,
             "ticks": ""
            },
            "type": "contourcarpet"
           }
          ],
          "heatmap": [
           {
            "colorbar": {
             "outlinewidth": 0,
             "ticks": ""
            },
            "colorscale": [
             [
              0,
              "#0d0887"
             ],
             [
              0.1111111111111111,
              "#46039f"
             ],
             [
              0.2222222222222222,
              "#7201a8"
             ],
             [
              0.3333333333333333,
              "#9c179e"
             ],
             [
              0.4444444444444444,
              "#bd3786"
             ],
             [
              0.5555555555555556,
              "#d8576b"
             ],
             [
              0.6666666666666666,
              "#ed7953"
             ],
             [
              0.7777777777777778,
              "#fb9f3a"
             ],
             [
              0.8888888888888888,
              "#fdca26"
             ],
             [
              1,
              "#f0f921"
             ]
            ],
            "type": "heatmap"
           }
          ],
          "heatmapgl": [
           {
            "colorbar": {
             "outlinewidth": 0,
             "ticks": ""
            },
            "colorscale": [
             [
              0,
              "#0d0887"
             ],
             [
              0.1111111111111111,
              "#46039f"
             ],
             [
              0.2222222222222222,
              "#7201a8"
             ],
             [
              0.3333333333333333,
              "#9c179e"
             ],
             [
              0.4444444444444444,
              "#bd3786"
             ],
             [
              0.5555555555555556,
              "#d8576b"
             ],
             [
              0.6666666666666666,
              "#ed7953"
             ],
             [
              0.7777777777777778,
              "#fb9f3a"
             ],
             [
              0.8888888888888888,
              "#fdca26"
             ],
             [
              1,
              "#f0f921"
             ]
            ],
            "type": "heatmapgl"
           }
          ],
          "histogram": [
           {
            "marker": {
             "colorbar": {
              "outlinewidth": 0,
              "ticks": ""
             }
            },
            "type": "histogram"
           }
          ],
          "histogram2d": [
           {
            "colorbar": {
             "outlinewidth": 0,
             "ticks": ""
            },
            "colorscale": [
             [
              0,
              "#0d0887"
             ],
             [
              0.1111111111111111,
              "#46039f"
             ],
             [
              0.2222222222222222,
              "#7201a8"
             ],
             [
              0.3333333333333333,
              "#9c179e"
             ],
             [
              0.4444444444444444,
              "#bd3786"
             ],
             [
              0.5555555555555556,
              "#d8576b"
             ],
             [
              0.6666666666666666,
              "#ed7953"
             ],
             [
              0.7777777777777778,
              "#fb9f3a"
             ],
             [
              0.8888888888888888,
              "#fdca26"
             ],
             [
              1,
              "#f0f921"
             ]
            ],
            "type": "histogram2d"
           }
          ],
          "histogram2dcontour": [
           {
            "colorbar": {
             "outlinewidth": 0,
             "ticks": ""
            },
            "colorscale": [
             [
              0,
              "#0d0887"
             ],
             [
              0.1111111111111111,
              "#46039f"
             ],
             [
              0.2222222222222222,
              "#7201a8"
             ],
             [
              0.3333333333333333,
              "#9c179e"
             ],
             [
              0.4444444444444444,
              "#bd3786"
             ],
             [
              0.5555555555555556,
              "#d8576b"
             ],
             [
              0.6666666666666666,
              "#ed7953"
             ],
             [
              0.7777777777777778,
              "#fb9f3a"
             ],
             [
              0.8888888888888888,
              "#fdca26"
             ],
             [
              1,
              "#f0f921"
             ]
            ],
            "type": "histogram2dcontour"
           }
          ],
          "mesh3d": [
           {
            "colorbar": {
             "outlinewidth": 0,
             "ticks": ""
            },
            "type": "mesh3d"
           }
          ],
          "parcoords": [
           {
            "line": {
             "colorbar": {
              "outlinewidth": 0,
              "ticks": ""
             }
            },
            "type": "parcoords"
           }
          ],
          "pie": [
           {
            "automargin": true,
            "type": "pie"
           }
          ],
          "scatter": [
           {
            "marker": {
             "colorbar": {
              "outlinewidth": 0,
              "ticks": ""
             }
            },
            "type": "scatter"
           }
          ],
          "scatter3d": [
           {
            "line": {
             "colorbar": {
              "outlinewidth": 0,
              "ticks": ""
             }
            },
            "marker": {
             "colorbar": {
              "outlinewidth": 0,
              "ticks": ""
             }
            },
            "type": "scatter3d"
           }
          ],
          "scattercarpet": [
           {
            "marker": {
             "colorbar": {
              "outlinewidth": 0,
              "ticks": ""
             }
            },
            "type": "scattercarpet"
           }
          ],
          "scattergeo": [
           {
            "marker": {
             "colorbar": {
              "outlinewidth": 0,
              "ticks": ""
             }
            },
            "type": "scattergeo"
           }
          ],
          "scattergl": [
           {
            "marker": {
             "colorbar": {
              "outlinewidth": 0,
              "ticks": ""
             }
            },
            "type": "scattergl"
           }
          ],
          "scattermapbox": [
           {
            "marker": {
             "colorbar": {
              "outlinewidth": 0,
              "ticks": ""
             }
            },
            "type": "scattermapbox"
           }
          ],
          "scatterpolar": [
           {
            "marker": {
             "colorbar": {
              "outlinewidth": 0,
              "ticks": ""
             }
            },
            "type": "scatterpolar"
           }
          ],
          "scatterpolargl": [
           {
            "marker": {
             "colorbar": {
              "outlinewidth": 0,
              "ticks": ""
             }
            },
            "type": "scatterpolargl"
           }
          ],
          "scatterternary": [
           {
            "marker": {
             "colorbar": {
              "outlinewidth": 0,
              "ticks": ""
             }
            },
            "type": "scatterternary"
           }
          ],
          "surface": [
           {
            "colorbar": {
             "outlinewidth": 0,
             "ticks": ""
            },
            "colorscale": [
             [
              0,
              "#0d0887"
             ],
             [
              0.1111111111111111,
              "#46039f"
             ],
             [
              0.2222222222222222,
              "#7201a8"
             ],
             [
              0.3333333333333333,
              "#9c179e"
             ],
             [
              0.4444444444444444,
              "#bd3786"
             ],
             [
              0.5555555555555556,
              "#d8576b"
             ],
             [
              0.6666666666666666,
              "#ed7953"
             ],
             [
              0.7777777777777778,
              "#fb9f3a"
             ],
             [
              0.8888888888888888,
              "#fdca26"
             ],
             [
              1,
              "#f0f921"
             ]
            ],
            "type": "surface"
           }
          ],
          "table": [
           {
            "cells": {
             "fill": {
              "color": "#EBF0F8"
             },
             "line": {
              "color": "white"
             }
            },
            "header": {
             "fill": {
              "color": "#C8D4E3"
             },
             "line": {
              "color": "white"
             }
            },
            "type": "table"
           }
          ]
         },
         "layout": {
          "annotationdefaults": {
           "arrowcolor": "#2a3f5f",
           "arrowhead": 0,
           "arrowwidth": 1
          },
          "coloraxis": {
           "colorbar": {
            "outlinewidth": 0,
            "ticks": ""
           }
          },
          "colorscale": {
           "diverging": [
            [
             0,
             "#8e0152"
            ],
            [
             0.1,
             "#c51b7d"
            ],
            [
             0.2,
             "#de77ae"
            ],
            [
             0.3,
             "#f1b6da"
            ],
            [
             0.4,
             "#fde0ef"
            ],
            [
             0.5,
             "#f7f7f7"
            ],
            [
             0.6,
             "#e6f5d0"
            ],
            [
             0.7,
             "#b8e186"
            ],
            [
             0.8,
             "#7fbc41"
            ],
            [
             0.9,
             "#4d9221"
            ],
            [
             1,
             "#276419"
            ]
           ],
           "sequential": [
            [
             0,
             "#0d0887"
            ],
            [
             0.1111111111111111,
             "#46039f"
            ],
            [
             0.2222222222222222,
             "#7201a8"
            ],
            [
             0.3333333333333333,
             "#9c179e"
            ],
            [
             0.4444444444444444,
             "#bd3786"
            ],
            [
             0.5555555555555556,
             "#d8576b"
            ],
            [
             0.6666666666666666,
             "#ed7953"
            ],
            [
             0.7777777777777778,
             "#fb9f3a"
            ],
            [
             0.8888888888888888,
             "#fdca26"
            ],
            [
             1,
             "#f0f921"
            ]
           ],
           "sequentialminus": [
            [
             0,
             "#0d0887"
            ],
            [
             0.1111111111111111,
             "#46039f"
            ],
            [
             0.2222222222222222,
             "#7201a8"
            ],
            [
             0.3333333333333333,
             "#9c179e"
            ],
            [
             0.4444444444444444,
             "#bd3786"
            ],
            [
             0.5555555555555556,
             "#d8576b"
            ],
            [
             0.6666666666666666,
             "#ed7953"
            ],
            [
             0.7777777777777778,
             "#fb9f3a"
            ],
            [
             0.8888888888888888,
             "#fdca26"
            ],
            [
             1,
             "#f0f921"
            ]
           ]
          },
          "colorway": [
           "#636efa",
           "#EF553B",
           "#00cc96",
           "#ab63fa",
           "#FFA15A",
           "#19d3f3",
           "#FF6692",
           "#B6E880",
           "#FF97FF",
           "#FECB52"
          ],
          "font": {
           "color": "#2a3f5f"
          },
          "geo": {
           "bgcolor": "white",
           "lakecolor": "white",
           "landcolor": "#E5ECF6",
           "showlakes": true,
           "showland": true,
           "subunitcolor": "white"
          },
          "hoverlabel": {
           "align": "left"
          },
          "hovermode": "closest",
          "mapbox": {
           "style": "light"
          },
          "paper_bgcolor": "white",
          "plot_bgcolor": "#E5ECF6",
          "polar": {
           "angularaxis": {
            "gridcolor": "white",
            "linecolor": "white",
            "ticks": ""
           },
           "bgcolor": "#E5ECF6",
           "radialaxis": {
            "gridcolor": "white",
            "linecolor": "white",
            "ticks": ""
           }
          },
          "scene": {
           "xaxis": {
            "backgroundcolor": "#E5ECF6",
            "gridcolor": "white",
            "gridwidth": 2,
            "linecolor": "white",
            "showbackground": true,
            "ticks": "",
            "zerolinecolor": "white"
           },
           "yaxis": {
            "backgroundcolor": "#E5ECF6",
            "gridcolor": "white",
            "gridwidth": 2,
            "linecolor": "white",
            "showbackground": true,
            "ticks": "",
            "zerolinecolor": "white"
           },
           "zaxis": {
            "backgroundcolor": "#E5ECF6",
            "gridcolor": "white",
            "gridwidth": 2,
            "linecolor": "white",
            "showbackground": true,
            "ticks": "",
            "zerolinecolor": "white"
           }
          },
          "shapedefaults": {
           "line": {
            "color": "#2a3f5f"
           }
          },
          "ternary": {
           "aaxis": {
            "gridcolor": "white",
            "linecolor": "white",
            "ticks": ""
           },
           "baxis": {
            "gridcolor": "white",
            "linecolor": "white",
            "ticks": ""
           },
           "bgcolor": "#E5ECF6",
           "caxis": {
            "gridcolor": "white",
            "linecolor": "white",
            "ticks": ""
           }
          },
          "title": {
           "x": 0.05
          },
          "xaxis": {
           "automargin": true,
           "gridcolor": "white",
           "linecolor": "white",
           "ticks": "",
           "title": {
            "standoff": 15
           },
           "zerolinecolor": "white",
           "zerolinewidth": 2
          },
          "yaxis": {
           "automargin": true,
           "gridcolor": "white",
           "linecolor": "white",
           "ticks": "",
           "title": {
            "standoff": 15
           },
           "zerolinecolor": "white",
           "zerolinewidth": 2
          }
         }
        },
        "xaxis": {
         "anchor": "y",
         "domain": [
          0,
          1
         ],
         "title": {
          "text": "popularity"
         }
        },
        "yaxis": {
         "anchor": "x",
         "domain": [
          0,
          1
         ],
         "title": {
          "text": "count"
         }
        }
       }
      }
     },
     "metadata": {},
     "output_type": "display_data"
    }
   ],
   "source": [
    "fig = px.histogram(df_movies, x=\"popularity\", nbins=7)\n",
    "fig.show()"
   ]
  },
  {
   "cell_type": "code",
   "execution_count": 64,
   "metadata": {},
   "outputs": [
    {
     "data": {
      "application/vnd.plotly.v1+json": {
       "config": {
        "plotlyServerURL": "https://plot.ly"
       },
       "data": [
        {
         "alignmentgroup": "True",
         "hovertemplate": "production_budget=%{y}<extra></extra>",
         "legendgroup": "",
         "marker": {
          "color": "#636efa"
         },
         "name": "",
         "notched": false,
         "offsetgroup": "",
         "orientation": "v",
         "showlegend": false,
         "type": "box",
         "x0": " ",
         "xaxis": "x",
         "y": [
          200000000,
          160000000,
          165000000,
          68000000,
          170000000,
          260000000,
          69000000,
          165000000,
          155000000,
          40000000,
          8000000,
          13000000,
          130000000,
          210000000,
          99000000,
          210000000,
          99000000,
          210000000,
          99000000,
          150000000,
          100000000,
          57500000,
          80000000,
          130000000,
          130000000,
          95000000,
          100000000,
          82000000,
          75000000,
          35000000,
          112000000,
          40000000,
          52000000,
          160000000,
          65000000,
          60000000,
          80000000,
          60000000,
          3000000,
          110000000,
          100000000,
          95000000,
          95000000,
          80000000,
          37000000,
          55000000,
          100000000,
          150000000,
          45000000,
          11000000,
          40000000,
          25000000,
          85000000,
          48000000,
          50000000,
          90000000,
          75000000,
          28000000,
          100000000,
          40000000,
          55000000,
          20000000,
          69000000,
          50000000,
          24000000,
          80000000,
          60000000,
          60000000,
          20000000,
          30000000,
          15000000,
          8000000,
          32000000,
          20000000,
          1800000,
          30000000,
          10000000,
          36000000,
          10000000,
          18000000,
          35000000,
          45000000,
          40000000,
          16000000,
          37000000,
          19000000,
          19000000,
          20000000,
          44000000,
          28000000,
          12500000,
          32000000,
          21000000,
          35000000,
          24000000,
          4000000,
          15000000,
          19000000,
          19000000,
          20000000,
          25000000,
          15000000,
          20000000,
          20000000,
          18000000,
          12000000,
          14000000,
          25000000,
          15000000,
          8000000,
          8000000,
          1987650,
          32000000,
          90000000,
          5000000,
          31000000,
          7000000,
          2000000,
          8000000,
          1000000,
          13000000,
          42000000,
          47000000,
          7300000,
          7000000,
          12500000,
          7000000,
          22000000,
          22000000,
          15000000,
          10000000,
          2000000,
          10000000,
          10000000,
          15000000,
          4200000,
          1900000,
          8000000,
          5000000,
          9500000,
          3750000,
          3000000,
          500000,
          500000,
          13000000,
          12500000,
          8000000,
          9200000,
          3000000,
          4500000,
          12500000,
          9000000,
          18000000,
          1500000,
          16000000,
          20000000,
          3000000,
          1750000,
          7000000,
          20000000,
          3800000,
          10000000,
          45000000,
          45000000,
          2900000,
          195000000,
          410600000,
          150000000,
          125000000,
          80000000,
          110000000,
          200000000,
          130000000,
          125000000,
          90000000,
          93000000,
          150000000,
          130000000,
          140000000,
          160000000,
          80000000,
          110000000,
          32500000,
          50000000,
          135000000,
          110000000,
          75000000,
          200000000,
          25000000,
          19000000,
          70000000,
          35000000,
          5000000,
          180000000,
          63000000,
          70000000,
          20000000,
          35000000,
          80000000,
          45000000,
          27000000,
          45000000,
          40000000,
          85000000,
          30000000,
          135000000,
          79000000,
          35000000,
          25000000,
          85000000,
          32000000,
          60000000,
          16000000,
          40000000,
          3700000,
          50200000,
          50000000,
          38000000,
          14000000,
          50000000,
          30000000,
          13000000,
          40000000,
          40000000,
          1500000,
          37000000,
          37000000,
          40000000,
          75000000,
          42000000,
          27000000,
          35000000,
          68000000,
          32000000,
          35000000,
          60000000,
          42500000,
          23000000,
          52000000,
          40000000,
          18000000,
          30000000,
          70000000,
          34800000,
          30000000,
          40000000,
          35000000,
          15000000,
          70000000,
          35000000,
          30000000,
          18000000,
          20000000,
          17000000,
          28000000,
          16000000,
          25000000,
          20000000,
          8000000,
          150000000,
          50000000,
          7000000,
          25000000,
          10000000,
          25000000,
          24000000,
          20000000,
          50000000,
          20000000,
          25000000,
          5000000,
          35000000,
          50000000,
          50000000,
          45000000,
          25000000,
          12000000,
          6000000,
          3400000,
          6500000,
          6500000,
          6500000,
          13400000,
          9400000,
          25000000,
          27500000,
          3200000,
          6000000,
          5500000,
          3000000,
          41000000,
          21000000,
          7000000,
          13000000,
          20000000,
          250000,
          1000000,
          30000000,
          4750000,
          11000000,
          175000,
          1900000,
          4500000,
          40000000,
          40000000,
          40000000,
          4000000,
          200000000,
          275000000,
          250000000,
          95000000,
          220000000,
          145000000,
          80000000,
          120000000,
          50000000,
          185000000,
          185000000,
          165000000,
          100000000,
          125000000,
          170000000,
          45000000,
          85000000,
          79000000,
          100000000,
          145000000,
          150000000,
          220000000,
          275000000,
          125000000,
          65000000,
          150000000,
          65000000,
          21000000,
          50000000,
          44500000,
          60000000,
          85000000,
          42000000,
          30000000,
          85000000,
          40000000,
          65000000,
          30000000,
          7000000,
          31000000,
          65000000,
          5000000,
          33000000,
          10000000,
          52500000,
          57000000,
          102000000,
          15000000,
          25000000,
          67500000,
          17000000,
          30000000,
          60000000,
          95000000,
          12000000,
          12000000,
          1000000,
          25000000,
          25000000,
          12000000,
          14000000,
          37500000,
          39000000,
          12000000,
          3000000,
          3000000,
          25000000,
          22000000,
          21500000,
          42000000,
          49000000,
          55000000,
          16000000,
          30000000,
          70000000,
          57500000,
          40000000,
          30000000,
          30000000,
          26000000,
          20000000,
          58000000,
          60000000,
          15000000,
          42000000,
          40000000,
          15000000,
          1000000,
          45000000,
          12000000,
          35000000,
          13000000,
          23000000,
          12000000,
          20000000,
          27500000,
          35000000,
          26000000,
          26000000,
          37500000,
          37500000,
          40000000,
          40000000,
          32500000,
          1800000,
          8900000,
          9700000,
          15000000,
          13500000,
          20000000,
          6000000,
          2000000,
          3000000,
          14000000,
          10000000,
          17000000,
          17000000,
          1000000,
          25000000,
          20000000,
          7500000,
          10000000,
          10000000,
          12500000,
          12500000,
          10000000,
          800000,
          150000000,
          150000000,
          200000000,
          76000000,
          250000000,
          130000000,
          200000000,
          110000000,
          225000000,
          150000000,
          135000000,
          190000000,
          190000000,
          115000000,
          190000000,
          100000000,
          140000000,
          75000000,
          110000000,
          20000000,
          92000000,
          120000000,
          120000000,
          135000000,
          78000000,
          37000000,
          100000000,
          275000000,
          40000000,
          80000000,
          130000000,
          43000000,
          55000000,
          150000000,
          90000000,
          195000000,
          91000000,
          20000000,
          35000000,
          50000000,
          70000000,
          40000000,
          15000000,
          175000000,
          15000000,
          70000000,
          28000000,
          61000000,
          80000000,
          110000000,
          46000000,
          35000000,
          30000000,
          55000000,
          60000000,
          12000000,
          38000000,
          28000000,
          18000000,
          60000000,
          58000000,
          3000000,
          24000000,
          12000000,
          130000000,
          19000000,
          25000000,
          17000000,
          25000000,
          12800000,
          30000000,
          28000000,
          2500000,
          11000000,
          5000000,
          22000000,
          30000000,
          20000000,
          32500000,
          35000000,
          20000000,
          40000000,
          22000000,
          18000000,
          15000000,
          11000000,
          10000000,
          10000000,
          2500000,
          5000000,
          5500000,
          12000000,
          32000000,
          35000000,
          15000000,
          3500000,
          8000000,
          16000000,
          950000,
          8500000,
          9000000,
          30000000,
          900000,
          20000000,
          22000000,
          20000000,
          40000000,
          40000000,
          40000000,
          12000000,
          3000000,
          4800000,
          26000000,
          50000000,
          17500000,
          4500000,
          46500000,
          6500000,
          5000000,
          210000000,
          250000000,
          170000000,
          180000000,
          125000000,
          200000000,
          170000000,
          170000000,
          200000000,
          165000000,
          165000000,
          145000000,
          58000000,
          130000000,
          40000000,
          132000000,
          178000000,
          61000000,
          127000000,
          130000000,
          130000000,
          130000000,
          34000000,
          50000000,
          85000000,
          145000000,
          18000000,
          140000000,
          6500000,
          15000000,
          50000000,
          50000000,
          70000000,
          100000000,
          56200000,
          66000000,
          55000000,
          31000000,
          40000000,
          65000000,
          70000000,
          25000000,
          60000000,
          45000000,
          40000000,
          15000000,
          30000000,
          80000000,
          9000000,
          60000000,
          40000000,
          5000000,
          100000000,
          100000000,
          28000000,
          12000000,
          20000000,
          5000000,
          22000000,
          30000000,
          40000000,
          50000000,
          50000000,
          55000000,
          11000000,
          65000000,
          24000000,
          28000000,
          22000000,
          40000000,
          25000000,
          20000000,
          8000000,
          70000000,
          36000000,
          13000000,
          28000000,
          28000000,
          3300000,
          3300000,
          13000000,
          4000000,
          5000000,
          8000000,
          25000000,
          3000000,
          25000000,
          8500000,
          7000000,
          15000000,
          26000000,
          15000000,
          25000000,
          10000000,
          12000000,
          18000000,
          4000000,
          18000000,
          14000000,
          18000000,
          12600000,
          20000000,
          20000000,
          2000000,
          16000000,
          6000000,
          6000000,
          8500000,
          400000,
          400000,
          215000000,
          190000000,
          330600000,
          74000000,
          300000000,
          175000000,
          175000000,
          160000000,
          108000000,
          40000000,
          135000000,
          130000000,
          80000000,
          110000000,
          94000000,
          150000000,
          187500000,
          48000000,
          74000000,
          61000000,
          29000000,
          55000000,
          99000000,
          90000000,
          90000000,
          90000000,
          68000000,
          170000000,
          28000000,
          40000000,
          179000000,
          37000000,
          120000000,
          87500000,
          40000000,
          62000000,
          58000000,
          80000000,
          35000000,
          28000000,
          150000000,
          14500000,
          95000000,
          40000000,
          38000000,
          30000000,
          31000000,
          31000000,
          49000000,
          60000000,
          53000000,
          53000000,
          5000000,
          5000000,
          20000000,
          20000000,
          100000000,
          30000000,
          10000000,
          12000000,
          30000000,
          35000000,
          23000000,
          10000000,
          55000000,
          22000000,
          50000000,
          30000000,
          1000000,
          34000000,
          11000000,
          11000000,
          11000000,
          15000000,
          35000000,
          18000000,
          5000000,
          10000000,
          4000000,
          4000000,
          25000000,
          35000000,
          30000000,
          60000000,
          17000000,
          5000000,
          8500000,
          25000000,
          25000000,
          25000000,
          25000000,
          100000,
          18000000,
          6000000,
          18000000,
          11800000,
          5000000,
          5000000,
          22500000,
          8000000,
          13000000,
          20000000,
          13000000,
          30000000,
          40000000,
          12000000,
          28000000,
          37000000,
          25000000,
          40000000,
          70000000,
          7000000,
          10000000,
          15000000,
          14000000,
          35000000,
          2300000,
          14000000,
          50000000,
          2000000,
          10000000,
          50000000,
          8000000,
          8000000,
          12000000,
          12000000,
          17000000,
          20000000,
          5000000,
          3000000,
          3000000,
          250000000,
          200000000,
          200000000,
          150000000,
          75000000,
          250000000,
          58000000,
          175000000,
          165000000,
          150000000,
          150000000,
          75000000,
          178000000,
          140000000,
          20000000,
          160000000,
          120000000,
          105000000,
          165000000,
          180000000,
          73000000,
          125000000,
          185000000,
          90000000,
          9500000,
          170000000,
          135000000,
          60000000,
          25000000,
          75000000,
          50000000,
          20000000,
          60000000,
          47000000,
          20000000,
          70000000,
          140000000,
          40000000,
          60000000,
          40000000,
          140000000,
          5000000,
          19000000,
          12000000,
          40000000,
          40000000,
          156000000,
          106000000,
          13000000,
          10000000,
          38000000,
          45000000,
          5000000,
          38000000,
          35000000,
          77500000,
          11500000,
          27000000,
          18000000,
          36000000,
          50000000,
          20000000,
          20000000,
          9000000,
          8500000,
          29000000,
          33000000,
          13000000,
          55000000,
          50000000,
          24000000,
          22000000,
          50000000,
          50000000,
          20000000,
          70000000,
          40000000,
          29000000,
          43000000,
          23000000,
          20000000,
          10000000,
          17000000,
          3500000,
          12000000,
          10000000,
          10000000,
          10000000,
          50000000,
          10000000,
          22500000,
          20000000,
          50000000,
          8500000,
          20000000,
          5000000,
          9000000,
          20000000,
          2000000,
          28000000,
          5000000,
          10000000,
          9000000,
          10000000,
          5000000,
          15000000,
          18000000,
          8000000,
          8000000,
          5000000,
          10000000,
          18000000,
          17000000,
          3500000,
          250000000,
          75000000,
          90000000,
          175000000,
          180000000,
          150000000,
          150000000,
          175000000,
          230000000,
          35000000,
          300000000,
          217000000,
          185000000,
          125000000,
          150000000,
          152000000,
          84000000,
          104000000,
          175000000,
          55000000,
          150000000,
          40000000,
          15000000,
          20000000,
          111000000,
          5000000,
          5000000,
          5000000,
          5000000,
          185000000,
          5000000,
          5000000,
          30000000,
          97000000,
          34000000,
          180000000,
          100000000,
          50000000,
          60000000,
          19500000,
          45000000,
          50000000,
          60000000,
          12000000,
          30000000,
          175000000,
          35000000,
          28000000,
          50000000,
          28000000,
          38000000,
          5000000,
          60000000,
          10000000,
          30000000,
          25000000,
          35000000,
          10000000,
          63000000,
          40000000,
          125000000,
          20000000,
          10000000,
          42000000,
          42000000,
          5000000,
          68000000,
          11000000,
          29000000,
          20000000,
          30000000,
          35000000,
          7000000,
          25000000,
          22000000,
          40000000,
          10000000,
          7400000,
          25000000,
          15000000,
          30000000,
          30000000,
          22000000,
          30000000,
          25000000,
          22000000,
          2000000,
          5000000,
          29200000,
          3000000,
          3000000,
          1000000,
          17500000,
          300000000,
          200000000,
          200000000,
          170000000,
          200000000,
          160000000,
          55000000,
          110000000,
          200000000,
          130000000,
          150000000,
          178000000,
          65000000,
          102000000,
          275000000,
          55000000,
          50000000,
          130000000,
          17000000,
          23000000,
          125000000,
          61000000,
          90000000,
          30000000,
          80000000,
          50000000,
          77000000,
          132900000,
          50000000,
          50000000,
          10000000,
          69000000,
          13000000,
          103000000,
          48000000,
          40000000,
          37000000,
          60000000,
          51000000,
          51000000,
          20000000,
          15000000,
          3500000,
          3500000,
          3500000,
          3500000,
          3500000,
          32000000,
          21000000,
          35000000,
          15000000,
          59000000,
          100000000,
          30000000,
          10000000,
          28000000,
          28000000,
          60000000,
          60000000,
          40000000,
          35000000,
          15700000,
          35000000,
          10000000,
          35000000,
          30000000,
          35000000,
          35000000,
          30000000,
          50000000,
          25000000,
          10000000,
          18000000,
          25000000,
          6000000,
          34000000,
          20000000,
          23000000,
          30000000,
          5000000,
          30000000,
          12000000,
          5500000,
          1000000,
          3000000,
          1500000,
          38000000,
          45000000,
          15000000,
          30000000,
          20000000,
          9000000,
          30000000
         ],
         "y0": " ",
         "yaxis": "y"
        }
       ],
       "layout": {
        "boxmode": "group",
        "legend": {
         "tracegroupgap": 0
        },
        "margin": {
         "t": 60
        },
        "template": {
         "data": {
          "bar": [
           {
            "error_x": {
             "color": "#2a3f5f"
            },
            "error_y": {
             "color": "#2a3f5f"
            },
            "marker": {
             "line": {
              "color": "#E5ECF6",
              "width": 0.5
             }
            },
            "type": "bar"
           }
          ],
          "barpolar": [
           {
            "marker": {
             "line": {
              "color": "#E5ECF6",
              "width": 0.5
             }
            },
            "type": "barpolar"
           }
          ],
          "carpet": [
           {
            "aaxis": {
             "endlinecolor": "#2a3f5f",
             "gridcolor": "white",
             "linecolor": "white",
             "minorgridcolor": "white",
             "startlinecolor": "#2a3f5f"
            },
            "baxis": {
             "endlinecolor": "#2a3f5f",
             "gridcolor": "white",
             "linecolor": "white",
             "minorgridcolor": "white",
             "startlinecolor": "#2a3f5f"
            },
            "type": "carpet"
           }
          ],
          "choropleth": [
           {
            "colorbar": {
             "outlinewidth": 0,
             "ticks": ""
            },
            "type": "choropleth"
           }
          ],
          "contour": [
           {
            "colorbar": {
             "outlinewidth": 0,
             "ticks": ""
            },
            "colorscale": [
             [
              0,
              "#0d0887"
             ],
             [
              0.1111111111111111,
              "#46039f"
             ],
             [
              0.2222222222222222,
              "#7201a8"
             ],
             [
              0.3333333333333333,
              "#9c179e"
             ],
             [
              0.4444444444444444,
              "#bd3786"
             ],
             [
              0.5555555555555556,
              "#d8576b"
             ],
             [
              0.6666666666666666,
              "#ed7953"
             ],
             [
              0.7777777777777778,
              "#fb9f3a"
             ],
             [
              0.8888888888888888,
              "#fdca26"
             ],
             [
              1,
              "#f0f921"
             ]
            ],
            "type": "contour"
           }
          ],
          "contourcarpet": [
           {
            "colorbar": {
             "outlinewidth": 0,
             "ticks": ""
            },
            "type": "contourcarpet"
           }
          ],
          "heatmap": [
           {
            "colorbar": {
             "outlinewidth": 0,
             "ticks": ""
            },
            "colorscale": [
             [
              0,
              "#0d0887"
             ],
             [
              0.1111111111111111,
              "#46039f"
             ],
             [
              0.2222222222222222,
              "#7201a8"
             ],
             [
              0.3333333333333333,
              "#9c179e"
             ],
             [
              0.4444444444444444,
              "#bd3786"
             ],
             [
              0.5555555555555556,
              "#d8576b"
             ],
             [
              0.6666666666666666,
              "#ed7953"
             ],
             [
              0.7777777777777778,
              "#fb9f3a"
             ],
             [
              0.8888888888888888,
              "#fdca26"
             ],
             [
              1,
              "#f0f921"
             ]
            ],
            "type": "heatmap"
           }
          ],
          "heatmapgl": [
           {
            "colorbar": {
             "outlinewidth": 0,
             "ticks": ""
            },
            "colorscale": [
             [
              0,
              "#0d0887"
             ],
             [
              0.1111111111111111,
              "#46039f"
             ],
             [
              0.2222222222222222,
              "#7201a8"
             ],
             [
              0.3333333333333333,
              "#9c179e"
             ],
             [
              0.4444444444444444,
              "#bd3786"
             ],
             [
              0.5555555555555556,
              "#d8576b"
             ],
             [
              0.6666666666666666,
              "#ed7953"
             ],
             [
              0.7777777777777778,
              "#fb9f3a"
             ],
             [
              0.8888888888888888,
              "#fdca26"
             ],
             [
              1,
              "#f0f921"
             ]
            ],
            "type": "heatmapgl"
           }
          ],
          "histogram": [
           {
            "marker": {
             "colorbar": {
              "outlinewidth": 0,
              "ticks": ""
             }
            },
            "type": "histogram"
           }
          ],
          "histogram2d": [
           {
            "colorbar": {
             "outlinewidth": 0,
             "ticks": ""
            },
            "colorscale": [
             [
              0,
              "#0d0887"
             ],
             [
              0.1111111111111111,
              "#46039f"
             ],
             [
              0.2222222222222222,
              "#7201a8"
             ],
             [
              0.3333333333333333,
              "#9c179e"
             ],
             [
              0.4444444444444444,
              "#bd3786"
             ],
             [
              0.5555555555555556,
              "#d8576b"
             ],
             [
              0.6666666666666666,
              "#ed7953"
             ],
             [
              0.7777777777777778,
              "#fb9f3a"
             ],
             [
              0.8888888888888888,
              "#fdca26"
             ],
             [
              1,
              "#f0f921"
             ]
            ],
            "type": "histogram2d"
           }
          ],
          "histogram2dcontour": [
           {
            "colorbar": {
             "outlinewidth": 0,
             "ticks": ""
            },
            "colorscale": [
             [
              0,
              "#0d0887"
             ],
             [
              0.1111111111111111,
              "#46039f"
             ],
             [
              0.2222222222222222,
              "#7201a8"
             ],
             [
              0.3333333333333333,
              "#9c179e"
             ],
             [
              0.4444444444444444,
              "#bd3786"
             ],
             [
              0.5555555555555556,
              "#d8576b"
             ],
             [
              0.6666666666666666,
              "#ed7953"
             ],
             [
              0.7777777777777778,
              "#fb9f3a"
             ],
             [
              0.8888888888888888,
              "#fdca26"
             ],
             [
              1,
              "#f0f921"
             ]
            ],
            "type": "histogram2dcontour"
           }
          ],
          "mesh3d": [
           {
            "colorbar": {
             "outlinewidth": 0,
             "ticks": ""
            },
            "type": "mesh3d"
           }
          ],
          "parcoords": [
           {
            "line": {
             "colorbar": {
              "outlinewidth": 0,
              "ticks": ""
             }
            },
            "type": "parcoords"
           }
          ],
          "pie": [
           {
            "automargin": true,
            "type": "pie"
           }
          ],
          "scatter": [
           {
            "marker": {
             "colorbar": {
              "outlinewidth": 0,
              "ticks": ""
             }
            },
            "type": "scatter"
           }
          ],
          "scatter3d": [
           {
            "line": {
             "colorbar": {
              "outlinewidth": 0,
              "ticks": ""
             }
            },
            "marker": {
             "colorbar": {
              "outlinewidth": 0,
              "ticks": ""
             }
            },
            "type": "scatter3d"
           }
          ],
          "scattercarpet": [
           {
            "marker": {
             "colorbar": {
              "outlinewidth": 0,
              "ticks": ""
             }
            },
            "type": "scattercarpet"
           }
          ],
          "scattergeo": [
           {
            "marker": {
             "colorbar": {
              "outlinewidth": 0,
              "ticks": ""
             }
            },
            "type": "scattergeo"
           }
          ],
          "scattergl": [
           {
            "marker": {
             "colorbar": {
              "outlinewidth": 0,
              "ticks": ""
             }
            },
            "type": "scattergl"
           }
          ],
          "scattermapbox": [
           {
            "marker": {
             "colorbar": {
              "outlinewidth": 0,
              "ticks": ""
             }
            },
            "type": "scattermapbox"
           }
          ],
          "scatterpolar": [
           {
            "marker": {
             "colorbar": {
              "outlinewidth": 0,
              "ticks": ""
             }
            },
            "type": "scatterpolar"
           }
          ],
          "scatterpolargl": [
           {
            "marker": {
             "colorbar": {
              "outlinewidth": 0,
              "ticks": ""
             }
            },
            "type": "scatterpolargl"
           }
          ],
          "scatterternary": [
           {
            "marker": {
             "colorbar": {
              "outlinewidth": 0,
              "ticks": ""
             }
            },
            "type": "scatterternary"
           }
          ],
          "surface": [
           {
            "colorbar": {
             "outlinewidth": 0,
             "ticks": ""
            },
            "colorscale": [
             [
              0,
              "#0d0887"
             ],
             [
              0.1111111111111111,
              "#46039f"
             ],
             [
              0.2222222222222222,
              "#7201a8"
             ],
             [
              0.3333333333333333,
              "#9c179e"
             ],
             [
              0.4444444444444444,
              "#bd3786"
             ],
             [
              0.5555555555555556,
              "#d8576b"
             ],
             [
              0.6666666666666666,
              "#ed7953"
             ],
             [
              0.7777777777777778,
              "#fb9f3a"
             ],
             [
              0.8888888888888888,
              "#fdca26"
             ],
             [
              1,
              "#f0f921"
             ]
            ],
            "type": "surface"
           }
          ],
          "table": [
           {
            "cells": {
             "fill": {
              "color": "#EBF0F8"
             },
             "line": {
              "color": "white"
             }
            },
            "header": {
             "fill": {
              "color": "#C8D4E3"
             },
             "line": {
              "color": "white"
             }
            },
            "type": "table"
           }
          ]
         },
         "layout": {
          "annotationdefaults": {
           "arrowcolor": "#2a3f5f",
           "arrowhead": 0,
           "arrowwidth": 1
          },
          "coloraxis": {
           "colorbar": {
            "outlinewidth": 0,
            "ticks": ""
           }
          },
          "colorscale": {
           "diverging": [
            [
             0,
             "#8e0152"
            ],
            [
             0.1,
             "#c51b7d"
            ],
            [
             0.2,
             "#de77ae"
            ],
            [
             0.3,
             "#f1b6da"
            ],
            [
             0.4,
             "#fde0ef"
            ],
            [
             0.5,
             "#f7f7f7"
            ],
            [
             0.6,
             "#e6f5d0"
            ],
            [
             0.7,
             "#b8e186"
            ],
            [
             0.8,
             "#7fbc41"
            ],
            [
             0.9,
             "#4d9221"
            ],
            [
             1,
             "#276419"
            ]
           ],
           "sequential": [
            [
             0,
             "#0d0887"
            ],
            [
             0.1111111111111111,
             "#46039f"
            ],
            [
             0.2222222222222222,
             "#7201a8"
            ],
            [
             0.3333333333333333,
             "#9c179e"
            ],
            [
             0.4444444444444444,
             "#bd3786"
            ],
            [
             0.5555555555555556,
             "#d8576b"
            ],
            [
             0.6666666666666666,
             "#ed7953"
            ],
            [
             0.7777777777777778,
             "#fb9f3a"
            ],
            [
             0.8888888888888888,
             "#fdca26"
            ],
            [
             1,
             "#f0f921"
            ]
           ],
           "sequentialminus": [
            [
             0,
             "#0d0887"
            ],
            [
             0.1111111111111111,
             "#46039f"
            ],
            [
             0.2222222222222222,
             "#7201a8"
            ],
            [
             0.3333333333333333,
             "#9c179e"
            ],
            [
             0.4444444444444444,
             "#bd3786"
            ],
            [
             0.5555555555555556,
             "#d8576b"
            ],
            [
             0.6666666666666666,
             "#ed7953"
            ],
            [
             0.7777777777777778,
             "#fb9f3a"
            ],
            [
             0.8888888888888888,
             "#fdca26"
            ],
            [
             1,
             "#f0f921"
            ]
           ]
          },
          "colorway": [
           "#636efa",
           "#EF553B",
           "#00cc96",
           "#ab63fa",
           "#FFA15A",
           "#19d3f3",
           "#FF6692",
           "#B6E880",
           "#FF97FF",
           "#FECB52"
          ],
          "font": {
           "color": "#2a3f5f"
          },
          "geo": {
           "bgcolor": "white",
           "lakecolor": "white",
           "landcolor": "#E5ECF6",
           "showlakes": true,
           "showland": true,
           "subunitcolor": "white"
          },
          "hoverlabel": {
           "align": "left"
          },
          "hovermode": "closest",
          "mapbox": {
           "style": "light"
          },
          "paper_bgcolor": "white",
          "plot_bgcolor": "#E5ECF6",
          "polar": {
           "angularaxis": {
            "gridcolor": "white",
            "linecolor": "white",
            "ticks": ""
           },
           "bgcolor": "#E5ECF6",
           "radialaxis": {
            "gridcolor": "white",
            "linecolor": "white",
            "ticks": ""
           }
          },
          "scene": {
           "xaxis": {
            "backgroundcolor": "#E5ECF6",
            "gridcolor": "white",
            "gridwidth": 2,
            "linecolor": "white",
            "showbackground": true,
            "ticks": "",
            "zerolinecolor": "white"
           },
           "yaxis": {
            "backgroundcolor": "#E5ECF6",
            "gridcolor": "white",
            "gridwidth": 2,
            "linecolor": "white",
            "showbackground": true,
            "ticks": "",
            "zerolinecolor": "white"
           },
           "zaxis": {
            "backgroundcolor": "#E5ECF6",
            "gridcolor": "white",
            "gridwidth": 2,
            "linecolor": "white",
            "showbackground": true,
            "ticks": "",
            "zerolinecolor": "white"
           }
          },
          "shapedefaults": {
           "line": {
            "color": "#2a3f5f"
           }
          },
          "ternary": {
           "aaxis": {
            "gridcolor": "white",
            "linecolor": "white",
            "ticks": ""
           },
           "baxis": {
            "gridcolor": "white",
            "linecolor": "white",
            "ticks": ""
           },
           "bgcolor": "#E5ECF6",
           "caxis": {
            "gridcolor": "white",
            "linecolor": "white",
            "ticks": ""
           }
          },
          "title": {
           "x": 0.05
          },
          "xaxis": {
           "automargin": true,
           "gridcolor": "white",
           "linecolor": "white",
           "ticks": "",
           "title": {
            "standoff": 15
           },
           "zerolinecolor": "white",
           "zerolinewidth": 2
          },
          "yaxis": {
           "automargin": true,
           "gridcolor": "white",
           "linecolor": "white",
           "ticks": "",
           "title": {
            "standoff": 15
           },
           "zerolinecolor": "white",
           "zerolinewidth": 2
          }
         }
        },
        "xaxis": {
         "anchor": "y",
         "domain": [
          0,
          1
         ]
        },
        "yaxis": {
         "anchor": "x",
         "domain": [
          0,
          1
         ],
         "title": {
          "text": "production_budget"
         }
        }
       }
      }
     },
     "metadata": {},
     "output_type": "display_data"
    }
   ],
   "source": [
    "# box plots\n",
    "fig = px.box(df_movies, y=\"production_budget\")\n",
    "fig.show()"
   ]
  },
  {
   "cell_type": "code",
   "execution_count": 65,
   "metadata": {},
   "outputs": [],
   "source": [
    "# decide on how many box plots to display"
   ]
  },
  {
   "cell_type": "code",
   "execution_count": 66,
   "metadata": {},
   "outputs": [
    {
     "data": {
      "text/plain": [
       "Text(0.5, 1.0, 'KDE Plot of production budgets')"
      ]
     },
     "execution_count": 66,
     "metadata": {},
     "output_type": "execute_result"
    },
    {
     "data": {
      "image/png": "[encoded data removed]",
      "text/plain": [
       "<Figure size 432x288 with 1 Axes>"
      ]
     },
     "metadata": {
      "needs_background": "light"
     },
     "output_type": "display_data"
    }
   ],
   "source": [
    "# kde plot\n",
    "sns.kdeplot(df_movies['production_budget'])\n",
    "plt.xlabel('Budget')\n",
    "plt.ylabel('Density')\n",
    "plt.title('KDE Plot of production budgets')"
   ]
  },
  {
   "cell_type": "code",
   "execution_count": 67,
   "metadata": {},
   "outputs": [],
   "source": [
    "# plot required kde plots and interpret them"
   ]
  },
  {
   "cell_type": "code",
   "execution_count": null,
   "metadata": {},
   "outputs": [],
   "source": []
  }
 ],
 "metadata": {
  "kernelspec": {
   "display_name": "learn-env",
   "language": "python",
   "name": "python3"
  },
  "language_info": {
   "codemirror_mode": {
    "name": "ipython",
    "version": 3
   },
   "file_extension": ".py",
   "mimetype": "text/x-python",
   "name": "python",
   "nbconvert_exporter": "python",
   "pygments_lexer": "ipython3",
   "version": "3.8.5"
  }
 },
 "nbformat": 4,
 "nbformat_minor": 2
}
