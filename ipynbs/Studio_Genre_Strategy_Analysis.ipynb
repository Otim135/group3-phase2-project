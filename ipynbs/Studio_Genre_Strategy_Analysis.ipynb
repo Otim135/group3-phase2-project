{
 "cells": [
  {
   "cell_type": "markdown",
   "metadata": {},
   "source": [
    "# **Movies Analysis**"
   ]
  },
  {
   "cell_type": "markdown",
   "metadata": {},
   "source": [
    "#### Step 1: **Introduction**\n",
    "The primary aim of this project is to provide data-driven insights for a company looking to establish a new movie studio. With the entertainment industry evolving, the goal is to analyze existing film data to understand what types of movies perform best at the box office, helping the studio decide which genres, contributors, and themes to prioritize.\n",
    "\n",
    "\n",
    "#### Step 2: **Business Problem**\n",
    "The newly established movie studio, is keen to determine how to translate historical performance data into strategic decisions about film development, to produce content that is more likely to succeed commercially and meet audience demand. \n",
    "Despite being in a highly competitive industry, the movie studio lacks the data-driven insights needed to make informed decisions about which types of films to produce. Without understanding current trends in the movie market, including the genres, themes, budgets, cast, and production values that are most likely to succeed at the box office, the studio risks investing in film projects that may underperform or fail to attract audiences. The company is seeking to leverage data from multiple reputable sources (Box Office Mojo, IMDB, Rotten Tomatoes, The MovieDB, and The Numbers) to uncover actionable insights that will guide the creative, financial, and marketing decisions for the studio.\n",
    "\n",
    "#### Step 3: **Objectives**\n",
    "Our analysis will focus on the following objectives:\n",
    "\n",
    "1. **Identify Popular Genres**: Analyze which genres tend to have higher ratings and more viewer engagement.\n",
    "2. **Analyze Characteristics of High-Rated Movies**: Examine factors such as runtime, year of release, and genre combinations to see if they correlate with higher ratings.\n",
    "3. **Determine Key Contributors**: Identify directors, writers, and actors who have contributed to successful movies, as potential partners for the new studio.\n",
    "4. **Investigate Trends Over Time**: Look at how preferences in ratings, movie length, and genres have evolved over the years, highlighting trends that may be valuable for the new studio to consider.\n",
    "\n",
    "\n",
    "#### Step 4: **Data Understanding**\n",
    "\n",
    "\n",
    "**Key Questions for Data Understanding**:\n",
    "- What is the distribution of genres in the dataset?\n",
    "- Are there missing values in critical columns (e.g., ratings, genres, runtime)?\n",
    "- How are ratings distributed across movies?\n",
    "- What are the relationships between tables that can help us analyze contributor impact (e.g., directors, writers)?"
   ]
  },
  {
   "cell_type": "code",
   "execution_count": 3,
   "metadata": {},
   "outputs": [],
   "source": [
    "#install all libraries to be used\n",
    "import pandas as pd\n",
    "import numpy as np\n",
    "import seaborn as sns\n",
    "import scipy as sp\n",
    "import scipy.stats as st\n",
    "import sqlite3\n",
    "import zipfile\n",
    "import os\n",
    "import statsmodels.api as sm\n",
    "from statsmodels.stats.power import TTestIndPower, TTestPower\n",
    "import statsmodels.formula as smf\n",
    "import matplotlib.pyplot as plt\n",
    "%matplotlib inline\n",
    "import plotly.express as px\n",
    "# Ignore all warnings\n",
    "import warnings\n",
    "warnings.filterwarnings('ignore')"
   ]
  },
  {
   "cell_type": "code",
   "execution_count": 4,
   "metadata": {},
   "outputs": [],
   "source": [
    "# Define paths\n",
    "zip_file_path = \"C:\\Projects\\group3-phase2-project\\data\\im.db.zip\"  \n",
    "extracted_dir = \"C:\\Projects\\group3-phase2-project\\data\\extracted\"  "
   ]
  },
  {
   "cell_type": "code",
   "execution_count": 5,
   "metadata": {},
   "outputs": [],
   "source": [
    "# Step 1: Unzip the file\n",
    "with zipfile.ZipFile(zip_file_path, \"r\") as zip_ref:\n",
    "    zip_ref.extractall(extracted_dir)"
   ]
  },
  {
   "cell_type": "code",
   "execution_count": 6,
   "metadata": {},
   "outputs": [],
   "source": [
    "# Define the path to the extracted database file\n",
    "db_path = os.path.join(extracted_dir, \"im.db\")"
   ]
  },
  {
   "cell_type": "code",
   "execution_count": 7,
   "metadata": {},
   "outputs": [],
   "source": [
    "# Step 2: Check if the database file exists and connect to it\n",
    "if os.path.exists(db_path) and os.path.getsize(db_path) > 0:\n",
    "    # Connect to the SQLite database\n",
    "    conn = sqlite3.connect(db_path)"
   ]
  },
  {
   "cell_type": "code",
   "execution_count": 8,
   "metadata": {},
   "outputs": [
    {
     "name": "stdout",
     "output_type": "stream",
     "text": [
      "Database file exists and is not empty. Proceeding with connection.\n",
      "Tables found:             name\n",
      "0   movie_basics\n",
      "1      directors\n",
      "2      known_for\n",
      "3     movie_akas\n",
      "4  movie_ratings\n",
      "5        persons\n",
      "6     principals\n",
      "7        writers\n"
     ]
    }
   ],
   "source": [
    "# Step 3: Check if the database file exists and has a reasonable size\n",
    "if os.path.exists(db_path) and os.path.getsize(db_path) > 0:\n",
    "    print(\"Database file exists and is not empty. Proceeding with connection.\")\n",
    "    \n",
    "    # Connect to the SQLite database\n",
    "    conn = sqlite3.connect(db_path)\n",
    "    \n",
    "    # Step 3: Check tables in the database\n",
    "    tables = pd.read_sql_query(\"SELECT name FROM sqlite_master WHERE type='table';\", conn)\n",
    "    \n",
    "    if tables.empty:\n",
    "        print(\"No tables found in the database. The database might be empty or corrupted.\")\n",
    "    else:\n",
    "        print(\"Tables found:\", tables)\n",
    "else:\n",
    "    print(\"Database file is either missing or empty.\")"
   ]
  },
  {
   "cell_type": "code",
   "execution_count": 9,
   "metadata": {},
   "outputs": [],
   "source": [
    "# Step 4: Load tables into DataFrames for analysis\n",
    "movie_basics = pd.read_sql_query(\"SELECT * FROM movie_basics;\", conn)\n",
    "movie_ratings = pd.read_sql_query(\"SELECT * FROM movie_ratings;\", conn)\n",
    "principals = pd.read_sql_query(\"SELECT * FROM principals;\", conn)\n",
    "persons = pd.read_sql_query(\"SELECT * FROM persons;\", conn)\n",
    "known_for = pd.read_sql_query(\"SELECT * FROM known_for;\", conn)\n",
    "directors = pd.read_sql_query(\"SELECT * FROM directors;\", conn)\n",
    "writers = pd.read_sql_query(\"SELECT * FROM writers;\", conn)\n",
    "movie_akas = pd.read_sql_query(\"SELECT * FROM movie_akas;\", conn)"
   ]
  },
  {
   "cell_type": "code",
   "execution_count": 10,
   "metadata": {},
   "outputs": [
    {
     "name": "stdout",
     "output_type": "stream",
     "text": [
      "<class 'pandas.core.frame.DataFrame'>\n",
      "RangeIndex: 146144 entries, 0 to 146143\n",
      "Data columns (total 6 columns):\n",
      " #   Column           Non-Null Count   Dtype  \n",
      "---  ------           --------------   -----  \n",
      " 0   movie_id         146144 non-null  object \n",
      " 1   primary_title    146144 non-null  object \n",
      " 2   original_title   146123 non-null  object \n",
      " 3   start_year       146144 non-null  int64  \n",
      " 4   runtime_minutes  114405 non-null  float64\n",
      " 5   genres           140736 non-null  object \n",
      "dtypes: float64(1), int64(1), object(4)\n",
      "memory usage: 6.7+ MB\n",
      "<class 'pandas.core.frame.DataFrame'>\n",
      "RangeIndex: 73856 entries, 0 to 73855\n",
      "Data columns (total 3 columns):\n",
      " #   Column         Non-Null Count  Dtype  \n",
      "---  ------         --------------  -----  \n",
      " 0   movie_id       73856 non-null  object \n",
      " 1   averagerating  73856 non-null  float64\n",
      " 2   numvotes       73856 non-null  int64  \n",
      "dtypes: float64(1), int64(1), object(1)\n",
      "memory usage: 1.7+ MB\n",
      "<class 'pandas.core.frame.DataFrame'>\n",
      "RangeIndex: 1028186 entries, 0 to 1028185\n",
      "Data columns (total 6 columns):\n",
      " #   Column      Non-Null Count    Dtype \n",
      "---  ------      --------------    ----- \n",
      " 0   movie_id    1028186 non-null  object\n",
      " 1   ordering    1028186 non-null  int64 \n",
      " 2   person_id   1028186 non-null  object\n",
      " 3   category    1028186 non-null  object\n",
      " 4   job         177684 non-null   object\n",
      " 5   characters  393360 non-null   object\n",
      "dtypes: int64(1), object(5)\n",
      "memory usage: 47.1+ MB\n",
      "<class 'pandas.core.frame.DataFrame'>\n",
      "RangeIndex: 606648 entries, 0 to 606647\n",
      "Data columns (total 5 columns):\n",
      " #   Column              Non-Null Count   Dtype  \n",
      "---  ------              --------------   -----  \n",
      " 0   person_id           606648 non-null  object \n",
      " 1   primary_name        606648 non-null  object \n",
      " 2   birth_year          82736 non-null   float64\n",
      " 3   death_year          6783 non-null    float64\n",
      " 4   primary_profession  555308 non-null  object \n",
      "dtypes: float64(2), object(3)\n",
      "memory usage: 23.1+ MB\n",
      "<class 'pandas.core.frame.DataFrame'>\n",
      "RangeIndex: 1638260 entries, 0 to 1638259\n",
      "Data columns (total 2 columns):\n",
      " #   Column     Non-Null Count    Dtype \n",
      "---  ------     --------------    ----- \n",
      " 0   person_id  1638260 non-null  object\n",
      " 1   movie_id   1638260 non-null  object\n",
      "dtypes: object(2)\n",
      "memory usage: 25.0+ MB\n",
      "<class 'pandas.core.frame.DataFrame'>\n",
      "RangeIndex: 291174 entries, 0 to 291173\n",
      "Data columns (total 2 columns):\n",
      " #   Column     Non-Null Count   Dtype \n",
      "---  ------     --------------   ----- \n",
      " 0   movie_id   291174 non-null  object\n",
      " 1   person_id  291174 non-null  object\n",
      "dtypes: object(2)\n",
      "memory usage: 4.4+ MB\n",
      "<class 'pandas.core.frame.DataFrame'>\n",
      "RangeIndex: 255873 entries, 0 to 255872\n",
      "Data columns (total 2 columns):\n",
      " #   Column     Non-Null Count   Dtype \n",
      "---  ------     --------------   ----- \n",
      " 0   movie_id   255873 non-null  object\n",
      " 1   person_id  255873 non-null  object\n",
      "dtypes: object(2)\n",
      "memory usage: 3.9+ MB\n",
      "<class 'pandas.core.frame.DataFrame'>\n",
      "RangeIndex: 331703 entries, 0 to 331702\n",
      "Data columns (total 8 columns):\n",
      " #   Column             Non-Null Count   Dtype  \n",
      "---  ------             --------------   -----  \n",
      " 0   movie_id           331703 non-null  object \n",
      " 1   ordering           331703 non-null  int64  \n",
      " 2   title              331703 non-null  object \n",
      " 3   region             278410 non-null  object \n",
      " 4   language           41715 non-null   object \n",
      " 5   types              168447 non-null  object \n",
      " 6   attributes         14925 non-null   object \n",
      " 7   is_original_title  331678 non-null  float64\n",
      "dtypes: float64(1), int64(1), object(6)\n",
      "memory usage: 20.2+ MB\n"
     ]
    },
    {
     "data": {
      "text/plain": [
       "{'movie_basics': None,\n",
       " 'movie_ratings': None,\n",
       " 'principals': None,\n",
       " 'persons': None,\n",
       " 'known_for': None,\n",
       " 'directors': None,\n",
       " 'writers': None,\n",
       " 'movie_akas': None}"
      ]
     },
     "execution_count": 10,
     "metadata": {},
     "output_type": "execute_result"
    }
   ],
   "source": [
    "# Display brief info summary for each DataFrame\n",
    "dataframes_info = {\n",
    "        \"movie_basics\": movie_basics.info(),\n",
    "        \"movie_ratings\": movie_ratings.info(),\n",
    "        \"principals\": principals.info(),\n",
    "        \"persons\": persons.info(),\n",
    "        \"known_for\": known_for.info(),\n",
    "        \"directors\": directors.info(),\n",
    "        \"writers\": writers.info(),\n",
    "        \"movie_akas\": movie_akas.info()\n",
    "    }\n",
    "    \n",
    "dataframes_info  # This will display summaries for all loaded tables\n"
   ]
  },
  {
   "cell_type": "code",
   "execution_count": 11,
   "metadata": {},
   "outputs": [],
   "source": [
    "# Inspect the movie_basics data and drop unnecessary columns\n",
    "movie_basics.columns\n",
    "movie_basics = pd.read_sql(\"\"\"SELECT movie_id, primary_title, start_year, runtime_minutes, genres FROM movie_basics;\"\"\", conn)\n",
    "\n",
    "# Inspect the directors data and drop unnecessary columns\n",
    "directors.columns\n",
    "directors = pd.read_sql(\"\"\"SELECT movie_id, person_id FROM directors\"\"\", conn)\n",
    "\n",
    "# Inspect the known_for data and drop unnecessary columns\n",
    "known_for.columns\n",
    "known_for = pd.read_sql(\"\"\"SELECT person_id, movie_id FROM known_for\"\"\", conn)\n",
    "\n",
    "# Inspect the movie_akas data and drop unnecessary columns\n",
    "movie_akas.columns\n",
    "movie_akas = pd.read_sql(\"\"\"SELECT movie_id, title, region, language FROM movie_akas\"\"\", conn)\n",
    "\n",
    "# Inspect the movie_ratings data and drop unnecessary columns\n",
    "movie_ratings.columns\n",
    "movie_ratings = pd.read_sql(\"\"\"SELECT movie_id, averagerating, numvotes  FROM movie_ratings\"\"\", conn)\n",
    "\n",
    "# Inspect the principals data and drop unnecessary columns\n",
    "principals.columns\n",
    "principals = pd.read_sql(\"\"\"SELECT movie_id, person_id, category FROM principals\"\"\", conn)\n",
    "\n",
    "# Inspect the persons data and drop unnecessary columns\n",
    "persons.columns\n",
    "persons = pd.read_sql(\"\"\"SELECT person_id, primary_name FROM persons\"\"\", conn)\n",
    "\n",
    "# Inspect the writers data and drop unnecessary columns\n",
    "writers.columns\n",
    "writers = pd.read_sql(\"\"\"SELECT movie_id, person_id FROM writers\"\"\", conn)"
   ]
  },
  {
   "cell_type": "code",
   "execution_count": 12,
   "metadata": {},
   "outputs": [],
   "source": [
    "# Identify unique movie_id and person_id values in the primary tables(movie_basics and persons) \n",
    "# Filter each table to only inlcude rows with valid movie_id and person_id \n",
    "# Create sets of unique movie and person IDs from primary tables\n",
    "valid_movie_ids = set(movie_basics['movie_id'])\n",
    "valid_person_ids = set(persons['person_id'])\n",
    "\n",
    "# Directors: filter on movie_id and person_id\n",
    "directors = directors[directors['movie_id'].isin(valid_movie_ids) & \n",
    "                      directors['person_id'].isin(valid_person_ids)]\n",
    "\n",
    "# Known_for: filter on movie_id and person_id\n",
    "known_for = known_for[known_for['movie_id'].isin(valid_movie_ids) & \n",
    "                      known_for['person_id'].isin(valid_person_ids)]\n",
    "\n",
    "# Movie_akas: filter on movie_id only\n",
    "movie_akas = movie_akas[movie_akas['movie_id'].isin(valid_movie_ids)]\n",
    "\n",
    "# Movie_ratings: filter on movie_id only\n",
    "movie_ratings = movie_ratings[movie_ratings['movie_id'].isin(valid_movie_ids)]\n",
    "\n",
    "# Principals: filter on movie_id and person_id\n",
    "principals = principals[principals['movie_id'].isin(valid_movie_ids) & \n",
    "                        principals['person_id'].isin(valid_person_ids)]\n",
    "\n",
    "# Writers: filter on movie_id and person_id\n",
    "writers = writers[writers['movie_id'].isin(valid_movie_ids) & \n",
    "                  writers['person_id'].isin(valid_person_ids)]\n"
   ]
  },
  {
   "cell_type": "code",
   "execution_count": 13,
   "metadata": {},
   "outputs": [],
   "source": [
    "# Check if all movie_id in foreign tables exist in movie_basics\n",
    "assert directors['movie_id'].isin(valid_movie_ids).all()\n",
    "assert known_for['movie_id'].isin(valid_movie_ids).all()\n",
    "assert movie_akas['movie_id'].isin(valid_movie_ids).all()\n",
    "assert movie_ratings['movie_id'].isin(valid_movie_ids).all()\n",
    "assert principals['movie_id'].isin(valid_movie_ids).all()\n",
    "assert writers['movie_id'].isin(valid_movie_ids).all()\n",
    "\n",
    "# Check if all person_id in foreign tables exist in persons\n",
    "assert directors['person_id'].isin(valid_person_ids).all()\n",
    "assert known_for['person_id'].isin(valid_person_ids).all()\n",
    "assert principals['person_id'].isin(valid_person_ids).all()\n",
    "assert writers['person_id'].isin(valid_person_ids).all()"
   ]
  },
  {
   "cell_type": "code",
   "execution_count": 14,
   "metadata": {},
   "outputs": [],
   "source": [
    "# Update cleaned Tables in SQLite\n",
    "movie_basics.to_sql(\"movie_basics_clean\", conn, if_exists=\"replace\", index=False)\n",
    "directors.to_sql(\"directors_clean\", conn, if_exists=\"replace\", index=False)\n",
    "known_for.to_sql(\"known_for_clean\", conn, if_exists=\"replace\", index=False)\n",
    "movie_akas.to_sql(\"movie_akas_clean\", conn, if_exists=\"replace\", index=False)\n",
    "movie_ratings.to_sql(\"movie_ratings_clean\", conn, if_exists=\"replace\", index=False)\n",
    "principals.to_sql(\"principals_clean\", conn, if_exists=\"replace\", index=False)\n",
    "persons.to_sql(\"persons_clean\", conn, if_exists=\"replace\", index=False)\n",
    "writers.to_sql(\"writers_clean\", conn, if_exists=\"replace\", index=False)"
   ]
  },
  {
   "cell_type": "code",
   "execution_count": 15,
   "metadata": {},
   "outputs": [],
   "source": [
    "# Retrieve cleaned tables \n",
    "movie_basics = pd.read_sql(\"SELECT * FROM movie_basics_clean\", conn)\n",
    "directors = pd.read_sql(\"SELECT * FROM directors_clean\", conn)\n",
    "known_for = pd.read_sql(\"SELECT * FROM known_for_clean\", conn)\n",
    "movie_akas = pd.read_sql(\"SELECT * FROM movie_akas_clean\", conn)\n",
    "movie_ratings = pd.read_sql(\"SELECT * FROM movie_ratings_clean\", conn)\n",
    "principals = pd.read_sql(\"SELECT * FROM principals_clean\", conn)\n",
    "persons = pd.read_sql(\"SELECT * FROM persons_clean\", conn)\n",
    "writers = pd.read_sql(\"SELECT * FROM writers_clean\", conn)"
   ]
  },
  {
   "cell_type": "code",
   "execution_count": 16,
   "metadata": {},
   "outputs": [
    {
     "name": "stdout",
     "output_type": "stream",
     "text": [
      "movie_basics shape: (146144, 5)\n",
      "directors shape: (291171, 2)\n",
      "movie_ratings shape: (73856, 3)\n",
      "known_for shape: (791006, 2)\n",
      "movie_akas shape: (331703, 4)\n",
      "persons shape: (606648, 2)\n",
      "principals shape: (1027912, 3)\n",
      "writers shape before dropping duplicates: (255871, 2)\n"
     ]
    }
   ],
   "source": [
    "# Check values before dropping duplicates\n",
    "print(f\"movie_basics shape: {movie_basics.shape}\")\n",
    "print(f\"directors shape: {directors.shape}\")\n",
    "print(f\"movie_ratings shape: {movie_ratings.shape}\")\n",
    "print(f\"known_for shape: {known_for.shape}\")\n",
    "print(f\"movie_akas shape: {movie_akas.shape}\")\n",
    "print(f\"persons shape: {persons.shape}\")\n",
    "print(f\"principals shape: {principals.shape}\")\n",
    "print(f\"writers shape before dropping duplicates: {writers.shape}\")\n"
   ]
  },
  {
   "cell_type": "code",
   "execution_count": 17,
   "metadata": {},
   "outputs": [
    {
     "name": "stdout",
     "output_type": "stream",
     "text": [
      "clean movie_basics shape: (146144, 5)\n",
      "clean directors shape: (109251, 2)\n",
      "clean movie_ratings shape: (73856, 3)\n",
      "clean known_for shape: (791006, 2)\n",
      "clean movie_akas shape: (122302, 4)\n",
      "clean persons shape: (606648, 2)\n",
      "clean principals shape: (1027874, 3)\n",
      "clean writers shape: (178350, 2)\n"
     ]
    }
   ],
   "source": [
    "# Drop duplicates\n",
    "def drop_duplicates(df, subset=None, keep='first', inplace=True):\n",
    "    # Drop duplicates based on the subset of columns\n",
    "    if subset:\n",
    "        df.drop_duplicates(subset=subset, keep=keep, inplace=inplace)\n",
    "    else:\n",
    "        df.drop_duplicates(keep=keep, inplace=inplace)\n",
    "\n",
    "    return df\n",
    "\n",
    "#Apply the function with appropriate subset of columns for each DataFrame\n",
    "drop_duplicates(movie_basics, subset=['movie_id'], keep='first')\n",
    "drop_duplicates(directors, subset=['person_id'], keep='first')\n",
    "drop_duplicates(movie_ratings, subset=['movie_id'], keep='first')\n",
    "drop_duplicates(known_for, subset=['movie_id', 'person_id'], keep='first')\n",
    "drop_duplicates(movie_akas, subset=['movie_id'], keep='first') \n",
    "drop_duplicates(persons, subset=['person_id'], keep='first')\n",
    "drop_duplicates(principals, subset=['movie_id', 'person_id'], keep='first')\n",
    "drop_duplicates(writers, subset=['person_id', 'movie_id'], keep='first')\n",
    "\n",
    "# Verify the results after dropping duplicates\n",
    "print(f\"clean movie_basics shape: {movie_basics.shape}\")\n",
    "print(f\"clean directors shape: {directors.shape}\")\n",
    "print(f\"clean movie_ratings shape: {movie_ratings.shape}\")\n",
    "print(f\"clean known_for shape: {known_for.shape}\")\n",
    "print(f\"clean movie_akas shape: {movie_akas.shape}\")\n",
    "print(f\"clean persons shape: {persons.shape}\")\n",
    "print(f\"clean principals shape: {principals.shape}\")\n",
    "print(f\"clean writers shape: {writers.shape}\")"
   ]
  },
  {
   "cell_type": "code",
   "execution_count": 18,
   "metadata": {},
   "outputs": [
    {
     "name": "stdout",
     "output_type": "stream",
     "text": [
      "movie_id               0\n",
      "primary_title          0\n",
      "start_year             0\n",
      "runtime_minutes    31739\n",
      "genres              5408\n",
      "dtype: int64\n",
      "movie_id     0\n",
      "person_id    0\n",
      "dtype: int64\n",
      "movie_id         0\n",
      "averagerating    0\n",
      "numvotes         0\n",
      "dtype: int64\n",
      "person_id    0\n",
      "movie_id     0\n",
      "dtype: int64\n",
      "movie_id         0\n",
      "title            0\n",
      "region       14813\n",
      "language    115132\n",
      "dtype: int64\n",
      "movie_id         0\n",
      "averagerating    0\n",
      "numvotes         0\n",
      "dtype: int64\n",
      "person_id       0\n",
      "primary_name    0\n",
      "dtype: int64\n",
      "movie_id     0\n",
      "person_id    0\n",
      "category     0\n",
      "dtype: int64\n",
      "movie_id     0\n",
      "person_id    0\n",
      "dtype: int64\n"
     ]
    }
   ],
   "source": [
    "# Identify missing values\n",
    "print(movie_basics.isnull().sum())\n",
    "print(directors.isnull().sum())\n",
    "print(movie_ratings.isnull().sum())\n",
    "print(known_for.isnull().sum())\n",
    "print(movie_akas.isnull().sum())\n",
    "print(movie_ratings.isnull().sum())\n",
    "print(persons.isnull().sum())\n",
    "print(principals.isnull().sum())\n",
    "print(writers.isnull().sum())"
   ]
  },
  {
   "cell_type": "code",
   "execution_count": 19,
   "metadata": {},
   "outputs": [],
   "source": [
    "# Drop null values in the tables\n",
    "movie_basics.dropna(subset=['genres'], inplace=True)\n",
    "\n",
    "# Save the cleaned data back to SQLite\n",
    "movie_basics.to_sql(\"movie_basics\", conn, if_exists=\"replace\", index=False)\n"
   ]
  },
  {
   "cell_type": "markdown",
   "metadata": {},
   "source": []
  },
  {
   "cell_type": "markdown",
   "metadata": {},
   "source": [
    "#### Genres"
   ]
  },
  {
   "cell_type": "code",
   "execution_count": 22,
   "metadata": {},
   "outputs": [
    {
     "data": {
      "text/plain": [
       "<Figure size 864x432 with 0 Axes>"
      ]
     },
     "metadata": {},
     "output_type": "display_data"
    },
    {
     "data": {
      "image/png": "[encoded data removed]",
      "text/plain": [
       "<Figure size 864x432 with 2 Axes>"
      ]
     },
     "metadata": {
      "needs_background": "light"
     },
     "output_type": "display_data"
    }
   ],
   "source": [
    "# Find the top_10_rated_genres by highest rating, with highest number of votes and movie count\n",
    "top_10_rated_genres= \"\"\" \n",
    "SELECT mb.genres, \n",
    "        AVG(mr.averagerating) AS avg_rating, \n",
    "        COUNT(DISTINCT mr.movie_id) AS movie_count\n",
    "FROM movie_ratings mr\n",
    "JOIN movie_basics mb USING(movie_id)\n",
    "WHERE mr.averagerating > 6\n",
    "GROUP BY mb.genres\n",
    "ORDER BY avg_rating DESC, movie_count DESC\n",
    "LIMIT 10;\"\"\"\n",
    "top_10_rated_genres = pd.read_sql(top_10_rated_genres, conn)\n",
    "\n",
    "# Set up the plot size and style\n",
    "plt.figure(figsize=(12, 6))\n",
    "#sns.set(style=\"whitegrid\")\n",
    "\n",
    "# Create a single axis (ax) for the plot\n",
    "fig, ax1 = plt.subplots(figsize=(12, 6))\n",
    "\n",
    "# Plotting average rating on the primary y-axis (left)\n",
    "sns.barplot(x='genres', y='avg_rating', data=top_10_rated_genres, ax=ax1, palette='Set2')\n",
    "\n",
    "# Create a secondary axis for movie count (right)\n",
    "ax2 = ax1.twinx()\n",
    "sns.lineplot(x='genres', y='movie_count', data=top_10_rated_genres, ax=ax2, color='green', marker='o')\n",
    "\n",
    "# Labels\n",
    "ax1.set_ylabel('Average Rating', color='pink')\n",
    "ax2.set_ylabel('Movie Count', color='green')\n",
    "plt.title('Top 10 Rated Movie Genres: Average Rating and Movie Count', fontsize=16)\n",
    "ax1.set_xlabel('Genre', fontsize=12)\n",
    "ax1.set_xticklabels(top_10_rated_genres['genres'], rotation=45, ha='right')\n",
    "\n",
    "# Show the plot\n",
    "plt.tight_layout()\n",
    "plt.show()"
   ]
  },
  {
   "cell_type": "code",
   "execution_count": 23,
   "metadata": {},
   "outputs": [
    {
     "data": {
      "image/png": "[encoded data removed]",
      "text/plain": [
       "<Figure size 720x432 with 1 Axes>"
      ]
     },
     "metadata": {
      "needs_background": "light"
     },
     "output_type": "display_data"
    }
   ],
   "source": [
    "# Top 15 genres by movie_count\n",
    "top_15_genres = \"\"\" SELECT genres, COUNT(DISTINCT movie_id) AS genre_count\n",
    "FROM movie_basics\n",
    "GROUP BY genres\n",
    "ORDER BY genre_count DESC\n",
    "LIMIT 15;\"\"\"\n",
    "top_15_genres = pd.read_sql(top_15_genres, conn)\n",
    "top_15_genres\n",
    "\n",
    "# Plot barplot of the genre count\n",
    "plt.figure(figsize=(10,6))\n",
    "ax= sns.barplot(y='genre_count', x='genres', data=top_15_genres, palette='Set2')\n",
    "        \n",
    "plt.title('Top 15 Genres by Movie Count')\n",
    "plt.xlabel('Genres')\n",
    "plt.ylabel('Number of Movies')\n",
    "plt.xticks(rotation=90)\n",
    "\n",
    "plt.tight_layout()\n",
    "plt.show()"
   ]
  },
  {
   "cell_type": "code",
   "execution_count": null,
   "metadata": {},
   "outputs": [],
   "source": []
  }
 ],
 "metadata": {
  "kernelspec": {
   "display_name": "learn-env",
   "language": "python",
   "name": "python3"
  },
  "language_info": {
   "codemirror_mode": {
    "name": "ipython",
    "version": 3
   },
   "file_extension": ".py",
   "mimetype": "text/x-python",
   "name": "python",
   "nbconvert_exporter": "python",
   "pygments_lexer": "ipython3",
   "version": "3.8.5"
  }
 },
 "nbformat": 4,
 "nbformat_minor": 2
}
