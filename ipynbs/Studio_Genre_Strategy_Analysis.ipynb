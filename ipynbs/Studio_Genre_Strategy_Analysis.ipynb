{
 "cells": [
  {
   "cell_type": "markdown",
   "metadata": {},
   "source": [
    "# **Movies Analysis**"
   ]
  },
  {
   "cell_type": "markdown",
   "metadata": {},
   "source": [
    "#### Step 1: **Introduction**\n",
    "The primary aim of this project is to provide data-driven insights for a company looking to establish a new movie studio. With the entertainment industry evolving, the goal is to analyze existing film data to understand what types of movies perform best at the box office, helping the studio decide which genres, contributors, and themes to prioritize.\n",
    "\n",
    "\n",
    "#### Step 2: **Business Problem**\n",
    "The newly established movie studio, is keen to determine how to translate historical performance data into strategic decisions about film development, to produce content that is more likely to succeed commercially and meet audience demand. \n",
    "Despite being in a highly competitive industry, the movie studio lacks the data-driven insights needed to make informed decisions about which types of films to produce. Without understanding current trends in the movie market, including the genres, themes, budgets, cast, and production values that are most likely to succeed at the box office, the studio risks investing in film projects that may underperform or fail to attract audiences. The company is seeking to leverage data from multiple reputable sources (Box Office Mojo, IMDB, Rotten Tomatoes, The MovieDB, and The Numbers) to uncover actionable insights that will guide the creative, financial, and marketing decisions for the studio.\n",
    "\n",
    "#### Step 3: **Objectives**\n",
    "Our analysis will focus on the following objectives:\n",
    "\n",
    "1. **Identify Popular Genres**: Analyze which genres tend to have higher ratings and more viewer engagement.\n",
    "2. **Analyze Characteristics of High-Rated Movies**: Examine factors such as runtime, year of release, and genre combinations to see if they correlate with higher ratings.\n",
    "3. **Determine Key Contributors**: Identify directors, writers, and actors who have contributed to successful movies, as potential partners for the new studio.\n",
    "4. **Investigate Trends Over Time**: Look at how preferences in ratings, movie length, and genres have evolved over the years, highlighting trends that may be valuable for the new studio to consider.\n",
    "\n",
    "\n",
    "#### Step 4: **Data Understanding**\n",
    "\n",
    "\n",
    "**Key Questions for Data Understanding**:\n",
    "- What is the distribution of genres in the dataset?\n",
    "- Are there missing values in critical columns (e.g., ratings, genres, runtime)?\n",
    "- How are ratings distributed across movies?\n",
    "- What are the relationships between tables that can help us analyze contributor impact (e.g., directors, writers)?"
   ]
  },
  {
   "cell_type": "code",
   "execution_count": 1,
   "metadata": {},
   "outputs": [],
   "source": [
    "#install all libraries to be used\n",
    "import pandas as pd\n",
    "import numpy as np\n",
    "import seaborn as sns\n",
    "import scipy as sp\n",
    "import scipy.stats as st\n",
    "import sqlite3\n",
    "import zipfile\n",
    "import os\n",
    "import statsmodels.api as sm\n",
    "from statsmodels.stats.power import TTestIndPower, TTestPower\n",
    "import statsmodels.formula as smf\n",
    "import matplotlib.pyplot as plt\n",
    "%matplotlib inline\n",
    "import plotly.express as px\n",
    "# Ignore all warnings\n",
    "import warnings\n",
    "warnings.filterwarnings('ignore')"
   ]
  },
  {
   "cell_type": "code",
   "execution_count": null,
   "metadata": {},
   "outputs": [],
   "source": []
  }
 ],
 "metadata": {
  "kernelspec": {
   "display_name": "learn-env",
   "language": "python",
   "name": "python3"
  },
  "language_info": {
   "codemirror_mode": {
    "name": "ipython",
    "version": 3
   },
   "file_extension": ".py",
   "mimetype": "text/x-python",
   "name": "python",
   "nbconvert_exporter": "python",
   "pygments_lexer": "ipython3",
   "version": "3.8.5"
  }
 },
 "nbformat": 4,
 "nbformat_minor": 2
}
