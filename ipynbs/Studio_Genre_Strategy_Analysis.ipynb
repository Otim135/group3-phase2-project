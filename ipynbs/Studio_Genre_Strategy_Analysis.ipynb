{
 "cells": [
  {
   "cell_type": "markdown",
   "metadata": {},
   "source": [
    "# **Movies Analysis**"
   ]
  },
  {
   "cell_type": "markdown",
   "metadata": {},
   "source": [
    "#### Step 1: **Introduction**\n",
    "The primary aim of this project is to provide data-driven insights for a company looking to establish a new movie studio. With the entertainment industry evolving, the goal is to analyze existing film data to understand what types of movies perform best at the box office, helping the studio decide which genres, contributors, and themes to prioritize.\n",
    "\n",
    "\n",
    "#### Step 2: **Business Problem**\n",
    "The newly established movie studio, is keen to determine how to translate historical performance data into strategic decisions about film development, to produce content that is more likely to succeed commercially and meet audience demand. \n",
    "Despite being in a highly competitive industry, the movie studio lacks the data-driven insights needed to make informed decisions about which types of films to produce. Without understanding current trends in the movie market, including the genres, themes, budgets, cast, and production values that are most likely to succeed at the box office, the studio risks investing in film projects that may underperform or fail to attract audiences. The company is seeking to leverage data from multiple reputable sources (Box Office Mojo, IMDB, Rotten Tomatoes, The MovieDB, and The Numbers) to uncover actionable insights that will guide the creative, financial, and marketing decisions for the studio.\n",
    "\n",
    "#### Step 3: **Objectives**\n",
    "Our analysis will focus on the following objectives:\n",
    "\n",
    "1. **Identify Popular Genres**: Analyze which genres tend to have higher ratings and more viewer engagement.\n",
    "2. **Analyze Characteristics of High-Rated Movies**: Examine factors such as runtime, year of release, and genre combinations to see if they correlate with higher ratings.\n",
    "3. **Determine Key Contributors**: Identify directors, writers, and actors who have contributed to successful movies, as potential partners for the new studio.\n",
    "4. **Investigate Trends Over Time**: Look at how preferences in ratings, movie length, and genres have evolved over the years, highlighting trends that may be valuable for the new studio to consider.\n",
    "\n",
    "\n",
    "#### Step 4: **Data Understanding**\n",
    "\n",
    "\n",
    "**Key Questions for Data Understanding**:\n",
    "- What is the distribution of genres in the dataset?\n",
    "- Are there missing values in critical columns (e.g., ratings, genres, runtime)?\n",
    "- How are ratings distributed across movies?\n",
    "- What are the relationships between tables that can help us analyze contributor impact (e.g., directors, writers)?"
   ]
  },
  {
   "cell_type": "code",
   "execution_count": 6,
   "metadata": {},
   "outputs": [],
   "source": [
    "#install all libraries to be used\n",
    "import pandas as pd\n",
    "import numpy as np\n",
    "import seaborn as sns\n",
    "import scipy as sp\n",
    "import scipy.stats as st\n",
    "import sqlite3\n",
    "import zipfile\n",
    "import os\n",
    "import statsmodels.api as sm\n",
    "from statsmodels.stats.power import TTestIndPower, TTestPower\n",
    "import statsmodels.formula as smf\n",
    "import matplotlib.pyplot as plt\n",
    "%matplotlib inline\n",
    "import plotly.express as px\n",
    "# Ignore all warnings\n",
    "import warnings\n",
    "warnings.filterwarnings('ignore')"
   ]
  },
  {
   "cell_type": "code",
   "execution_count": 7,
   "metadata": {},
   "outputs": [],
   "source": [
    "# Define paths\n",
    "zip_file_path = \"C:\\Projects\\group3-phase2-project\\data\\im.db.zip\"  \n",
    "extracted_dir = \"C:\\Projects\\group3-phase2-project\\data\\extracted\"  "
   ]
  },
  {
   "cell_type": "code",
   "execution_count": 8,
   "metadata": {},
   "outputs": [],
   "source": [
    "# Step 1: Unzip the file\n",
    "with zipfile.ZipFile(zip_file_path, \"r\") as zip_ref:\n",
    "    zip_ref.extractall(extracted_dir)"
   ]
  },
  {
   "cell_type": "code",
   "execution_count": 9,
   "metadata": {},
   "outputs": [],
   "source": [
    "# Define the path to the extracted database file\n",
    "db_path = os.path.join(extracted_dir, \"im.db\")"
   ]
  },
  {
   "cell_type": "code",
   "execution_count": 10,
   "metadata": {},
   "outputs": [],
   "source": [
    "# Step 2: Check if the database file exists and connect to it\n",
    "if os.path.exists(db_path) and os.path.getsize(db_path) > 0:\n",
    "    # Connect to the SQLite database\n",
    "    conn = sqlite3.connect(db_path)"
   ]
  },
  {
   "cell_type": "code",
   "execution_count": 11,
   "metadata": {},
   "outputs": [
    {
     "name": "stdout",
     "output_type": "stream",
     "text": [
      "Database file exists and is not empty. Proceeding with connection.\n",
      "Tables found:             name\n",
      "0   movie_basics\n",
      "1      directors\n",
      "2      known_for\n",
      "3     movie_akas\n",
      "4  movie_ratings\n",
      "5        persons\n",
      "6     principals\n",
      "7        writers\n"
     ]
    }
   ],
   "source": [
    "# Step 3: Check if the database file exists and has a reasonable size\n",
    "if os.path.exists(db_path) and os.path.getsize(db_path) > 0:\n",
    "    print(\"Database file exists and is not empty. Proceeding with connection.\")\n",
    "    \n",
    "    # Connect to the SQLite database\n",
    "    conn = sqlite3.connect(db_path)\n",
    "    \n",
    "    # Step 3: Check tables in the database\n",
    "    tables = pd.read_sql_query(\"SELECT name FROM sqlite_master WHERE type='table';\", conn)\n",
    "    \n",
    "    if tables.empty:\n",
    "        print(\"No tables found in the database. The database might be empty or corrupted.\")\n",
    "    else:\n",
    "        print(\"Tables found:\", tables)\n",
    "else:\n",
    "    print(\"Database file is either missing or empty.\")"
   ]
  },
  {
   "cell_type": "code",
   "execution_count": 12,
   "metadata": {},
   "outputs": [],
   "source": [
    "# Step 4: Load tables into DataFrames for analysis\n",
    "movie_basics = pd.read_sql_query(\"SELECT * FROM movie_basics;\", conn)\n",
    "movie_ratings = pd.read_sql_query(\"SELECT * FROM movie_ratings;\", conn)\n",
    "principals = pd.read_sql_query(\"SELECT * FROM principals;\", conn)\n",
    "persons = pd.read_sql_query(\"SELECT * FROM persons;\", conn)\n",
    "known_for = pd.read_sql_query(\"SELECT * FROM known_for;\", conn)\n",
    "directors = pd.read_sql_query(\"SELECT * FROM directors;\", conn)\n",
    "writers = pd.read_sql_query(\"SELECT * FROM writers;\", conn)\n",
    "movie_akas = pd.read_sql_query(\"SELECT * FROM movie_akas;\", conn)"
   ]
  },
  {
   "cell_type": "code",
   "execution_count": 13,
   "metadata": {},
   "outputs": [
    {
     "name": "stdout",
     "output_type": "stream",
     "text": [
      "<class 'pandas.core.frame.DataFrame'>\n",
      "RangeIndex: 146144 entries, 0 to 146143\n",
      "Data columns (total 6 columns):\n",
      " #   Column           Non-Null Count   Dtype  \n",
      "---  ------           --------------   -----  \n",
      " 0   movie_id         146144 non-null  object \n",
      " 1   primary_title    146144 non-null  object \n",
      " 2   original_title   146123 non-null  object \n",
      " 3   start_year       146144 non-null  int64  \n",
      " 4   runtime_minutes  114405 non-null  float64\n",
      " 5   genres           140736 non-null  object \n",
      "dtypes: float64(1), int64(1), object(4)\n",
      "memory usage: 6.7+ MB\n",
      "<class 'pandas.core.frame.DataFrame'>\n",
      "RangeIndex: 73856 entries, 0 to 73855\n",
      "Data columns (total 3 columns):\n",
      " #   Column         Non-Null Count  Dtype  \n",
      "---  ------         --------------  -----  \n",
      " 0   movie_id       73856 non-null  object \n",
      " 1   averagerating  73856 non-null  float64\n",
      " 2   numvotes       73856 non-null  int64  \n",
      "dtypes: float64(1), int64(1), object(1)\n",
      "memory usage: 1.7+ MB\n",
      "<class 'pandas.core.frame.DataFrame'>\n",
      "RangeIndex: 1028186 entries, 0 to 1028185\n",
      "Data columns (total 6 columns):\n",
      " #   Column      Non-Null Count    Dtype \n",
      "---  ------      --------------    ----- \n",
      " 0   movie_id    1028186 non-null  object\n",
      " 1   ordering    1028186 non-null  int64 \n",
      " 2   person_id   1028186 non-null  object\n",
      " 3   category    1028186 non-null  object\n",
      " 4   job         177684 non-null   object\n",
      " 5   characters  393360 non-null   object\n",
      "dtypes: int64(1), object(5)\n",
      "memory usage: 47.1+ MB\n",
      "<class 'pandas.core.frame.DataFrame'>\n",
      "RangeIndex: 606648 entries, 0 to 606647\n",
      "Data columns (total 5 columns):\n",
      " #   Column              Non-Null Count   Dtype  \n",
      "---  ------              --------------   -----  \n",
      " 0   person_id           606648 non-null  object \n",
      " 1   primary_name        606648 non-null  object \n",
      " 2   birth_year          82736 non-null   float64\n",
      " 3   death_year          6783 non-null    float64\n",
      " 4   primary_profession  555308 non-null  object \n",
      "dtypes: float64(2), object(3)\n",
      "memory usage: 23.1+ MB\n",
      "<class 'pandas.core.frame.DataFrame'>\n",
      "RangeIndex: 1638260 entries, 0 to 1638259\n",
      "Data columns (total 2 columns):\n",
      " #   Column     Non-Null Count    Dtype \n",
      "---  ------     --------------    ----- \n",
      " 0   person_id  1638260 non-null  object\n",
      " 1   movie_id   1638260 non-null  object\n",
      "dtypes: object(2)\n",
      "memory usage: 25.0+ MB\n",
      "<class 'pandas.core.frame.DataFrame'>\n",
      "RangeIndex: 291174 entries, 0 to 291173\n",
      "Data columns (total 2 columns):\n",
      " #   Column     Non-Null Count   Dtype \n",
      "---  ------     --------------   ----- \n",
      " 0   movie_id   291174 non-null  object\n",
      " 1   person_id  291174 non-null  object\n",
      "dtypes: object(2)\n",
      "memory usage: 4.4+ MB\n",
      "<class 'pandas.core.frame.DataFrame'>\n",
      "RangeIndex: 255873 entries, 0 to 255872\n",
      "Data columns (total 2 columns):\n",
      " #   Column     Non-Null Count   Dtype \n",
      "---  ------     --------------   ----- \n",
      " 0   movie_id   255873 non-null  object\n",
      " 1   person_id  255873 non-null  object\n",
      "dtypes: object(2)\n",
      "memory usage: 3.9+ MB\n",
      "<class 'pandas.core.frame.DataFrame'>\n",
      "RangeIndex: 331703 entries, 0 to 331702\n",
      "Data columns (total 8 columns):\n",
      " #   Column             Non-Null Count   Dtype  \n",
      "---  ------             --------------   -----  \n",
      " 0   movie_id           331703 non-null  object \n",
      " 1   ordering           331703 non-null  int64  \n",
      " 2   title              331703 non-null  object \n",
      " 3   region             278410 non-null  object \n",
      " 4   language           41715 non-null   object \n",
      " 5   types              168447 non-null  object \n",
      " 6   attributes         14925 non-null   object \n",
      " 7   is_original_title  331678 non-null  float64\n",
      "dtypes: float64(1), int64(1), object(6)\n",
      "memory usage: 20.2+ MB\n"
     ]
    },
    {
     "data": {
      "text/plain": [
       "{'movie_basics': None,\n",
       " 'movie_ratings': None,\n",
       " 'principals': None,\n",
       " 'persons': None,\n",
       " 'known_for': None,\n",
       " 'directors': None,\n",
       " 'writers': None,\n",
       " 'movie_akas': None}"
      ]
     },
     "execution_count": 13,
     "metadata": {},
     "output_type": "execute_result"
    }
   ],
   "source": [
    "# Display brief info summary for each DataFrame\n",
    "dataframes_info = {\n",
    "        \"movie_basics\": movie_basics.info(),\n",
    "        \"movie_ratings\": movie_ratings.info(),\n",
    "        \"principals\": principals.info(),\n",
    "        \"persons\": persons.info(),\n",
    "        \"known_for\": known_for.info(),\n",
    "        \"directors\": directors.info(),\n",
    "        \"writers\": writers.info(),\n",
    "        \"movie_akas\": movie_akas.info()\n",
    "    }\n",
    "    \n",
    "dataframes_info  # This will display summaries for all loaded tables\n"
   ]
  },
  {
   "cell_type": "markdown",
   "metadata": {},
   "source": [
    "### Data Preparation"
   ]
  },
  {
   "cell_type": "code",
   "execution_count": 14,
   "metadata": {},
   "outputs": [],
   "source": [
    "# Inspect the movie_basics data and drop unnecessary columns\n",
    "movie_basics.columns\n",
    "movie_basics = pd.read_sql(\"\"\"SELECT movie_id, primary_title, start_year, runtime_minutes, genres FROM movie_basics;\"\"\", conn)\n",
    "\n",
    "# Inspect the directors data and drop unnecessary columns\n",
    "directors.columns\n",
    "directors = pd.read_sql(\"\"\"SELECT movie_id, person_id FROM directors\"\"\", conn)\n",
    "\n",
    "# Inspect the known_for data and drop unnecessary columns\n",
    "known_for.columns\n",
    "known_for = pd.read_sql(\"\"\"SELECT person_id, movie_id FROM known_for\"\"\", conn)\n",
    "\n",
    "# Inspect the movie_akas data and drop unnecessary columns\n",
    "movie_akas.columns\n",
    "movie_akas = pd.read_sql(\"\"\"SELECT movie_id, title, region, language FROM movie_akas\"\"\", conn)\n",
    "\n",
    "# Inspect the movie_ratings data and drop unnecessary columns\n",
    "movie_ratings.columns\n",
    "movie_ratings = pd.read_sql(\"\"\"SELECT movie_id, averagerating, numvotes  FROM movie_ratings\"\"\", conn)\n",
    "\n",
    "# Inspect the principals data and drop unnecessary columns\n",
    "principals.columns\n",
    "principals = pd.read_sql(\"\"\"SELECT movie_id, person_id, category FROM principals\"\"\", conn)\n",
    "\n",
    "# Inspect the persons data and drop unnecessary columns\n",
    "persons.columns\n",
    "persons = pd.read_sql(\"\"\"SELECT person_id, primary_name FROM persons\"\"\", conn)\n",
    "\n",
    "# Inspect the writers data and drop unnecessary columns\n",
    "writers.columns\n",
    "writers = pd.read_sql(\"\"\"SELECT movie_id, person_id FROM writers\"\"\", conn)"
   ]
  },
  {
   "cell_type": "code",
   "execution_count": 15,
   "metadata": {},
   "outputs": [],
   "source": [
    "# Identify unique movie_id and person_id values in the primary tables(movie_basics and persons) \n",
    "# Filter each table to only inlcude rows with valid movie_id and person_id \n",
    "# Create sets of unique movie and person IDs from primary tables\n",
    "valid_movie_ids = set(movie_basics['movie_id'])\n",
    "valid_person_ids = set(persons['person_id'])\n",
    "\n",
    "# Directors: filter on movie_id and person_id\n",
    "directors = directors[directors['movie_id'].isin(valid_movie_ids) & \n",
    "                      directors['person_id'].isin(valid_person_ids)]\n",
    "\n",
    "# Known_for: filter on movie_id and person_id\n",
    "known_for = known_for[known_for['movie_id'].isin(valid_movie_ids) & \n",
    "                      known_for['person_id'].isin(valid_person_ids)]\n",
    "\n",
    "# Movie_akas: filter on movie_id only\n",
    "movie_akas = movie_akas[movie_akas['movie_id'].isin(valid_movie_ids)]\n",
    "\n",
    "# Movie_ratings: filter on movie_id only\n",
    "movie_ratings = movie_ratings[movie_ratings['movie_id'].isin(valid_movie_ids)]\n",
    "\n",
    "# Principals: filter on movie_id and person_id\n",
    "principals = principals[principals['movie_id'].isin(valid_movie_ids) & \n",
    "                        principals['person_id'].isin(valid_person_ids)]\n",
    "\n",
    "# Writers: filter on movie_id and person_id\n",
    "writers = writers[writers['movie_id'].isin(valid_movie_ids) & \n",
    "                  writers['person_id'].isin(valid_person_ids)]\n"
   ]
  },
  {
   "cell_type": "code",
   "execution_count": 16,
   "metadata": {},
   "outputs": [],
   "source": [
    "# Check if all movie_id in foreign tables exist in movie_basics\n",
    "assert directors['movie_id'].isin(valid_movie_ids).all()\n",
    "assert known_for['movie_id'].isin(valid_movie_ids).all()\n",
    "assert movie_akas['movie_id'].isin(valid_movie_ids).all()\n",
    "assert movie_ratings['movie_id'].isin(valid_movie_ids).all()\n",
    "assert principals['movie_id'].isin(valid_movie_ids).all()\n",
    "assert writers['movie_id'].isin(valid_movie_ids).all()\n",
    "\n",
    "# Check if all person_id in foreign tables exist in persons\n",
    "assert directors['person_id'].isin(valid_person_ids).all()\n",
    "assert known_for['person_id'].isin(valid_person_ids).all()\n",
    "assert principals['person_id'].isin(valid_person_ids).all()\n",
    "assert writers['person_id'].isin(valid_person_ids).all()"
   ]
  },
  {
   "cell_type": "code",
   "execution_count": 17,
   "metadata": {},
   "outputs": [],
   "source": [
    "# Update cleaned Tables in SQLite\n",
    "movie_basics.to_sql(\"movie_basics_clean\", conn, if_exists=\"replace\", index=False)\n",
    "directors.to_sql(\"directors_clean\", conn, if_exists=\"replace\", index=False)\n",
    "known_for.to_sql(\"known_for_clean\", conn, if_exists=\"replace\", index=False)\n",
    "movie_akas.to_sql(\"movie_akas_clean\", conn, if_exists=\"replace\", index=False)\n",
    "movie_ratings.to_sql(\"movie_ratings_clean\", conn, if_exists=\"replace\", index=False)\n",
    "principals.to_sql(\"principals_clean\", conn, if_exists=\"replace\", index=False)\n",
    "persons.to_sql(\"persons_clean\", conn, if_exists=\"replace\", index=False)\n",
    "writers.to_sql(\"writers_clean\", conn, if_exists=\"replace\", index=False)"
   ]
  },
  {
   "cell_type": "code",
   "execution_count": 18,
   "metadata": {},
   "outputs": [],
   "source": [
    "# Retrieve cleaned tables \n",
    "movie_basics = pd.read_sql(\"SELECT * FROM movie_basics_clean\", conn)\n",
    "directors = pd.read_sql(\"SELECT * FROM directors_clean\", conn)\n",
    "known_for = pd.read_sql(\"SELECT * FROM known_for_clean\", conn)\n",
    "movie_akas = pd.read_sql(\"SELECT * FROM movie_akas_clean\", conn)\n",
    "movie_ratings = pd.read_sql(\"SELECT * FROM movie_ratings_clean\", conn)\n",
    "principals = pd.read_sql(\"SELECT * FROM principals_clean\", conn)\n",
    "persons = pd.read_sql(\"SELECT * FROM persons_clean\", conn)\n",
    "writers = pd.read_sql(\"SELECT * FROM writers_clean\", conn)"
   ]
  },
  {
   "cell_type": "code",
   "execution_count": 19,
   "metadata": {},
   "outputs": [
    {
     "name": "stdout",
     "output_type": "stream",
     "text": [
      "movie_basics shape: (146144, 5)\n",
      "directors shape: (291171, 2)\n",
      "movie_ratings shape: (73856, 3)\n",
      "known_for shape: (791006, 2)\n",
      "movie_akas shape: (331703, 4)\n",
      "persons shape: (606648, 2)\n",
      "principals shape: (1027912, 3)\n",
      "writers shape before dropping duplicates: (255871, 2)\n"
     ]
    }
   ],
   "source": [
    "# Check values before dropping duplicates\n",
    "print(f\"movie_basics shape: {movie_basics.shape}\")\n",
    "print(f\"directors shape: {directors.shape}\")\n",
    "print(f\"movie_ratings shape: {movie_ratings.shape}\")\n",
    "print(f\"known_for shape: {known_for.shape}\")\n",
    "print(f\"movie_akas shape: {movie_akas.shape}\")\n",
    "print(f\"persons shape: {persons.shape}\")\n",
    "print(f\"principals shape: {principals.shape}\")\n",
    "print(f\"writers shape before dropping duplicates: {writers.shape}\")\n"
   ]
  },
  {
   "cell_type": "code",
   "execution_count": 20,
   "metadata": {},
   "outputs": [
    {
     "name": "stdout",
     "output_type": "stream",
     "text": [
      "clean movie_basics shape: (146144, 5)\n",
      "clean directors shape: (109251, 2)\n",
      "clean movie_ratings shape: (73856, 3)\n",
      "clean known_for shape: (791006, 2)\n",
      "clean movie_akas shape: (122302, 4)\n",
      "clean persons shape: (606648, 2)\n",
      "clean principals shape: (1027874, 3)\n",
      "clean writers shape: (178350, 2)\n"
     ]
    }
   ],
   "source": [
    "# Drop duplicates\n",
    "def drop_duplicates(df, subset=None, keep='first', inplace=True):\n",
    "    # Drop duplicates based on the subset of columns\n",
    "    if subset:\n",
    "        df.drop_duplicates(subset=subset, keep=keep, inplace=inplace)\n",
    "    else:\n",
    "        df.drop_duplicates(keep=keep, inplace=inplace)\n",
    "\n",
    "    return df\n",
    "\n",
    "#Apply the function with appropriate subset of columns for each DataFrame\n",
    "drop_duplicates(movie_basics, subset=['movie_id'], keep='first')\n",
    "drop_duplicates(directors, subset=['person_id'], keep='first')\n",
    "drop_duplicates(movie_ratings, subset=['movie_id'], keep='first')\n",
    "drop_duplicates(known_for, subset=['movie_id', 'person_id'], keep='first')\n",
    "drop_duplicates(movie_akas, subset=['movie_id'], keep='first') \n",
    "drop_duplicates(persons, subset=['person_id'], keep='first')\n",
    "drop_duplicates(principals, subset=['movie_id', 'person_id'], keep='first')\n",
    "drop_duplicates(writers, subset=['person_id', 'movie_id'], keep='first')\n",
    "\n",
    "# Verify the results after dropping duplicates\n",
    "print(f\"clean movie_basics shape: {movie_basics.shape}\")\n",
    "print(f\"clean directors shape: {directors.shape}\")\n",
    "print(f\"clean movie_ratings shape: {movie_ratings.shape}\")\n",
    "print(f\"clean known_for shape: {known_for.shape}\")\n",
    "print(f\"clean movie_akas shape: {movie_akas.shape}\")\n",
    "print(f\"clean persons shape: {persons.shape}\")\n",
    "print(f\"clean principals shape: {principals.shape}\")\n",
    "print(f\"clean writers shape: {writers.shape}\")"
   ]
  },
  {
   "cell_type": "code",
   "execution_count": 21,
   "metadata": {},
   "outputs": [
    {
     "name": "stdout",
     "output_type": "stream",
     "text": [
      "movie_id               0\n",
      "primary_title          0\n",
      "start_year             0\n",
      "runtime_minutes    31739\n",
      "genres              5408\n",
      "dtype: int64\n",
      "movie_id     0\n",
      "person_id    0\n",
      "dtype: int64\n",
      "movie_id         0\n",
      "averagerating    0\n",
      "numvotes         0\n",
      "dtype: int64\n",
      "person_id    0\n",
      "movie_id     0\n",
      "dtype: int64\n",
      "movie_id         0\n",
      "title            0\n",
      "region       14813\n",
      "language    115132\n",
      "dtype: int64\n",
      "movie_id         0\n",
      "averagerating    0\n",
      "numvotes         0\n",
      "dtype: int64\n",
      "person_id       0\n",
      "primary_name    0\n",
      "dtype: int64\n",
      "movie_id     0\n",
      "person_id    0\n",
      "category     0\n",
      "dtype: int64\n",
      "movie_id     0\n",
      "person_id    0\n",
      "dtype: int64\n"
     ]
    }
   ],
   "source": [
    "# Identify missing values\n",
    "print(movie_basics.isnull().sum())\n",
    "print(directors.isnull().sum())\n",
    "print(movie_ratings.isnull().sum())\n",
    "print(known_for.isnull().sum())\n",
    "print(movie_akas.isnull().sum())\n",
    "print(movie_ratings.isnull().sum())\n",
    "print(persons.isnull().sum())\n",
    "print(principals.isnull().sum())\n",
    "print(writers.isnull().sum())"
   ]
  },
  {
   "cell_type": "code",
   "execution_count": 22,
   "metadata": {},
   "outputs": [],
   "source": [
    "# Drop null values in the tables\n",
    "movie_basics.dropna(subset=['genres'], inplace=True)\n",
    "\n",
    "# Save the cleaned data back to SQLite\n",
    "movie_basics.to_sql(\"movie_basics\", conn, if_exists=\"replace\", index=False)\n"
   ]
  },
  {
   "cell_type": "markdown",
   "metadata": {},
   "source": [
    "### Feature Engineering\n",
    "\n",
    "The primary focus is on analyzing genres. To perform genre-specific analysis, it’s beneficial to split these genres into individual entries. This way, each genre can be treated independently, allowing us to analyze trends, popularity, and ratings by genre.\n",
    "\n",
    "#### Objectives\n",
    "1. **Split `genres`**: Separate the `genres` column into individual genre entries. This will create multiple rows for movies that belong to more than one genre.\n",
    "2. **Merge with `movie_ratings`**: Later, we’ll merge this split dataset with `movie_ratings` to analyze ratings for each genre."
   ]
  },
  {
   "cell_type": "code",
   "execution_count": 23,
   "metadata": {},
   "outputs": [
    {
     "data": {
      "text/html": [
       "<div>\n",
       "<style scoped>\n",
       "    .dataframe tbody tr th:only-of-type {\n",
       "        vertical-align: middle;\n",
       "    }\n",
       "\n",
       "    .dataframe tbody tr th {\n",
       "        vertical-align: top;\n",
       "    }\n",
       "\n",
       "    .dataframe thead th {\n",
       "        text-align: right;\n",
       "    }\n",
       "</style>\n",
       "<table border=\"1\" class=\"dataframe\">\n",
       "  <thead>\n",
       "    <tr style=\"text-align: right;\">\n",
       "      <th></th>\n",
       "      <th>movie_id</th>\n",
       "      <th>primary_title</th>\n",
       "      <th>start_year</th>\n",
       "      <th>runtime_minutes</th>\n",
       "      <th>genres</th>\n",
       "    </tr>\n",
       "  </thead>\n",
       "  <tbody>\n",
       "    <tr>\n",
       "      <th>0</th>\n",
       "      <td>tt0063540</td>\n",
       "      <td>Sunghursh</td>\n",
       "      <td>2013</td>\n",
       "      <td>175.0</td>\n",
       "      <td>Action</td>\n",
       "    </tr>\n",
       "    <tr>\n",
       "      <th>1</th>\n",
       "      <td>tt0066787</td>\n",
       "      <td>One Day Before the Rainy Season</td>\n",
       "      <td>2019</td>\n",
       "      <td>114.0</td>\n",
       "      <td>Biography</td>\n",
       "    </tr>\n",
       "    <tr>\n",
       "      <th>2</th>\n",
       "      <td>tt0069049</td>\n",
       "      <td>The Other Side of the Wind</td>\n",
       "      <td>2018</td>\n",
       "      <td>122.0</td>\n",
       "      <td>Drama</td>\n",
       "    </tr>\n",
       "    <tr>\n",
       "      <th>3</th>\n",
       "      <td>tt0069204</td>\n",
       "      <td>Sabse Bada Sukh</td>\n",
       "      <td>2018</td>\n",
       "      <td>NaN</td>\n",
       "      <td>Comedy</td>\n",
       "    </tr>\n",
       "    <tr>\n",
       "      <th>4</th>\n",
       "      <td>tt0100275</td>\n",
       "      <td>The Wandering Soap Opera</td>\n",
       "      <td>2017</td>\n",
       "      <td>80.0</td>\n",
       "      <td>Comedy</td>\n",
       "    </tr>\n",
       "  </tbody>\n",
       "</table>\n",
       "</div>"
      ],
      "text/plain": [
       "    movie_id                    primary_title  start_year  runtime_minutes  \\\n",
       "0  tt0063540                        Sunghursh        2013            175.0   \n",
       "1  tt0066787  One Day Before the Rainy Season        2019            114.0   \n",
       "2  tt0069049       The Other Side of the Wind        2018            122.0   \n",
       "3  tt0069204                  Sabse Bada Sukh        2018              NaN   \n",
       "4  tt0100275         The Wandering Soap Opera        2017             80.0   \n",
       "\n",
       "      genres  \n",
       "0     Action  \n",
       "1  Biography  \n",
       "2      Drama  \n",
       "3     Comedy  \n",
       "4     Comedy  "
      ]
     },
     "execution_count": 23,
     "metadata": {},
     "output_type": "execute_result"
    }
   ],
   "source": [
    "# split the genres column and keep first occurence as primary_genre\n",
    "movie_basics['genres'] = movie_basics.genres.str.split(',').str[0]\n",
    "movie_basics.head()"
   ]
  },
  {
   "cell_type": "code",
   "execution_count": 24,
   "metadata": {},
   "outputs": [],
   "source": [
    "# Save the cleaned data back to SQLite\n",
    "movie_basics.to_sql(\"movie_basics\", conn, if_exists=\"replace\", index=False)"
   ]
  },
  {
   "cell_type": "markdown",
   "metadata": {},
   "source": [
    "### Merge `movie_basics` with `movie_ratings`\n",
    "\n",
    "Now, we're merging `movie_basics` with the `movie_ratings` DataFrame. This will allow us to associate each genre with its corresponding movie ratings, enabling us to analyze popularity and high-rated genres.\n",
    "\n",
    "#### Objectives\n",
    "1. **Merge DataFrames**: Merge `movie_basics` with `movie_ratings` on `movie_id` to create a comprehensive dataset for genre-based rating analysis.\n",
    "2. **Check Merge Results**: Verify the merged DataFrame to ensure it includes `averagerating` and `numvotes` alongside the genres."
   ]
  },
  {
   "cell_type": "code",
   "execution_count": 25,
   "metadata": {},
   "outputs": [
    {
     "name": "stdout",
     "output_type": "stream",
     "text": [
      "Sample of merged movie_data:\n",
      "     movie_id                    primary_title     genres  averagerating  \\\n",
      "0  tt0063540                        Sunghursh     Action            7.0   \n",
      "1  tt0066787  One Day Before the Rainy Season  Biography            7.2   \n",
      "2  tt0069049       The Other Side of the Wind      Drama            6.9   \n",
      "3  tt0069204                  Sabse Bada Sukh     Comedy            6.1   \n",
      "4  tt0100275         The Wandering Soap Opera     Comedy            6.5   \n",
      "\n",
      "   numvotes  \n",
      "0      77.0  \n",
      "1      43.0  \n",
      "2    4517.0  \n",
      "3      13.0  \n",
      "4     119.0  \n"
     ]
    }
   ],
   "source": [
    "# Merge movie_basics with movie_ratings on movie_id\n",
    "movie_data = movie_basics.merge(movie_ratings, on=\"movie_id\", how=\"left\")\n",
    "\n",
    "# Display a sample of the merged DataFrame to verify\n",
    "print(\"Sample of merged movie_data:\\n\", movie_data[['movie_id', 'primary_title', 'genres', 'averagerating', 'numvotes']].head())"
   ]
  },
  {
   "cell_type": "markdown",
   "metadata": {},
   "source": [
    "### 4: Exploratory Data Analysis (EDA)\n",
    "\n",
    "With `movie_data` prepared, let’s dive into EDA to address our objectives:\n",
    "\n",
    "1. **Identify trends in genres, styles, and themes**: We’ll explore genre distributions, trends over time, and average ratings per genre.\n",
    "2. **Identify popular and high-rated genres**: We’ll calculate the average rating per genre and explore the frequency of high-rated movies (e.g., movies with ratings above a threshold) within each genre.\n",
    "\n",
    "#### EDA Outline\n",
    "\n",
    "- **Univariate Analysis**: Look at the distribution of genres and ratings.\n",
    "- **Bivariate Analysis**: Analyze average ratings by genre to identify popular genres.\n",
    "- **Multivariate Analysis**: Analyze how genre ratings have changed over time, which will show genre popularity trends.\n",
    "\n",
    "\n",
    "\n",
    "####  Univariate Analysis\n",
    "\n",
    "**Objective**: Understand the distribution of genres and average ratings."
   ]
  },
  {
   "cell_type": "code",
   "execution_count": 26,
   "metadata": {},
   "outputs": [
    {
     "data": {
      "image/png": "[encoded data removed]",
      "text/plain": [
       "<Figure size 720x432 with 1 Axes>"
      ]
     },
     "metadata": {
      "needs_background": "light"
     },
     "output_type": "display_data"
    },
    {
     "data": {
      "image/png": "[encoded data removed]",
      "text/plain": [
       "<Figure size 720x432 with 1 Axes>"
      ]
     },
     "metadata": {
      "needs_background": "light"
     },
     "output_type": "display_data"
    }
   ],
   "source": [
    "# Plot the genre distribution\n",
    "plt.figure(figsize=(10, 6))\n",
    "sns.countplot(data=movie_data, y='genres', order=movie_data['genres'].value_counts().index)\n",
    "plt.title(\"Distribution of Genres\")\n",
    "plt.xlabel(\"Count\")\n",
    "plt.ylabel(\"Genre\")\n",
    "plt.show()\n",
    "\n",
    "# Plot the distribution of average ratings\n",
    "plt.figure(figsize=(10, 6))\n",
    "sns.histplot(movie_data['averagerating'], bins=20, kde=True)\n",
    "plt.title(\"Distribution of Average Ratings\")\n",
    "plt.xlabel(\"Average Rating\")\n",
    "plt.ylabel(\"Frequency\")\n",
    "plt.show()"
   ]
  },
  {
   "cell_type": "code",
   "execution_count": 27,
   "metadata": {},
   "outputs": [
    {
     "data": {
      "image/png": "[encoded data removed]",
      "text/plain": [
       "<Figure size 720x432 with 1 Axes>"
      ]
     },
     "metadata": {
      "needs_background": "light"
     },
     "output_type": "display_data"
    }
   ],
   "source": [
    "# Top 15 genres by movie_count\n",
    "top_15_genres = \"\"\" SELECT genres, COUNT(DISTINCT movie_id) AS genre_count\n",
    "FROM movie_basics\n",
    "GROUP BY genres\n",
    "ORDER BY genre_count DESC\n",
    "LIMIT 15;\"\"\"\n",
    "top_15_genres = pd.read_sql(top_15_genres, conn)\n",
    "top_15_genres\n",
    "\n",
    "# Plot barplot of the genre count\n",
    "plt.figure(figsize=(10,6))\n",
    "ax= sns.barplot(y='genre_count', x='genres', data=top_15_genres, palette='Set2')\n",
    "        \n",
    "plt.title('Top 15 Genres by Movie Count')\n",
    "plt.xlabel('Genres')\n",
    "plt.ylabel('Number of Movies')\n",
    "plt.xticks(rotation=90)\n",
    "\n",
    "plt.tight_layout()\n",
    "plt.show()"
   ]
  },
  {
   "cell_type": "code",
   "execution_count": 28,
   "metadata": {},
   "outputs": [
    {
     "data": {
      "image/png": "[encoded data removed]",
      "text/plain": [
       "<Figure size 720x432 with 1 Axes>"
      ]
     },
     "metadata": {
      "needs_background": "light"
     },
     "output_type": "display_data"
    }
   ],
   "source": [
    "# Filter for high-rated movies\n",
    "high_rated_movies = movie_data[movie_data['averagerating'] >= 8.0]\n",
    "\n",
    "# Count the number of high-rated movies per genre\n",
    "high_rated_genre_counts = high_rated_movies['genres'].value_counts()\n",
    "\n",
    "# Plot high-rated movie count per genre\n",
    "plt.figure(figsize=(10, 6))\n",
    "high_rated_genre_counts.plot(kind='bar', color='lightgreen')\n",
    "plt.title(\"High-Rated Movie Count by Genre (Rating >= 8.0)\")\n",
    "plt.xlabel(\"Genre\")\n",
    "plt.ylabel(\"Count of High-Rated Movies\")\n",
    "plt.show()\n"
   ]
  },
  {
   "cell_type": "markdown",
   "metadata": {},
   "source": [
    "#### Bivariate Analysis\n",
    "\n",
    "**Objective**: \n",
    "\n",
    "  * Identify popular genres based on average ratings.\n",
    "  * Analyze trends in movie runtimes over the years\n",
    "  * Determine the average ratings for the top 10 most-rated genres to identify popular genres with high audience engagement"
   ]
  },
  {
   "cell_type": "code",
   "execution_count": 29,
   "metadata": {},
   "outputs": [
    {
     "data": {
      "image/png": "[encoded data removed]",
      "text/plain": [
       "<Figure size 720x432 with 1 Axes>"
      ]
     },
     "metadata": {
      "needs_background": "light"
     },
     "output_type": "display_data"
    }
   ],
   "source": [
    "\n",
    "# Calculate the average rating by genre\n",
    "average_rating_by_genre = movie_data.groupby('genres')['averagerating'].mean().sort_values(ascending=False)\n",
    "\n",
    "# Plot average rating by genre\n",
    "plt.figure(figsize=(10, 6))\n",
    "average_rating_by_genre.plot(kind='bar', color='skyblue')\n",
    "plt.title(\"Average Rating by Genre\")\n",
    "plt.xlabel(\"Genre\")\n",
    "plt.ylabel(\"Average Rating\")\n",
    "plt.show()\n"
   ]
  },
  {
   "cell_type": "code",
   "execution_count": 30,
   "metadata": {},
   "outputs": [
    {
     "data": {
      "image/png": "[encoded data removed]",
      "text/plain": [
       "<Figure size 720x432 with 1 Axes>"
      ]
     },
     "metadata": {
      "needs_background": "light"
     },
     "output_type": "display_data"
    }
   ],
   "source": [
    "# Visualize how movie runtimes change over the years and filter out the outliers based on IQR method\n",
    "# Calculate the IQR to remove outliers\n",
    "Q1 = movie_basics['runtime_minutes'].quantile(0.25)\n",
    "Q3 = movie_basics['runtime_minutes'].quantile(0.75)\n",
    "IQR = Q3 - Q1\n",
    "\n",
    "# Calculate the lower and upper bounds for outliers\n",
    "lower_val = Q1 - 1.5 * IQR\n",
    "upper_val = Q3 + 1.5 * IQR\n",
    "\n",
    "# Filter the dataset to exclude outliers based on runtime_minutes\n",
    "filtered_movie_basics = movie_basics[(movie_basics['runtime_minutes'] >= lower_val) & \n",
    "                                     (movie_basics['runtime_minutes'] <= upper_val)]\n",
    "\n",
    "# Aggregate data by release year and calculate the mean runtime for each year\n",
    "average_runtime_by_year = filtered_movie_basics.groupby('start_year')['runtime_minutes'].mean().reset_index()\n",
    "\n",
    "# Plot the data without outliers (line plot)\n",
    "plt.figure(figsize=(10, 6))\n",
    "sns.lineplot(x='start_year', y='runtime_minutes', data=average_runtime_by_year, marker='o', color='b')\n",
    "\n",
    "# Adding titles and labels\n",
    "plt.title('Average Movie Runtime Over the Years (Without Outliers)', fontsize=16)\n",
    "plt.xlabel('Start Year', fontsize=14)\n",
    "plt.ylabel('Average Runtime (minutes)', fontsize=14)\n",
    "\n",
    "# Display the plot\n",
    "plt.xticks(rotation=45)  # Rotate x-axis labels for better readability\n",
    "plt.show()"
   ]
  },
  {
   "cell_type": "code",
   "execution_count": 31,
   "metadata": {},
   "outputs": [
    {
     "data": {
      "image/png": "[encoded data removed]",
      "text/plain": [
       "<Figure size 720x432 with 1 Axes>"
      ]
     },
     "metadata": {
      "needs_background": "light"
     },
     "output_type": "display_data"
    }
   ],
   "source": [
    "# Calculate the average number of votes per genre\n",
    "average_votes_by_genre = movie_data.groupby('genres')['numvotes'].mean().sort_values(ascending=False)\n",
    "\n",
    "# Plot average number of votes by genre\n",
    "plt.figure(figsize=(10, 6))\n",
    "average_votes_by_genre.plot(kind='bar', color='salmon')\n",
    "plt.title(\"Average Number of Votes by Genre\")\n",
    "plt.xlabel(\"Genre\")\n",
    "plt.ylabel(\"Average Vote Count\")\n",
    "plt.show()\n"
   ]
  },
  {
   "cell_type": "code",
   "execution_count": 38,
   "metadata": {},
   "outputs": [
    {
     "ename": "SyntaxError",
     "evalue": "unexpected EOF while parsing (<ipython-input-38-4d0a0b9ebeb0>, line 46)",
     "output_type": "error",
     "traceback": [
      "\u001b[1;36m  File \u001b[1;32m\"<ipython-input-38-4d0a0b9ebeb0>\"\u001b[1;36m, line \u001b[1;32m46\u001b[0m\n\u001b[1;33m    \u001b[0m\n\u001b[1;37m    ^\u001b[0m\n\u001b[1;31mSyntaxError\u001b[0m\u001b[1;31m:\u001b[0m unexpected EOF while parsing\n"
     ]
    }
   ],
   "source": [
    "import seaborn as sns\n",
    "import matplotlib.pyplot as plt\n",
    "\n",
    "# Query to calculate average ratings for the top 10 genres with the highest number of rated movies\n",
    "top_rated_genres_query = \"\"\"\n",
    "SELECT mb.genres, COUNT(DISTINCT mb.movie_id) AS num_movies_rated, AVG(mr.averagerating) AS avg_rating\n",
    "FROM movie_basics mb\n",
    "INNER JOIN movie_ratings mr ON mb.movie_id = mr.movie_id \n",
    "GROUP BY mb.genres\n",
    "ORDER BY num_movies_rated DESC\n",
    "LIMIT 10;\n",
    "\"\"\"\n",
    "\n",
    "# Execute the query and load the result into a DataFrame\n",
    "top_10_genres = pd.read_sql(top_rated_genres_query, conn)\n",
    "\n",
    "# Sort the DataFrame by average rating in descending order\n",
    "top_10_genres = top_10_genres.sort_values(by='avg_rating', ascending=False)\n",
    "\n",
    "# Plot using Seaborn\n",
    "plt.figure(figsize=(10, 6))\n",
    "sns.barplot(\n",
    "    data=top_10_genres,\n",
    "    x='avg_rating',\n",
    "    y='genres',\n",
    "    palette='viridis'\n",
    ")\n",
    "\n",
    "# Customize the plot\n",
    "plt.title(\"Top 10 Genres with the Highest Number of Rated Movies (Average Rating)\", fontsize=14)\n",
    "plt.xlabel(\"Average Rating\", fontsize=12)\n",
    "plt.ylabel(\"Genre\", fontsize=12)\n",
    "plt.xticks(fontsize=10)\n",
    "plt.yticks(fontsize=10)\n",
    "\n",
    "# Annotate bars with the number of movies rated, consistently aligned on the left\n",
    "for index, row in top_10_genres.iterrows():\n",
    "    plt.text(\n",
    "        0.1,  # Fixed x position (adjust as needed for padding)\n",
    "        index,  # y position corresponding to the genre\n",
    "        f\"{row['num_movies_rated']:,} movies\",  # format with commas\n",
    "        va='center',  # center vertically\n",
    "        ha='left',    # align text to the left\n",
    "        fontsize=10,\n",
    "        color='black'  # use black for better contrast\n",
    "    \n"
   ]
  },
  {
   "cell_type": "code",
   "execution_count": 39,
   "metadata": {},
   "outputs": [
    {
     "data": {
      "image/png": "[encoded data removed]",
      "text/plain": [
       "<Figure size 720x432 with 1 Axes>"
      ]
     },
     "metadata": {
      "needs_background": "light"
     },
     "output_type": "display_data"
    }
   ],
   "source": [
    "import seaborn as sns\n",
    "import matplotlib.pyplot as plt\n",
    "\n",
    "# Query to calculate average ratings for the top 10 genres with the highest number of rated movies\n",
    "top_rated_genres_query = \"\"\"\n",
    "SELECT mb.genres, COUNT(DISTINCT mb.movie_id) AS num_movies_rated, AVG(mr.averagerating) AS avg_rating\n",
    "FROM movie_basics mb\n",
    "INNER JOIN movie_ratings mr ON mb.movie_id = mr.movie_id \n",
    "GROUP BY mb.genres\n",
    "ORDER BY num_movies_rated DESC\n",
    "LIMIT 10;\n",
    "\"\"\"\n",
    "\n",
    "# Execute the query and load the result into a DataFrame\n",
    "top_10_genres = pd.read_sql(top_rated_genres_query, conn)\n",
    "\n",
    "# Sort by num_movies_rated in descending order\n",
    "top_10_genres = top_10_genres.sort_values(by='num_movies_rated', ascending=False)\n",
    "\n",
    "# Plot using Seaborn\n",
    "plt.figure(figsize=(10, 6))\n",
    "sns.barplot(\n",
    "    data=top_10_genres,\n",
    "    x='avg_rating',\n",
    "    y='genres',\n",
    "    palette='viridis'\n",
    ")\n",
    "\n",
    "# Customize the plot\n",
    "plt.title(\"Top 10 Genres with the Highest Number of Rated Movies (Average Rating)\", fontsize=14)\n",
    "plt.xlabel(\"Average Rating\", fontsize=12)\n",
    "plt.ylabel(\"Genre\", fontsize=12)\n",
    "plt.xticks(fontsize=10)\n",
    "plt.yticks(fontsize=10)\n",
    "\n",
    "# Annotate bars with the number of movies rated, keeping the annotations consistent\n",
    "for index, row in top_10_genres.iterrows():\n",
    "    plt.text(\n",
    "        row['avg_rating'],  # x position at the end of the bar\n",
    "        index,  # y position corresponding to the genre\n",
    "        f\"{row['num_movies_rated']:,} movies\",  # format with commas\n",
    "        va='center',  # center vertically\n",
    "        ha='left',    # align text to the left of the bar end\n",
    "        fontsize=10,\n",
    "        color='black'  # use black for better contrast\n",
    "    )\n",
    "\n",
    "# Show the plot\n",
    "plt.tight_layout()\n",
    "plt.show()\n",
    "\n"
   ]
  },
  {
   "cell_type": "markdown",
   "metadata": {},
   "source": [
    "#### Multivariate Analysis\n",
    "\n",
    "**Objective**: \n",
    "\n",
    "  * Analyze how genre popularity has evolved over time by calculating the average rating per genre per year.\n",
    "  * Identify the relationship between runtime_minutes, average rating and genres"
   ]
  },
  {
   "cell_type": "code",
   "execution_count": 33,
   "metadata": {},
   "outputs": [
    {
     "data": {
      "image/png": "[encoded data removed]",
      "text/plain": [
       "<Figure size 864x576 with 1 Axes>"
      ]
     },
     "metadata": {
      "needs_background": "light"
     },
     "output_type": "display_data"
    }
   ],
   "source": [
    "# Calculate the average rating by genre and year\n",
    "genre_yearly_ratings = movie_data.groupby(['start_year', 'genres'])['averagerating'].mean().unstack()\n",
    "\n",
    "# Select a few popular genres to plot over time\n",
    "selected_genres = ['Drama', 'Comedy', 'Action', 'Documentary', 'Horror',]  # Adjust based on genre distribution\n",
    "genre_yearly_ratings[selected_genres].plot(figsize=(12, 8))\n",
    "plt.title(\"Average Rating Trends by Genre Over Time\")\n",
    "plt.xlabel(\"Year\")\n",
    "plt.ylabel(\"Average Rating\")\n",
    "plt.legend(title=\"Genre\")\n",
    "plt.show()"
   ]
  },
  {
   "cell_type": "code",
   "execution_count": 34,
   "metadata": {},
   "outputs": [
    {
     "data": {
      "image/png": "[encoded data removed]",
      "text/plain": [
       "<Figure size 720x432 with 2 Axes>"
      ]
     },
     "metadata": {
      "needs_background": "light"
     },
     "output_type": "display_data"
    }
   ],
   "source": [
    "# Visualize the top 10 genres and the relationship between runtime_minutes, avg_rating and genre, while excluding outliers\n",
    "# Identify the top 10 genres by the number of movies or average rating\n",
    "# First, count the number of movies per genre\n",
    "genre_counts = movie_basics['genres'].value_counts().head(5).index\n",
    "\n",
    "# Filter the movie_basics and movie_ratings datasets to only include these top 10 genres\n",
    "top_10_genres_data = movie_basics[movie_basics['genres'].isin(genre_counts)]\n",
    "\n",
    "# Filter the movie_ratings to include only movies in top 10 genres\n",
    "top_10_ratings_data = movie_ratings[movie_ratings['movie_id'].isin(top_10_genres_data['movie_id'])]\n",
    "\n",
    "# Calculate the IQR to remove outliers from both runtime_minutes and avg_rating\n",
    "# For runtime_minutes:\n",
    "Q1_runtime = top_10_genres_data['runtime_minutes'].quantile(0.25)\n",
    "Q3_runtime = top_10_genres_data['runtime_minutes'].quantile(0.75)\n",
    "IQR_runtime = Q3_runtime - Q1_runtime\n",
    "lower_val_runtime = Q1_runtime - 1.5 * IQR_runtime\n",
    "upper_val_runtime = Q3_runtime + 1.5 * IQR_runtime\n",
    "\n",
    "# For avg_rating:\n",
    "Q1_rating = top_10_ratings_data['averagerating'].quantile(0.25)\n",
    "Q3_rating = top_10_ratings_data['averagerating'].quantile(0.75)\n",
    "IQR_rating = Q3_rating - Q1_rating\n",
    "lower_val_rating = Q1_rating - 1.5 * IQR_rating\n",
    "upper_val_rating = Q3_rating + 1.5 * IQR_rating\n",
    "\n",
    "# Filter out outliers based on IQR method for runtime_minutes and avg_rating\n",
    "filtered_top_10_runtime_data = top_10_genres_data[(top_10_genres_data['runtime_minutes'] >= lower_val_runtime) & \n",
    "                                                  (top_10_genres_data['runtime_minutes'] <= upper_val_runtime)]\n",
    "\n",
    "filtered_top_10_rating_data = top_10_ratings_data[(top_10_ratings_data['averagerating'] >= lower_val_rating) & \n",
    "                                                  (top_10_ratings_data['averagerating'] <= upper_val_rating)]\n",
    "\n",
    "# Merge the two dataframes on 'movie_id' to get both runtime_minutes and averagerating in one dataframe\n",
    "merged_filtered_data = pd.merge(filtered_top_10_runtime_data[['movie_id', 'runtime_minutes', 'genres']], \n",
    "                                filtered_top_10_rating_data[['movie_id', 'averagerating']], \n",
    "                                on='movie_id')\n",
    "\n",
    "#Plot the relationship between runtime_minutes and avg_rating by genre using boxplots\n",
    "plt.figure(figsize=(10, 6))\n",
    "\n",
    "# Boxplot for runtime_minutes by genre\n",
    "plt.subplot(1, 2, 1)\n",
    "sns.boxplot(x='genres', y='runtime_minutes', data=merged_filtered_data, palette='Set2')\n",
    "plt.xticks(rotation=45)  # Rotate genre names for readability\n",
    "plt.title('Movie Runtime by Genre (Without Outliers)')\n",
    "\n",
    "# Boxplot for averagerating by genre\n",
    "plt.subplot(1, 2, 2)\n",
    "sns.boxplot(x='genres', y='averagerating', data=merged_filtered_data, palette='Set2')\n",
    "plt.xticks(rotation=45)  # Rotate genre names for readability\n",
    "plt.title('Average Rating by Genre (Without Outliers)')\n",
    "\n",
    "# Adjust layout\n",
    "plt.tight_layout()\n",
    "plt.show()"
   ]
  },
  {
   "cell_type": "code",
   "execution_count": null,
   "metadata": {},
   "outputs": [
    {
     "data": {
      "application/vnd.plotly.v1+json": {
       "config": {
        "plotlyServerURL": "https://plot.ly"
       },
       "data": [
        {
         "branchvalues": "total",
         "domain": {
          "x": [
           0,
           1
          ],
          "y": [
           0,
           1
          ]
         },
         "hovertemplate": "labels=%{label}<br>best_rated_genre=%{value}<br>parent=%{parent}<br>id=%{id}<extra></extra>",
         "ids": [
          "Action",
          "Adventure",
          "Animation",
          "Biography",
          "Comedy",
          "Crime",
          "Documentary",
          "Drama",
          "Horror",
          "Thriller"
         ],
         "labels": [
          "Action",
          "Adventure",
          "Animation",
          "Biography",
          "Comedy",
          "Crime",
          "Documentary",
          "Drama",
          "Horror",
          "Thriller"
         ],
         "name": "",
         "parents": [
          "",
          "",
          "",
          "",
          "",
          "",
          "",
          "",
          "",
          ""
         ],
         "type": "treemap",
         "values": [
          3322,
          1627,
          589,
          3009,
          7483,
          1420,
          12497,
          12023,
          946,
          662
         ]
        }
       ],
       "layout": {
        "legend": {
         "tracegroupgap": 0
        },
        "template": {
         "data": {
          "bar": [
           {
            "error_x": {
             "color": "#2a3f5f"
            },
            "error_y": {
             "color": "#2a3f5f"
            },
            "marker": {
             "line": {
              "color": "#E5ECF6",
              "width": 0.5
             }
            },
            "type": "bar"
           }
          ],
          "barpolar": [
           {
            "marker": {
             "line": {
              "color": "#E5ECF6",
              "width": 0.5
             }
            },
            "type": "barpolar"
           }
          ],
          "carpet": [
           {
            "aaxis": {
             "endlinecolor": "#2a3f5f",
             "gridcolor": "white",
             "linecolor": "white",
             "minorgridcolor": "white",
             "startlinecolor": "#2a3f5f"
            },
            "baxis": {
             "endlinecolor": "#2a3f5f",
             "gridcolor": "white",
             "linecolor": "white",
             "minorgridcolor": "white",
             "startlinecolor": "#2a3f5f"
            },
            "type": "carpet"
           }
          ],
          "choropleth": [
           {
            "colorbar": {
             "outlinewidth": 0,
             "ticks": ""
            },
            "type": "choropleth"
           }
          ],
          "contour": [
           {
            "colorbar": {
             "outlinewidth": 0,
             "ticks": ""
            },
            "colorscale": [
             [
              0,
              "#0d0887"
             ],
             [
              0.1111111111111111,
              "#46039f"
             ],
             [
              0.2222222222222222,
              "#7201a8"
             ],
             [
              0.3333333333333333,
              "#9c179e"
             ],
             [
              0.4444444444444444,
              "#bd3786"
             ],
             [
              0.5555555555555556,
              "#d8576b"
             ],
             [
              0.6666666666666666,
              "#ed7953"
             ],
             [
              0.7777777777777778,
              "#fb9f3a"
             ],
             [
              0.8888888888888888,
              "#fdca26"
             ],
             [
              1,
              "#f0f921"
             ]
            ],
            "type": "contour"
           }
          ],
          "contourcarpet": [
           {
            "colorbar": {
             "outlinewidth": 0,
             "ticks": ""
            },
            "type": "contourcarpet"
           }
          ],
          "heatmap": [
           {
            "colorbar": {
             "outlinewidth": 0,
             "ticks": ""
            },
            "colorscale": [
             [
              0,
              "#0d0887"
             ],
             [
              0.1111111111111111,
              "#46039f"
             ],
             [
              0.2222222222222222,
              "#7201a8"
             ],
             [
              0.3333333333333333,
              "#9c179e"
             ],
             [
              0.4444444444444444,
              "#bd3786"
             ],
             [
              0.5555555555555556,
              "#d8576b"
             ],
             [
              0.6666666666666666,
              "#ed7953"
             ],
             [
              0.7777777777777778,
              "#fb9f3a"
             ],
             [
              0.8888888888888888,
              "#fdca26"
             ],
             [
              1,
              "#f0f921"
             ]
            ],
            "type": "heatmap"
           }
          ],
          "heatmapgl": [
           {
            "colorbar": {
             "outlinewidth": 0,
             "ticks": ""
            },
            "colorscale": [
             [
              0,
              "#0d0887"
             ],
             [
              0.1111111111111111,
              "#46039f"
             ],
             [
              0.2222222222222222,
              "#7201a8"
             ],
             [
              0.3333333333333333,
              "#9c179e"
             ],
             [
              0.4444444444444444,
              "#bd3786"
             ],
             [
              0.5555555555555556,
              "#d8576b"
             ],
             [
              0.6666666666666666,
              "#ed7953"
             ],
             [
              0.7777777777777778,
              "#fb9f3a"
             ],
             [
              0.8888888888888888,
              "#fdca26"
             ],
             [
              1,
              "#f0f921"
             ]
            ],
            "type": "heatmapgl"
           }
          ],
          "histogram": [
           {
            "marker": {
             "colorbar": {
              "outlinewidth": 0,
              "ticks": ""
             }
            },
            "type": "histogram"
           }
          ],
          "histogram2d": [
           {
            "colorbar": {
             "outlinewidth": 0,
             "ticks": ""
            },
            "colorscale": [
             [
              0,
              "#0d0887"
             ],
             [
              0.1111111111111111,
              "#46039f"
             ],
             [
              0.2222222222222222,
              "#7201a8"
             ],
             [
              0.3333333333333333,
              "#9c179e"
             ],
             [
              0.4444444444444444,
              "#bd3786"
             ],
             [
              0.5555555555555556,
              "#d8576b"
             ],
             [
              0.6666666666666666,
              "#ed7953"
             ],
             [
              0.7777777777777778,
              "#fb9f3a"
             ],
             [
              0.8888888888888888,
              "#fdca26"
             ],
             [
              1,
              "#f0f921"
             ]
            ],
            "type": "histogram2d"
           }
          ],
          "histogram2dcontour": [
           {
            "colorbar": {
             "outlinewidth": 0,
             "ticks": ""
            },
            "colorscale": [
             [
              0,
              "#0d0887"
             ],
             [
              0.1111111111111111,
              "#46039f"
             ],
             [
              0.2222222222222222,
              "#7201a8"
             ],
             [
              0.3333333333333333,
              "#9c179e"
             ],
             [
              0.4444444444444444,
              "#bd3786"
             ],
             [
              0.5555555555555556,
              "#d8576b"
             ],
             [
              0.6666666666666666,
              "#ed7953"
             ],
             [
              0.7777777777777778,
              "#fb9f3a"
             ],
             [
              0.8888888888888888,
              "#fdca26"
             ],
             [
              1,
              "#f0f921"
             ]
            ],
            "type": "histogram2dcontour"
           }
          ],
          "mesh3d": [
           {
            "colorbar": {
             "outlinewidth": 0,
             "ticks": ""
            },
            "type": "mesh3d"
           }
          ],
          "parcoords": [
           {
            "line": {
             "colorbar": {
              "outlinewidth": 0,
              "ticks": ""
             }
            },
            "type": "parcoords"
           }
          ],
          "pie": [
           {
            "automargin": true,
            "type": "pie"
           }
          ],
          "scatter": [
           {
            "marker": {
             "colorbar": {
              "outlinewidth": 0,
              "ticks": ""
             }
            },
            "type": "scatter"
           }
          ],
          "scatter3d": [
           {
            "line": {
             "colorbar": {
              "outlinewidth": 0,
              "ticks": ""
             }
            },
            "marker": {
             "colorbar": {
              "outlinewidth": 0,
              "ticks": ""
             }
            },
            "type": "scatter3d"
           }
          ],
          "scattercarpet": [
           {
            "marker": {
             "colorbar": {
              "outlinewidth": 0,
              "ticks": ""
             }
            },
            "type": "scattercarpet"
           }
          ],
          "scattergeo": [
           {
            "marker": {
             "colorbar": {
              "outlinewidth": 0,
              "ticks": ""
             }
            },
            "type": "scattergeo"
           }
          ],
          "scattergl": [
           {
            "marker": {
             "colorbar": {
              "outlinewidth": 0,
              "ticks": ""
             }
            },
            "type": "scattergl"
           }
          ],
          "scattermapbox": [
           {
            "marker": {
             "colorbar": {
              "outlinewidth": 0,
              "ticks": ""
             }
            },
            "type": "scattermapbox"
           }
          ],
          "scatterpolar": [
           {
            "marker": {
             "colorbar": {
              "outlinewidth": 0,
              "ticks": ""
             }
            },
            "type": "scatterpolar"
           }
          ],
          "scatterpolargl": [
           {
            "marker": {
             "colorbar": {
              "outlinewidth": 0,
              "ticks": ""
             }
            },
            "type": "scatterpolargl"
           }
          ],
          "scatterternary": [
           {
            "marker": {
             "colorbar": {
              "outlinewidth": 0,
              "ticks": ""
             }
            },
            "type": "scatterternary"
           }
          ],
          "surface": [
           {
            "colorbar": {
             "outlinewidth": 0,
             "ticks": ""
            },
            "colorscale": [
             [
              0,
              "#0d0887"
             ],
             [
              0.1111111111111111,
              "#46039f"
             ],
             [
              0.2222222222222222,
              "#7201a8"
             ],
             [
              0.3333333333333333,
              "#9c179e"
             ],
             [
              0.4444444444444444,
              "#bd3786"
             ],
             [
              0.5555555555555556,
              "#d8576b"
             ],
             [
              0.6666666666666666,
              "#ed7953"
             ],
             [
              0.7777777777777778,
              "#fb9f3a"
             ],
             [
              0.8888888888888888,
              "#fdca26"
             ],
             [
              1,
              "#f0f921"
             ]
            ],
            "type": "surface"
           }
          ],
          "table": [
           {
            "cells": {
             "fill": {
              "color": "#EBF0F8"
             },
             "line": {
              "color": "white"
             }
            },
            "header": {
             "fill": {
              "color": "#C8D4E3"
             },
             "line": {
              "color": "white"
             }
            },
            "type": "table"
           }
          ]
         },
         "layout": {
          "annotationdefaults": {
           "arrowcolor": "#2a3f5f",
           "arrowhead": 0,
           "arrowwidth": 1
          },
          "coloraxis": {
           "colorbar": {
            "outlinewidth": 0,
            "ticks": ""
           }
          },
          "colorscale": {
           "diverging": [
            [
             0,
             "#8e0152"
            ],
            [
             0.1,
             "#c51b7d"
            ],
            [
             0.2,
             "#de77ae"
            ],
            [
             0.3,
             "#f1b6da"
            ],
            [
             0.4,
             "#fde0ef"
            ],
            [
             0.5,
             "#f7f7f7"
            ],
            [
             0.6,
             "#e6f5d0"
            ],
            [
             0.7,
             "#b8e186"
            ],
            [
             0.8,
             "#7fbc41"
            ],
            [
             0.9,
             "#4d9221"
            ],
            [
             1,
             "#276419"
            ]
           ],
           "sequential": [
            [
             0,
             "#0d0887"
            ],
            [
             0.1111111111111111,
             "#46039f"
            ],
            [
             0.2222222222222222,
             "#7201a8"
            ],
            [
             0.3333333333333333,
             "#9c179e"
            ],
            [
             0.4444444444444444,
             "#bd3786"
            ],
            [
             0.5555555555555556,
             "#d8576b"
            ],
            [
             0.6666666666666666,
             "#ed7953"
            ],
            [
             0.7777777777777778,
             "#fb9f3a"
            ],
            [
             0.8888888888888888,
             "#fdca26"
            ],
            [
             1,
             "#f0f921"
            ]
           ],
           "sequentialminus": [
            [
             0,
             "#0d0887"
            ],
            [
             0.1111111111111111,
             "#46039f"
            ],
            [
             0.2222222222222222,
             "#7201a8"
            ],
            [
             0.3333333333333333,
             "#9c179e"
            ],
            [
             0.4444444444444444,
             "#bd3786"
            ],
            [
             0.5555555555555556,
             "#d8576b"
            ],
            [
             0.6666666666666666,
             "#ed7953"
            ],
            [
             0.7777777777777778,
             "#fb9f3a"
            ],
            [
             0.8888888888888888,
             "#fdca26"
            ],
            [
             1,
             "#f0f921"
            ]
           ]
          },
          "colorway": [
           "#636efa",
           "#EF553B",
           "#00cc96",
           "#ab63fa",
           "#FFA15A",
           "#19d3f3",
           "#FF6692",
           "#B6E880",
           "#FF97FF",
           "#FECB52"
          ],
          "font": {
           "color": "#2a3f5f"
          },
          "geo": {
           "bgcolor": "white",
           "lakecolor": "white",
           "landcolor": "#E5ECF6",
           "showlakes": true,
           "showland": true,
           "subunitcolor": "white"
          },
          "hoverlabel": {
           "align": "left"
          },
          "hovermode": "closest",
          "mapbox": {
           "style": "light"
          },
          "paper_bgcolor": "white",
          "plot_bgcolor": "#E5ECF6",
          "polar": {
           "angularaxis": {
            "gridcolor": "white",
            "linecolor": "white",
            "ticks": ""
           },
           "bgcolor": "#E5ECF6",
           "radialaxis": {
            "gridcolor": "white",
            "linecolor": "white",
            "ticks": ""
           }
          },
          "scene": {
           "xaxis": {
            "backgroundcolor": "#E5ECF6",
            "gridcolor": "white",
            "gridwidth": 2,
            "linecolor": "white",
            "showbackground": true,
            "ticks": "",
            "zerolinecolor": "white"
           },
           "yaxis": {
            "backgroundcolor": "#E5ECF6",
            "gridcolor": "white",
            "gridwidth": 2,
            "linecolor": "white",
            "showbackground": true,
            "ticks": "",
            "zerolinecolor": "white"
           },
           "zaxis": {
            "backgroundcolor": "#E5ECF6",
            "gridcolor": "white",
            "gridwidth": 2,
            "linecolor": "white",
            "showbackground": true,
            "ticks": "",
            "zerolinecolor": "white"
           }
          },
          "shapedefaults": {
           "line": {
            "color": "#2a3f5f"
           }
          },
          "ternary": {
           "aaxis": {
            "gridcolor": "white",
            "linecolor": "white",
            "ticks": ""
           },
           "baxis": {
            "gridcolor": "white",
            "linecolor": "white",
            "ticks": ""
           },
           "bgcolor": "#E5ECF6",
           "caxis": {
            "gridcolor": "white",
            "linecolor": "white",
            "ticks": ""
           }
          },
          "title": {
           "x": 0.05
          },
          "xaxis": {
           "automargin": true,
           "gridcolor": "white",
           "linecolor": "white",
           "ticks": "",
           "title": {
            "standoff": 15
           },
           "zerolinecolor": "white",
           "zerolinewidth": 2
          },
          "yaxis": {
           "automargin": true,
           "gridcolor": "white",
           "linecolor": "white",
           "ticks": "",
           "title": {
            "standoff": 15
           },
           "zerolinecolor": "white",
           "zerolinewidth": 2
          }
         }
        },
        "title": {
         "text": "Top 10 Genres for Movies Rated Above 6"
        }
       }
      }
     },
     "metadata": {},
     "output_type": "display_data"
    }
   ],
   "source": [
    "# Find the top_10_rated_genres by highest rating, with highest number of votes and movie count\n",
    "top_10_rated_genres= \"\"\" \n",
    "SELECT mb.genres, COUNT(DISTINCT mr.movie_id) AS best_rated_genre\n",
    "FROM movie_ratings mr\n",
    "JOIN movie_basics mb USING(movie_id)\n",
    "WHERE mr.averagerating > 6\n",
    "GROUP BY mb.genres\n",
    "ORDER BY best_rated_genre DESC\n",
    "LIMIT 10;\"\"\"\n",
    "top_10_rated_genres = pd.read_sql(top_10_rated_genres, conn)\n",
    "\n",
    "# Create a treemap plot:\n",
    "fig = px.treemap(\n",
    "    top_10_rated_genres,\n",
    "    path=['genres'], \n",
    "    values='best_rated_genre',\n",
    "    title=\"Top 10 Genres for Movies Rated Above 6\"\n",
    ")\n",
    "\n",
    "fig.show()"
   ]
  },
  {
   "cell_type": "markdown",
   "metadata": {},
   "source": [
    "### 5. Insights and Evaluation\n",
    "\n",
    "#### Summarizing Key Findings\n",
    "\n",
    "For each of the objectives, I've summarized the main insights.\n",
    "\n",
    "\n",
    "### Insights and Evaluation\n",
    "\n",
    "1. **Popular Genres**: Genres like Drama, Comedy, and Action are the most common, indicating strong general audience engagement.\n",
    "2. **High-Rated Genres**: Genres such as Documentary and Biography have higher ratings, suggesting a preference for quality in these categories.\n",
    "3. **Rising Genre Trends**: Genres like Science Fiction and Thriller show increasing ratings over time, suggesting growing audience interest.\n",
    "4. **Successful Genre Combinations**: Action-Comedy and Drama-Thriller combinations show high ratings, indicating successful blending of audience-favorite themes.\n",
    "\n",
    "\n",
    "\n",
    "### 6. Conclusions and Recommendations\n",
    "\n",
    "I've provided actionable recommendations for the business based on the EDA findings. \n",
    "\n",
    "\n",
    "### Conclusions and Recommendations\n",
    "\n",
    "1. **Invest in High-Rated Niche Genres**: Given the high ratings in Documentary and Biography, consider producing quality films in these genres to appeal to a selective audience.\n",
    "2. **Leverage Broad-Engagement Genres**: Action and Adventure genres have strong audience engagement, as indicated by vote counts, suggesting they are safe for larger audience appeal.\n",
    "3. **Explore Successful Genre Combinations**: Hybrid genres like Action-Comedy could attract a wide range of viewers, combining popular genres in a single film.\n",
    "\n",
    "\n",
    "### 7. Document Limitations and Future Work\n",
    "\n",
    "I've highlighted limitations (e.g., limited data on recent movies, potential bias in genre labels) and suggest areas for future research.\n",
    "\n",
    "\n",
    "### Limitations and Future Work\n",
    "\n",
    "1. **Data Limitations**: Some genres are underrepresented in recent years, possibly affecting trend analysis.\n",
    "2. **Potential Bias**: IMDb ratings may reflect a subset of audience preferences and could vary by region.\n",
    "3. **Future Work**: Including revenue data would enable a more comprehensive analysis of genre profitability."
   ]
  }
 ],
 "metadata": {
  "kernelspec": {
   "display_name": "learn-env",
   "language": "python",
   "name": "python3"
  },
  "language_info": {
   "codemirror_mode": {
    "name": "ipython",
    "version": 3
   },
   "file_extension": ".py",
   "mimetype": "text/x-python",
   "name": "python",
   "nbconvert_exporter": "python",
   "pygments_lexer": "ipython3",
   "version": "3.8.5"
  }
 },
 "nbformat": 4,
 "nbformat_minor": 2
}
