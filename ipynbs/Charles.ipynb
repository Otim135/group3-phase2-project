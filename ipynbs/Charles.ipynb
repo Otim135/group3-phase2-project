{
 "cells": [
  {
   "cell_type": "code",
   "execution_count": null,
   "id": "0e51b47c-c5da-437c-9656-36a8b33777dc",
   "metadata": {},
   "outputs": [],
   "source": []
  }
 ],
 "metadata": {
  "kernelspec": {
   "display_name": "",
   "name": ""
  },
  "language_info": {
   "name": ""
  }
 },
 "nbformat": 4,
 "nbformat_minor": 5
}
