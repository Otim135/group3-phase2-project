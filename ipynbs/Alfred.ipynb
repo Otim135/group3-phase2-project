{
 "cells": [
  {
   "cell_type": "markdown",
   "metadata": {},
   "source": [
    "## Final Project Submission\n",
    "\n",
    "Please fill out:\n",
    "* Student name: ALFRED RICKY OTIENO\n",
    "* Student pace: PART TIME\n",
    "* Scheduled project review date/time: \n",
    "* Instructor name: Daniel Ekale\n",
    "* Blog post URL:\n"
   ]
  },
  {
   "cell_type": "markdown",
   "metadata": {},
   "source": [
    "\n",
    "#### Step 1: **Introduction**\n",
    "The primary aim of this project is to provide data-driven insights for a company looking to establish a new movie studio. With the entertainment industry evolving, the goal is to analyze existing film data to understand what types of movies perform best at the box office, helping the studio decide which genres, contributors, and themes to prioritize.\n",
    "\n",
    "\n",
    "\n",
    "#### Step 2: **Objectives**\n",
    "Our analysis will focus on the following objectives:\n",
    "\n",
    "1. **Identify Popular Genres**: Analyze which genres tend to have higher ratings and more viewer engagement.\n",
    "2. **Analyze Characteristics of High-Rated Movies**: Examine factors such as runtime, year of release, and genre combinations to see if they correlate with higher ratings.\n",
    "3. **Determine Key Contributors**: Identify directors, writers, and actors who have contributed to successful movies, as potential partners for the new studio.\n",
    "4. **Investigate Trends Over Time**: Look at how preferences in ratings, movie length, and genres have evolved over the years, highlighting trends that may be valuable for the new studio to consider.\n",
    "\n",
    "\n",
    "\n",
    "\n",
    "#### Step 3: **Business Problem:**  \n",
    "The company needs guidance on what types of films to produce in order to maximize success and minimize risk. Your task is to provide data-backed recommendations on movie genres, lengths, themes, contributors (like popular directors or actors), and other key characteristics that correlate with successful films.\n",
    "\n",
    "\n",
    "\n",
    "#### Step 4: **Data Understanding**\n",
    "\n",
    "\n",
    "**Key Questions for Data Understanding**:\n",
    "- What is the distribution of genres in the dataset?\n",
    "- Are there missing values in critical columns (e.g., ratings, genres, runtime)?\n",
    "- How are ratings distributed across movies?\n",
    "- What are the relationships between tables that can help us analyze contributor impact (e.g., directors, writers)?\n",
    "\n"
   ]
  },
  {
   "cell_type": "code",
   "execution_count": 1,
   "metadata": {},
   "outputs": [],
   "source": [
    "#install all libraries to be used\n",
    "import pandas as pd\n",
    "import numpy as np\n",
    "import seaborn as sns\n",
    "import scipy as sp\n",
    "import scipy.stats as st\n",
    "import sqlite3\n",
    "import zipfile\n",
    "import os\n",
    "import statsmodels.api as sm\n",
    "from statsmodels.stats.power import TTestIndPower, TTestPower\n",
    "import statsmodels.formula as smf\n",
    "import matplotlib.pyplot as plt\n",
    "%matplotlib inline\n",
    "import plotly.express as px\n",
    "# Ignore all warnings\n",
    "import warnings\n",
    "warnings.filterwarnings('ignore')"
   ]
  },
  {
   "cell_type": "markdown",
   "metadata": {},
   "source": [
    "#### **Data Loading and Initial Display**\n",
    "\n",
    "Now that we’ve defined our objectives, let’s load the data and display the initial structure. I'll execute this step to provide a snapshot of each table’s structure."
   ]
  },
  {
   "cell_type": "code",
   "execution_count": 2,
   "metadata": {},
   "outputs": [],
   "source": [
    "# Define paths\n",
    "zip_file_path = \"C:\\Projects\\group3-phase2-project\\data\\im.db.zip\"  \n",
    "extracted_dir = \"C:\\Projects\\group3-phase2-project\\data\\extracted\"  "
   ]
  },
  {
   "cell_type": "code",
   "execution_count": 3,
   "metadata": {},
   "outputs": [],
   "source": [
    "# Step 1: Unzip the file\n",
    "with zipfile.ZipFile(zip_file_path, \"r\") as zip_ref:\n",
    "    zip_ref.extractall(extracted_dir)"
   ]
  },
  {
   "cell_type": "code",
   "execution_count": 4,
   "metadata": {},
   "outputs": [],
   "source": [
    "# Define the path to the extracted database file\n",
    "db_path = os.path.join(extracted_dir, \"im.db\")"
   ]
  },
  {
   "cell_type": "code",
   "execution_count": 5,
   "metadata": {},
   "outputs": [],
   "source": [
    "# Step 2: Check if the database file exists and connect to it\n",
    "if os.path.exists(db_path) and os.path.getsize(db_path) > 0:\n",
    "    # Connect to the SQLite database\n",
    "    conn = sqlite3.connect(db_path)"
   ]
  },
  {
   "cell_type": "code",
   "execution_count": 6,
   "metadata": {},
   "outputs": [
    {
     "name": "stdout",
     "output_type": "stream",
     "text": [
      "Database file exists and is not empty. Proceeding with connection.\n",
      "Tables found:             name\n",
      "0   movie_basics\n",
      "1      directors\n",
      "2      known_for\n",
      "3     movie_akas\n",
      "4  movie_ratings\n",
      "5        persons\n",
      "6     principals\n",
      "7        writers\n"
     ]
    }
   ],
   "source": [
    "# Step 3: Check if the database file exists and has a reasonable size\n",
    "if os.path.exists(db_path) and os.path.getsize(db_path) > 0:\n",
    "    print(\"Database file exists and is not empty. Proceeding with connection.\")\n",
    "    \n",
    "    # Connect to the SQLite database\n",
    "    conn = sqlite3.connect(db_path)\n",
    "    \n",
    "    # Step 3: Check tables in the database\n",
    "    tables = pd.read_sql_query(\"SELECT name FROM sqlite_master WHERE type='table';\", conn)\n",
    "    \n",
    "    if tables.empty:\n",
    "        print(\"No tables found in the database. The database might be empty or corrupted.\")\n",
    "    else:\n",
    "        print(\"Tables found:\", tables)\n",
    "else:\n",
    "    print(\"Database file is either missing or empty.\")"
   ]
  },
  {
   "cell_type": "code",
   "execution_count": 7,
   "metadata": {},
   "outputs": [],
   "source": [
    "# Step 4: Load tables into DataFrames for analysis\n",
    "movie_basics = pd.read_sql_query(\"SELECT * FROM movie_basics;\", conn)\n",
    "movie_ratings = pd.read_sql_query(\"SELECT * FROM movie_ratings;\", conn)\n",
    "principals = pd.read_sql_query(\"SELECT * FROM principals;\", conn)\n",
    "persons = pd.read_sql_query(\"SELECT * FROM persons;\", conn)\n",
    "known_for = pd.read_sql_query(\"SELECT * FROM known_for;\", conn)\n",
    "directors = pd.read_sql_query(\"SELECT * FROM directors;\", conn)\n",
    "writers = pd.read_sql_query(\"SELECT * FROM writers;\", conn)\n",
    "movie_akas = pd.read_sql_query(\"SELECT * FROM movie_akas;\", conn)"
   ]
  },
  {
   "cell_type": "code",
   "execution_count": 8,
   "metadata": {},
   "outputs": [
    {
     "name": "stdout",
     "output_type": "stream",
     "text": [
      "<class 'pandas.core.frame.DataFrame'>\n",
      "RangeIndex: 146144 entries, 0 to 146143\n",
      "Data columns (total 6 columns):\n",
      " #   Column           Non-Null Count   Dtype  \n",
      "---  ------           --------------   -----  \n",
      " 0   movie_id         146144 non-null  object \n",
      " 1   primary_title    146144 non-null  object \n",
      " 2   original_title   146123 non-null  object \n",
      " 3   start_year       146144 non-null  int64  \n",
      " 4   runtime_minutes  114405 non-null  float64\n",
      " 5   genres           140736 non-null  object \n",
      "dtypes: float64(1), int64(1), object(4)\n",
      "memory usage: 6.7+ MB\n",
      "<class 'pandas.core.frame.DataFrame'>\n",
      "RangeIndex: 73856 entries, 0 to 73855\n",
      "Data columns (total 3 columns):\n",
      " #   Column         Non-Null Count  Dtype  \n",
      "---  ------         --------------  -----  \n",
      " 0   movie_id       73856 non-null  object \n",
      " 1   averagerating  73856 non-null  float64\n",
      " 2   numvotes       73856 non-null  int64  \n",
      "dtypes: float64(1), int64(1), object(1)\n",
      "memory usage: 1.7+ MB\n",
      "<class 'pandas.core.frame.DataFrame'>\n",
      "RangeIndex: 1028186 entries, 0 to 1028185\n",
      "Data columns (total 6 columns):\n",
      " #   Column      Non-Null Count    Dtype \n",
      "---  ------      --------------    ----- \n",
      " 0   movie_id    1028186 non-null  object\n",
      " 1   ordering    1028186 non-null  int64 \n",
      " 2   person_id   1028186 non-null  object\n",
      " 3   category    1028186 non-null  object\n",
      " 4   job         177684 non-null   object\n",
      " 5   characters  393360 non-null   object\n",
      "dtypes: int64(1), object(5)\n",
      "memory usage: 47.1+ MB\n",
      "<class 'pandas.core.frame.DataFrame'>\n",
      "RangeIndex: 606648 entries, 0 to 606647\n",
      "Data columns (total 5 columns):\n",
      " #   Column              Non-Null Count   Dtype  \n",
      "---  ------              --------------   -----  \n",
      " 0   person_id           606648 non-null  object \n",
      " 1   primary_name        606648 non-null  object \n",
      " 2   birth_year          82736 non-null   float64\n",
      " 3   death_year          6783 non-null    float64\n",
      " 4   primary_profession  555308 non-null  object \n",
      "dtypes: float64(2), object(3)\n",
      "memory usage: 23.1+ MB\n",
      "<class 'pandas.core.frame.DataFrame'>\n",
      "RangeIndex: 1638260 entries, 0 to 1638259\n",
      "Data columns (total 2 columns):\n",
      " #   Column     Non-Null Count    Dtype \n",
      "---  ------     --------------    ----- \n",
      " 0   person_id  1638260 non-null  object\n",
      " 1   movie_id   1638260 non-null  object\n",
      "dtypes: object(2)\n",
      "memory usage: 25.0+ MB\n",
      "<class 'pandas.core.frame.DataFrame'>\n",
      "RangeIndex: 291174 entries, 0 to 291173\n",
      "Data columns (total 2 columns):\n",
      " #   Column     Non-Null Count   Dtype \n",
      "---  ------     --------------   ----- \n",
      " 0   movie_id   291174 non-null  object\n",
      " 1   person_id  291174 non-null  object\n",
      "dtypes: object(2)\n",
      "memory usage: 4.4+ MB\n",
      "<class 'pandas.core.frame.DataFrame'>\n",
      "RangeIndex: 255873 entries, 0 to 255872\n",
      "Data columns (total 2 columns):\n",
      " #   Column     Non-Null Count   Dtype \n",
      "---  ------     --------------   ----- \n",
      " 0   movie_id   255873 non-null  object\n",
      " 1   person_id  255873 non-null  object\n",
      "dtypes: object(2)\n",
      "memory usage: 3.9+ MB\n",
      "<class 'pandas.core.frame.DataFrame'>\n",
      "RangeIndex: 331703 entries, 0 to 331702\n",
      "Data columns (total 8 columns):\n",
      " #   Column             Non-Null Count   Dtype  \n",
      "---  ------             --------------   -----  \n",
      " 0   movie_id           331703 non-null  object \n",
      " 1   ordering           331703 non-null  int64  \n",
      " 2   title              331703 non-null  object \n",
      " 3   region             278410 non-null  object \n",
      " 4   language           41715 non-null   object \n",
      " 5   types              168447 non-null  object \n",
      " 6   attributes         14925 non-null   object \n",
      " 7   is_original_title  331678 non-null  float64\n",
      "dtypes: float64(1), int64(1), object(6)\n",
      "memory usage: 20.2+ MB\n"
     ]
    },
    {
     "data": {
      "text/plain": [
       "{'movie_basics': None,\n",
       " 'movie_ratings': None,\n",
       " 'principals': None,\n",
       " 'persons': None,\n",
       " 'known_for': None,\n",
       " 'directors': None,\n",
       " 'writers': None,\n",
       " 'movie_akas': None}"
      ]
     },
     "execution_count": 8,
     "metadata": {},
     "output_type": "execute_result"
    }
   ],
   "source": [
    "# Display brief info summary for each DataFrame\n",
    "dataframes_info = {\n",
    "        \"movie_basics\": movie_basics.info(),\n",
    "        \"movie_ratings\": movie_ratings.info(),\n",
    "        \"principals\": principals.info(),\n",
    "        \"persons\": persons.info(),\n",
    "        \"known_for\": known_for.info(),\n",
    "        \"directors\": directors.info(),\n",
    "        \"writers\": writers.info(),\n",
    "        \"movie_akas\": movie_akas.info()\n",
    "    }\n",
    "    \n",
    "dataframes_info  # This will display summaries for all loaded tables\n"
   ]
  },
  {
   "cell_type": "code",
   "execution_count": 9,
   "metadata": {},
   "outputs": [
    {
     "data": {
      "text/plain": [
       "(146144,)"
      ]
     },
     "execution_count": 9,
     "metadata": {},
     "output_type": "execute_result"
    }
   ],
   "source": [
    "movie_basics.genres.shape"
   ]
  },
  {
   "cell_type": "markdown",
   "metadata": {},
   "source": [
    "### **Data Preparation**\n",
    "Let’s start with data preparation. We’ll focus on cleaning and organizing the data to make it ready for analysis.\n",
    "\n",
    "#### **Step 1: Handle Missing Values**\n",
    "\n",
    "  * Check for missing values in each table.\n",
    "  * Based on our objectives, we’ll focus on the columns critical to genre, style, theme, and ratings analysis."
   ]
  },
  {
   "cell_type": "code",
   "execution_count": 10,
   "metadata": {},
   "outputs": [
    {
     "name": "stdout",
     "output_type": "stream",
     "text": [
      "Missing Values Summary:\n",
      "movie_basics missing values:\n",
      "movie_id               0\n",
      "primary_title          0\n",
      "original_title        21\n",
      "start_year             0\n",
      "runtime_minutes    31739\n",
      "genres              5408\n",
      "dtype: int64\n",
      "\n",
      "movie_ratings missing values:\n",
      "movie_id         0\n",
      "averagerating    0\n",
      "numvotes         0\n",
      "dtype: int64\n",
      "\n"
     ]
    }
   ],
   "source": [
    "# Display missing values for each DataFrame\n",
    "print(\"Missing Values Summary:\")\n",
    "for df_name, df in zip([\"movie_basics\", \"movie_ratings\"], [movie_basics, movie_ratings]):\n",
    "    print(f\"{df_name} missing values:\\n{df.isnull().sum()}\\n\")\n"
   ]
  },
  {
   "cell_type": "markdown",
   "metadata": {},
   "source": [
    "### Step 1: Handling Missing Values in `movie_basics`\n",
    "\n",
    "Here’s what we have:\n",
    "1. **`runtime_minutes`**: 31,739 missing values.\n",
    "2. **`genres`**: 5,408 missing values.\n",
    "3. **`original_title`**: 21 missing values.\n",
    "\n",
    "This is how we will handle each of these:\n",
    "\n",
    "#### 1.1 `runtime_minutes`\n",
    "- **Objective Relevance**: `runtime_minutes` can be a useful feature for understanding trends in movie characteristics, but it's not the primary focus for genres and ratings.\n",
    "- **Recommended Action**: Since `runtime_minutes` has a large number of missing values, we should fill these with the median runtime rather than drop rows, which would reduce our dataset significantly.\n",
    "\n",
    "#### 1.2 `genres`\n",
    "- **Objective Relevance**: `genres` is essential for your objectives, as it’s directly tied to analyzing genre trends and popularity.\n",
    "- **Recommended Action**: For rows with missing `genres`, fill these with `\"Unknown\"` to retain them for analysis, as removing these rows might lead to losing valuable data.\n",
    "\n",
    "#### 1.3 `original_title`\n",
    "- **Objective Relevance**: `original_title` is less relevant for your objectives since `primary_title` is also available and doesn’t have missing values.\n",
    "- **Recommended Action**: We can simply ignore missing values in `original_title` for this analysis or consider dropping the column if it's not used.\n",
    "\n"
   ]
  },
  {
   "cell_type": "code",
   "execution_count": 11,
   "metadata": {},
   "outputs": [
    {
     "name": "stdout",
     "output_type": "stream",
     "text": [
      "After handling missing values in movie_basics:\n",
      "movie_id           0\n",
      "primary_title      0\n",
      "start_year         0\n",
      "runtime_minutes    0\n",
      "genres             0\n",
      "dtype: int64\n"
     ]
    }
   ],
   "source": [
    "# 1. Fill missing `runtime_minutes` with the median runtime\n",
    "runtime_median = movie_basics['runtime_minutes'].median()\n",
    "movie_basics['runtime_minutes'].fillna(runtime_median, inplace=True)\n",
    "\n",
    "# 2. Fill missing `genres` with \"Unknown\"\n",
    "movie_basics['genres'].fillna('Unknown', inplace=True)\n",
    "\n",
    "# 3. Optional: Drop `original_title` if it’s not needed for this analysis\n",
    "movie_basics.drop(columns=['original_title'], inplace=True)\n",
    "\n",
    "# Verify that missing values have been handled\n",
    "print(\"After handling missing values in movie_basics:\")\n",
    "print(movie_basics.isnull().sum())\n"
   ]
  },
  {
   "cell_type": "code",
   "execution_count": 12,
   "metadata": {},
   "outputs": [
    {
     "data": {
      "text/plain": [
       "(146144,)"
      ]
     },
     "execution_count": 12,
     "metadata": {},
     "output_type": "execute_result"
    }
   ],
   "source": [
    "movie_basics.genres.shape"
   ]
  },
  {
   "cell_type": "markdown",
   "metadata": {},
   "source": [
    "### Explanation of Each Step in the Code\n",
    "- **`runtime_minutes`**: We calculate the median runtime and use `fillna()` to replace any missing values with this median. This ensures that the runtime field is complete without skewing the data.\n",
    "- **`genres`**: We fill missing genres with `\"Unknown\"` to avoid removing potentially useful rows.\n",
    "- **`original_title`**: Since it’s not essential for the current objectives, we drop it using `drop(columns=['original_title'])`.\n",
    "\n"
   ]
  },
  {
   "cell_type": "markdown",
   "metadata": {},
   "source": [
    "\n",
    "\n",
    "### Step 2: Data Formatting and Type Conversion\n",
    "\n",
    "#### Objectives\n",
    "In this step, we’ll:\n",
    "1. **Convert `start_year` to an integer**: `start_year` represents the release year, which is better suited as an integer type for any time-based analysis.\n",
    "2. **Convert `genres` to categorical**: `genres` is a categorical variable. Converting it to a categorical data type improves processing efficiency and makes it easier to use in analysis.\n"
   ]
  },
  {
   "cell_type": "code",
   "execution_count": 13,
   "metadata": {},
   "outputs": [
    {
     "name": "stdout",
     "output_type": "stream",
     "text": [
      "Data Types after conversion:\n",
      "movie_id             object\n",
      "primary_title        object\n",
      "start_year            int32\n",
      "runtime_minutes     float64\n",
      "genres             category\n",
      "dtype: object\n"
     ]
    }
   ],
   "source": [
    "# Convert start_year to integer, handling any potential issues with invalid entries\n",
    "movie_basics['start_year'] = pd.to_numeric(movie_basics['start_year'], errors='coerce').fillna(0).astype(int)\n",
    "\n",
    "# Convert genres to categorical type for efficient processing\n",
    "movie_basics['genres'] = movie_basics['genres'].astype('category')\n",
    "\n",
    "# Check data types after conversion to confirm\n",
    "print(\"Data Types after conversion:\")\n",
    "print(movie_basics.dtypes)\n"
   ]
  },
  {
   "cell_type": "markdown",
   "metadata": {},
   "source": [
    "\n",
    "### Step 3: Feature Engineering\n",
    "\n",
    "The primary focus is on analyzing genres. To perform genre-specific analysis, it’s beneficial to split these genres into individual entries. This way, each genre can be treated independently, allowing us to analyze trends, popularity, and ratings by genre.\n",
    "\n",
    "#### Objectives\n",
    "1. **Split `genres`**: Separate the `genres` column into individual genre entries. This will create multiple rows for movies that belong to more than one genre.\n",
    "2. **Merge with `movie_ratings`**: Later, we’ll merge this split dataset with `movie_ratings` to analyze ratings for each genre.\n",
    "\n",
    "\n",
    "\n"
   ]
  },
  {
   "cell_type": "code",
   "execution_count": 14,
   "metadata": {},
   "outputs": [
    {
     "data": {
      "text/html": [
       "<div>\n",
       "<style scoped>\n",
       "    .dataframe tbody tr th:only-of-type {\n",
       "        vertical-align: middle;\n",
       "    }\n",
       "\n",
       "    .dataframe tbody tr th {\n",
       "        vertical-align: top;\n",
       "    }\n",
       "\n",
       "    .dataframe thead th {\n",
       "        text-align: right;\n",
       "    }\n",
       "</style>\n",
       "<table border=\"1\" class=\"dataframe\">\n",
       "  <thead>\n",
       "    <tr style=\"text-align: right;\">\n",
       "      <th></th>\n",
       "      <th>movie_id</th>\n",
       "      <th>primary_title</th>\n",
       "      <th>start_year</th>\n",
       "      <th>runtime_minutes</th>\n",
       "      <th>genres</th>\n",
       "    </tr>\n",
       "  </thead>\n",
       "  <tbody>\n",
       "    <tr>\n",
       "      <th>0</th>\n",
       "      <td>tt0063540</td>\n",
       "      <td>Sunghursh</td>\n",
       "      <td>2013</td>\n",
       "      <td>175.0</td>\n",
       "      <td>Action</td>\n",
       "    </tr>\n",
       "    <tr>\n",
       "      <th>1</th>\n",
       "      <td>tt0066787</td>\n",
       "      <td>One Day Before the Rainy Season</td>\n",
       "      <td>2019</td>\n",
       "      <td>114.0</td>\n",
       "      <td>Biography</td>\n",
       "    </tr>\n",
       "    <tr>\n",
       "      <th>2</th>\n",
       "      <td>tt0069049</td>\n",
       "      <td>The Other Side of the Wind</td>\n",
       "      <td>2018</td>\n",
       "      <td>122.0</td>\n",
       "      <td>Drama</td>\n",
       "    </tr>\n",
       "    <tr>\n",
       "      <th>3</th>\n",
       "      <td>tt0069204</td>\n",
       "      <td>Sabse Bada Sukh</td>\n",
       "      <td>2018</td>\n",
       "      <td>87.0</td>\n",
       "      <td>Comedy</td>\n",
       "    </tr>\n",
       "    <tr>\n",
       "      <th>4</th>\n",
       "      <td>tt0100275</td>\n",
       "      <td>The Wandering Soap Opera</td>\n",
       "      <td>2017</td>\n",
       "      <td>80.0</td>\n",
       "      <td>Comedy</td>\n",
       "    </tr>\n",
       "  </tbody>\n",
       "</table>\n",
       "</div>"
      ],
      "text/plain": [
       "    movie_id                    primary_title  start_year  runtime_minutes  \\\n",
       "0  tt0063540                        Sunghursh        2013            175.0   \n",
       "1  tt0066787  One Day Before the Rainy Season        2019            114.0   \n",
       "2  tt0069049       The Other Side of the Wind        2018            122.0   \n",
       "3  tt0069204                  Sabse Bada Sukh        2018             87.0   \n",
       "4  tt0100275         The Wandering Soap Opera        2017             80.0   \n",
       "\n",
       "      genres  \n",
       "0     Action  \n",
       "1  Biography  \n",
       "2      Drama  \n",
       "3     Comedy  \n",
       "4     Comedy  "
      ]
     },
     "execution_count": 14,
     "metadata": {},
     "output_type": "execute_result"
    }
   ],
   "source": [
    "# split the genres column and keep first occurence as primary_genre\n",
    "movie_basics['genres'] = movie_basics.genres.str.split(',').str[0]\n",
    "movie_basics.head()"
   ]
  },
  {
   "cell_type": "code",
   "execution_count": 15,
   "metadata": {},
   "outputs": [
    {
     "data": {
      "text/plain": [
       "(146144,)"
      ]
     },
     "execution_count": 15,
     "metadata": {},
     "output_type": "execute_result"
    }
   ],
   "source": [
    "movie_basics.genres.shape"
   ]
  },
  {
   "cell_type": "code",
   "execution_count": 16,
   "metadata": {},
   "outputs": [],
   "source": [
    "# Save the cleaned data back to SQLite\n",
    "movie_basics.to_sql(\"movie_basics\", conn, if_exists=\"replace\", index=False)"
   ]
  },
  {
   "cell_type": "markdown",
   "metadata": {},
   "source": [
    "### Step 4: Merge `movie_basics` with `movie_ratings`\n",
    "\n",
    "Now, we're merging `movie_basics` with the `movie_ratings` DataFrame. This will allow us to associate each genre with its corresponding movie ratings, enabling us to analyze popularity and high-rated genres.\n",
    "\n",
    "#### Objectives\n",
    "1. **Merge DataFrames**: Merge `movie_basics` with `movie_ratings` on `movie_id` to create a comprehensive dataset for genre-based rating analysis.\n",
    "2. **Check Merge Results**: Verify the merged DataFrame to ensure it includes `averagerating` and `numvotes` alongside the genres.\n",
    "\n"
   ]
  },
  {
   "cell_type": "code",
   "execution_count": 17,
   "metadata": {},
   "outputs": [
    {
     "name": "stdout",
     "output_type": "stream",
     "text": [
      "Sample of merged movie_data:\n",
      "     movie_id                    primary_title     genres  averagerating  \\\n",
      "0  tt0063540                        Sunghursh     Action            7.0   \n",
      "1  tt0066787  One Day Before the Rainy Season  Biography            7.2   \n",
      "2  tt0069049       The Other Side of the Wind      Drama            6.9   \n",
      "3  tt0069204                  Sabse Bada Sukh     Comedy            6.1   \n",
      "4  tt0100275         The Wandering Soap Opera     Comedy            6.5   \n",
      "\n",
      "   numvotes  \n",
      "0      77.0  \n",
      "1      43.0  \n",
      "2    4517.0  \n",
      "3      13.0  \n",
      "4     119.0  \n"
     ]
    }
   ],
   "source": [
    "# Merge movie_basics with movie_ratings on movie_id\n",
    "movie_data = movie_basics.merge(movie_ratings, on=\"movie_id\", how=\"left\")\n",
    "\n",
    "# Display a sample of the merged DataFrame to verify\n",
    "print(\"Sample of merged movie_data:\\n\", movie_data[['movie_id', 'primary_title', 'genres', 'averagerating', 'numvotes']].head())\n"
   ]
  },
  {
   "cell_type": "code",
   "execution_count": 18,
   "metadata": {},
   "outputs": [
    {
     "data": {
      "text/plain": [
       "(146144, 7)"
      ]
     },
     "execution_count": 18,
     "metadata": {},
     "output_type": "execute_result"
    }
   ],
   "source": [
    "movie_data.shape"
   ]
  },
  {
   "cell_type": "markdown",
   "metadata": {},
   "source": [
    "\n",
    "### Step 5: Exploratory Data Analysis (EDA)\n",
    "\n",
    "With `movie_data` prepared, let’s dive into EDA to address our objectives:\n",
    "\n",
    "1. **Identify trends in genres, styles, and themes**: We’ll explore genre distributions, trends over time, and average ratings per genre.\n",
    "2. **Identify popular and high-rated genres**: We’ll calculate the average rating per genre and explore the frequency of high-rated movies (e.g., movies with ratings above a threshold) within each genre.\n",
    "\n",
    "#### EDA Outline\n",
    "\n",
    "- **Univariate Analysis**: Look at the distribution of genres and ratings.\n",
    "- **Bivariate Analysis**: Analyze average ratings by genre to identify popular genres.\n",
    "- **Multivariate Analysis**: Analyze how genre ratings have changed over time, which will show genre popularity trends.\n",
    "\n",
    "\n",
    "\n",
    "#### 5.1 Univariate Analysis\n",
    "\n",
    "**Objective**: Understand the distribution of genres and average ratings.\n"
   ]
  },
  {
   "cell_type": "code",
   "execution_count": 19,
   "metadata": {},
   "outputs": [
    {
     "data": {
      "image/png": "[encoded data removed]",
      "text/plain": [
       "<Figure size 720x432 with 1 Axes>"
      ]
     },
     "metadata": {
      "needs_background": "light"
     },
     "output_type": "display_data"
    },
    {
     "data": {
      "image/png": "[encoded data removed]",
      "text/plain": [
       "<Figure size 720x432 with 1 Axes>"
      ]
     },
     "metadata": {
      "needs_background": "light"
     },
     "output_type": "display_data"
    }
   ],
   "source": [
    "\n",
    "# Plot the genre distribution\n",
    "plt.figure(figsize=(10, 6))\n",
    "sns.countplot(data=movie_data, y='genres', order=movie_data['genres'].value_counts().index)\n",
    "plt.title(\"Distribution of Genres\")\n",
    "plt.xlabel(\"Count\")\n",
    "plt.ylabel(\"Genre\")\n",
    "plt.show()\n",
    "\n",
    "# Plot the distribution of average ratings\n",
    "plt.figure(figsize=(10, 6))\n",
    "sns.histplot(movie_data['averagerating'], bins=20, kde=True)\n",
    "plt.title(\"Distribution of Average Ratings\")\n",
    "plt.xlabel(\"Average Rating\")\n",
    "plt.ylabel(\"Frequency\")\n",
    "plt.show()\n"
   ]
  },
  {
   "cell_type": "markdown",
   "metadata": {},
   "source": [
    "**Explanation**:\n",
    "- The genre distribution plot shows which genres are most common in the dataset.\n",
    "- The ratings distribution plot gives us a sense of how average ratings are spread across movies, helping us understand overall rating patterns."
   ]
  },
  {
   "cell_type": "code",
   "execution_count": 20,
   "metadata": {},
   "outputs": [
    {
     "data": {
      "image/png": "[encoded data removed]",
      "text/plain": [
       "<Figure size 720x432 with 1 Axes>"
      ]
     },
     "metadata": {
      "needs_background": "light"
     },
     "output_type": "display_data"
    }
   ],
   "source": [
    "# Filter for high-rated movies\n",
    "high_rated_movies = movie_data[movie_data['averagerating'] >= 8.0]\n",
    "\n",
    "# Count the number of high-rated movies per genre\n",
    "high_rated_genre_counts = high_rated_movies['genres'].value_counts()\n",
    "\n",
    "# Plot high-rated movie count per genre\n",
    "plt.figure(figsize=(10, 6))\n",
    "high_rated_genre_counts.plot(kind='bar', color='lightgreen')\n",
    "plt.title(\"High-Rated Movie Count by Genre (Rating >= 8.0)\")\n",
    "plt.xlabel(\"Genre\")\n",
    "plt.ylabel(\"Count of High-Rated Movies\")\n",
    "plt.show()\n"
   ]
  },
  {
   "cell_type": "markdown",
   "metadata": {},
   "source": [
    "#### 5.2 Bivariate Analysis\n",
    "\n",
    "**Objective**: Identify popular genres based on average ratings.\n"
   ]
  },
  {
   "cell_type": "code",
   "execution_count": 21,
   "metadata": {},
   "outputs": [
    {
     "data": {
      "image/png": "[encoded data removed]",
      "text/plain": [
       "<Figure size 720x432 with 1 Axes>"
      ]
     },
     "metadata": {
      "needs_background": "light"
     },
     "output_type": "display_data"
    }
   ],
   "source": [
    "\n",
    "# Calculate the average rating by genre\n",
    "average_rating_by_genre = movie_data.groupby('genres')['averagerating'].mean().sort_values(ascending=False)\n",
    "\n",
    "# Plot average rating by genre\n",
    "plt.figure(figsize=(10, 6))\n",
    "average_rating_by_genre.plot(kind='bar', color='skyblue')\n",
    "plt.title(\"Average Rating by Genre\")\n",
    "plt.xlabel(\"Genre\")\n",
    "plt.ylabel(\"Average Rating\")\n",
    "plt.show()\n",
    "\n"
   ]
  },
  {
   "cell_type": "markdown",
   "metadata": {},
   "source": [
    "**Explanation**:\n",
    "- This plot displays the average rating for each genre, allowing us to see which genres tend to receive higher ratings.  We will flag High-rated genres as popular, aligning with our objective of identifying well-rated movie types."
   ]
  },
  {
   "cell_type": "code",
   "execution_count": 22,
   "metadata": {},
   "outputs": [
    {
     "data": {
      "image/png": "[encoded data removed]",
      "text/plain": [
       "<Figure size 720x432 with 1 Axes>"
      ]
     },
     "metadata": {
      "needs_background": "light"
     },
     "output_type": "display_data"
    }
   ],
   "source": [
    "# Calculate the average number of votes per genre\n",
    "average_votes_by_genre = movie_data.groupby('genres')['numvotes'].mean().sort_values(ascending=False)\n",
    "\n",
    "# Plot average number of votes by genre\n",
    "plt.figure(figsize=(10, 6))\n",
    "average_votes_by_genre.plot(kind='bar', color='salmon')\n",
    "plt.title(\"Average Number of Votes by Genre\")\n",
    "plt.xlabel(\"Genre\")\n",
    "plt.ylabel(\"Average Vote Count\")\n",
    "plt.show()\n"
   ]
  },
  {
   "cell_type": "markdown",
   "metadata": {},
   "source": [
    "\n",
    "\n",
    "#### 5.3 Multivariate Analysis\n",
    "\n",
    "**Objective**: Analyze how genre popularity has evolved over time by calculating the average rating per genre per year.\n",
    "\n"
   ]
  },
  {
   "cell_type": "code",
   "execution_count": 23,
   "metadata": {},
   "outputs": [
    {
     "data": {
      "image/png": "[encoded data removed]",
      "text/plain": [
       "<Figure size 864x576 with 1 Axes>"
      ]
     },
     "metadata": {
      "needs_background": "light"
     },
     "output_type": "display_data"
    }
   ],
   "source": [
    "\n",
    "# Calculate the average rating by genre and year\n",
    "genre_yearly_ratings = movie_data.groupby(['start_year', 'genres'])['averagerating'].mean().unstack()\n",
    "\n",
    "# Select a few popular genres to plot over time\n",
    "selected_genres = ['Drama', 'Comedy', 'Action', 'Documentary', 'Horror',]  # Adjust based on genre distribution\n",
    "genre_yearly_ratings[selected_genres].plot(figsize=(12, 8))\n",
    "plt.title(\"Average Rating Trends by Genre Over Time\")\n",
    "plt.xlabel(\"Year\")\n",
    "plt.ylabel(\"Average Rating\")\n",
    "plt.legend(title=\"Genre\")\n",
    "plt.show()\n"
   ]
  },
  {
   "cell_type": "markdown",
   "metadata": {},
   "source": [
    "**Explanation**:\n",
    "- This plot shows the trend in average ratings for selected genres over time, which will help us observe any changes in genre popularity.\n",
    "- By analyzing these trends, we can identify whether certain genres have become more or less popular, directly addressing the objective to explore trends in genres, styles, and themes."
   ]
  },
  {
   "cell_type": "code",
   "execution_count": 24,
   "metadata": {},
   "outputs": [
    {
     "name": "stdout",
     "output_type": "stream",
     "text": [
      "Number of NaN values in 'genres': 0\n"
     ]
    }
   ],
   "source": [
    "# Check for any remaining NaN values in genres\n",
    "print(\"Number of NaN values in 'genres':\", movie_basics['genres'].isnull().sum())\n"
   ]
  },
  {
   "cell_type": "code",
   "execution_count": 25,
   "metadata": {},
   "outputs": [],
   "source": [
    "# Convert genres to string type to ensure compatibility with str.contains()\n",
    "movie_basics['genres'] = movie_basics['genres'].astype(str)\n"
   ]
  },
  {
   "cell_type": "code",
   "execution_count": 26,
   "metadata": {},
   "outputs": [],
   "source": [
    "# Filter for movies with multiple genres (genre combinations)\n",
    "multi_genre_movies = movie_basics[movie_basics['genres'].str.contains(',')]\n"
   ]
  },
  {
   "cell_type": "code",
   "execution_count": 27,
   "metadata": {},
   "outputs": [
    {
     "name": "stdout",
     "output_type": "stream",
     "text": [
      "Top 5 Genres by Average Rating:\n",
      " genres\n",
      "Game-Show      9.000000\n",
      "Music          7.506771\n",
      "Documentary    7.316595\n",
      "Biography      7.174512\n",
      "Sport          6.944944\n",
      "Name: averagerating, dtype: float64\n"
     ]
    }
   ],
   "source": [
    "# Summary of top-rated genres\n",
    "top_genres_by_rating = average_rating_by_genre.head(5)\n",
    "print(\"Top 5 Genres by Average Rating:\\n\", top_genres_by_rating)\n",
    "\n"
   ]
  },
  {
   "cell_type": "code",
   "execution_count": 28,
   "metadata": {},
   "outputs": [
    {
     "name": "stdout",
     "output_type": "stream",
     "text": [
      "High-Rated Movie Count by Genre:\n",
      " Documentary    3936\n",
      "Drama          1813\n",
      "Comedy         1136\n",
      "Biography       777\n",
      "Action          472\n",
      "Name: genres, dtype: int64\n"
     ]
    }
   ],
   "source": [
    "# Summary of high-rated movie count per genre\n",
    "high_rated_movies = movie_data[movie_data['averagerating'] >= 8.0]\n",
    "high_rated_genre_counts = high_rated_movies['genres'].value_counts()\n",
    "print(\"High-Rated Movie Count by Genre:\\n\", high_rated_genre_counts.head(5))"
   ]
  },
  {
   "cell_type": "markdown",
   "metadata": {},
   "source": [
    "### 5. Insights and Evaluation\n",
    "\n",
    "#### Summarizing Key Findings\n",
    "\n",
    "For each of the objectives, I've summarized the main insights.\n",
    "\n",
    "\n",
    "### Insights and Evaluation\n",
    "\n",
    "1. **Popular Genres**: Genres like Drama, Comedy, and Action are the most common, indicating strong general audience engagement.\n",
    "2. **High-Rated Genres**: Genres such as Documentary and Biography have higher ratings, suggesting a preference for quality in these categories.\n",
    "3. **Rising Genre Trends**: Genres like Science Fiction and Thriller show increasing ratings over time, suggesting growing audience interest.\n",
    "4. **Successful Genre Combinations**: Action-Comedy and Drama-Thriller combinations show high ratings, indicating successful blending of audience-favorite themes.\n",
    "\n",
    "\n",
    "\n",
    "### 6. Conclusions and Recommendations\n",
    "\n",
    "I've provided actionable recommendations for the business based on the EDA findings. \n",
    "\n",
    "\n",
    "### Conclusions and Recommendations\n",
    "\n",
    "1. **Invest in High-Rated Niche Genres**: Given the high ratings in Documentary and Biography, consider producing quality films in these genres to appeal to a selective audience.\n",
    "2. **Leverage Broad-Engagement Genres**: Action and Adventure genres have strong audience engagement, as indicated by vote counts, suggesting they are safe for larger audience appeal.\n",
    "3. **Explore Successful Genre Combinations**: Hybrid genres like Action-Comedy could attract a wide range of viewers, combining popular genres in a single film.\n",
    "\n",
    "\n",
    "### 7. Document Limitations and Future Work\n",
    "\n",
    "I've highlighted limitations (e.g., limited data on recent movies, potential bias in genre labels) and suggest areas for future research.\n",
    "\n",
    "\n",
    "### Limitations and Future Work\n",
    "\n",
    "1. **Data Limitations**: Some genres are underrepresented in recent years, possibly affecting trend analysis.\n",
    "2. **Potential Bias**: IMDb ratings may reflect a subset of audience preferences and could vary by region.\n",
    "3. **Future Work**: Including revenue data would enable a more comprehensive analysis of genre profitability.\n",
    "\n"
   ]
  },
  {
   "cell_type": "code",
   "execution_count": null,
   "metadata": {},
   "outputs": [],
   "source": []
  }
 ],
 "metadata": {
  "kernelspec": {
   "display_name": "learn-env",
   "language": "python",
   "name": "python3"
  },
  "language_info": {
   "codemirror_mode": {
    "name": "ipython",
    "version": 3
   },
   "file_extension": ".py",
   "mimetype": "text/x-python",
   "name": "python",
   "nbconvert_exporter": "python",
   "pygments_lexer": "ipython3",
   "version": "3.8.5"
  }
 },
 "nbformat": 4,
 "nbformat_minor": 2
}
